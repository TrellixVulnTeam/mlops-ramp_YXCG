{
 "cells": [
  {
   "cell_type": "markdown",
   "metadata": {},
   "source": [
    "# [모듈 3-1] 프로젝트에 파이프라인 추가하기\n",
    "1. pipelines 폴더에 farud 폴더 추가, abalon 폴더를 붙여넣기\n",
    "2. dataset, config을 pipeline bucket에 복사하기\n",
    "3. 모듈 2에서 만든 코드를 pipeline.py에 적용하기\n",
    "    * ag_model.py 복사\n",
    "    * src 폴더 복사\n",
    "    * pipeline.py 수정\n",
    "        - 모듈 2 노트북 코드 적용\n",
    "4. codebuild-buildspec.yml 수정하기\n",
    "    * module-name을 pipelines.fraud.pipeline 으로 변경 \n",
    "5. build repository 커밋/푸쉬 하기\n",
    "    * echo '.ipynb_checkpoints' >> .gitignore 수행하여 노트북 임시파일 제외\n",
    "    "
   ]
  },
  {
   "cell_type": "markdown",
   "metadata": {},
   "source": [
    "## SageMaker Project에 farud 폴더 추가 (정답)"
   ]
  },
  {
   "cell_type": "code",
   "execution_count": 5,
   "metadata": {},
   "outputs": [],
   "source": [
    "project_name = 'ramp-test'\n",
    "project_id = 'p-j9tenj9epnjw'\n",
    "project_path = f'~/{project_name}-{project_id}/sagemaker-{project_name}-{project_id}-modelbuild'"
   ]
  },
  {
   "cell_type": "code",
   "execution_count": 6,
   "metadata": {},
   "outputs": [],
   "source": [
    "!cp ./fraud {project_path}/pipelines/ -r"
   ]
  },
  {
   "cell_type": "code",
   "execution_count": null,
   "metadata": {},
   "outputs": [],
   "source": []
  }
 ],
 "metadata": {
  "instance_type": "ml.t3.medium",
  "kernelspec": {
   "display_name": "Python 3 (Data Science)",
   "language": "python",
   "name": "python3__SAGEMAKER_INTERNAL__arn:aws:sagemaker:us-east-1:081325390199:image/datascience-1.0"
  },
  "language_info": {
   "codemirror_mode": {
    "name": "ipython",
    "version": 3
   },
   "file_extension": ".py",
   "mimetype": "text/x-python",
   "name": "python",
   "nbconvert_exporter": "python",
   "pygments_lexer": "ipython3",
   "version": "3.7.10"
  }
 },
 "nbformat": 4,
 "nbformat_minor": 4
}
