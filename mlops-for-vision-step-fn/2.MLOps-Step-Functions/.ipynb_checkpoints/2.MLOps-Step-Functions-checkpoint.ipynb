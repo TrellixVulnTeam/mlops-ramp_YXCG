{
 "cells": [
  {
   "cell_type": "markdown",
   "id": "baa6707a",
   "metadata": {},
   "source": [
    "# Step Function 기반 MLOps 구축하기"
   ]
  },
  {
   "cell_type": "markdown",
   "id": "f3e7f7f7",
   "metadata": {},
   "source": [
    "## 1. 사전 준비 과정\n",
    "### 1.1 MLOps 구현을 위한 Acount 정보 가져오기"
   ]
  },
  {
   "cell_type": "code",
   "execution_count": 5,
   "id": "fed40e0a",
   "metadata": {},
   "outputs": [],
   "source": [
    "import boto3\n",
    "import json\n",
    "from sagemaker import get_execution_role\n",
    "from time import strftime\n",
    "import calendar\n",
    "import time"
   ]
  },
  {
   "cell_type": "code",
   "execution_count": 6,
   "id": "d5012d06",
   "metadata": {},
   "outputs": [],
   "source": [
    "iam_client = boto3.client('iam')\n",
    "role=get_execution_role()\n",
    "base_role_name=role.split('/')[-1]"
   ]
  },
  {
   "cell_type": "code",
   "execution_count": 7,
   "id": "585e20ba",
   "metadata": {},
   "outputs": [],
   "source": [
    "sts_client = boto3.client(\"sts\")\n",
    "account_id = sts_client.get_caller_identity()['Account']"
   ]
  },
  {
   "cell_type": "code",
   "execution_count": 9,
   "id": "ea451d84-a5b9-4ada-9a0d-c1b9ed88463e",
   "metadata": {},
   "outputs": [
    {
     "data": {
      "text/plain": [
       "'arn:aws:iam::806174985048:role/service-role/AmazonSageMaker-ExecutionRole-20201218T151409'"
      ]
     },
     "execution_count": 9,
     "metadata": {},
     "output_type": "execute_result"
    }
   ],
   "source": [
    "role"
   ]
  },
  {
   "cell_type": "markdown",
   "id": "671b960a",
   "metadata": {},
   "source": [
    "### 1.2 MLOps에서 활용할 Policy 설정하기\n",
    "\n",
    "해당 HOL에서 구현할 아키텍처에 필요한 managed policy를 아래와 같이 정의합니다. Role을 별도 생성하셔도 되지만 HOL의 편의성을 위해 SageMaker Notebook/Studio와 동일한 Role에 policy를 추가하여 계속 활용합니다."
   ]
  },
  {
   "cell_type": "code",
   "execution_count": 26,
   "id": "e5bf4d27",
   "metadata": {},
   "outputs": [
    {
     "data": {
      "text/plain": [
       "{'ResponseMetadata': {'RequestId': 'a454bde3-9199-4fde-a856-4d1f6aae876c',\n",
       "  'HTTPStatusCode': 200,\n",
       "  'HTTPHeaders': {'x-amzn-requestid': 'a454bde3-9199-4fde-a856-4d1f6aae876c',\n",
       "   'content-type': 'text/xml',\n",
       "   'content-length': '212',\n",
       "   'date': 'Tue, 12 Jul 2022 14:23:58 GMT'},\n",
       "  'RetryAttempts': 0}}"
      ]
     },
     "execution_count": 26,
     "metadata": {},
     "output_type": "execute_result"
    }
   ],
   "source": [
    "iam_client.attach_role_policy(\n",
    "    RoleName=base_role_name,\n",
    "    PolicyArn='arn:aws:iam::aws:policy/AmazonEventBridgeFullAccess'\n",
    ")\n",
    "iam_client.attach_role_policy(\n",
    "    RoleName=base_role_name,\n",
    "    PolicyArn='arn:aws:iam::aws:policy/AWSLambda_FullAccess'\n",
    ")\n",
    "iam_client.attach_role_policy(\n",
    "    RoleName=base_role_name,\n",
    "    PolicyArn='arn:aws:iam::aws:policy/AWSCodeCommitFullAccess'\n",
    ")\n",
    "iam_client.attach_role_policy(\n",
    "    RoleName=base_role_name,\n",
    "    PolicyArn='arn:aws:iam::aws:policy/SecretsManagerReadWrite'\n",
    ")"
   ]
  },
  {
   "cell_type": "markdown",
   "id": "a4bb7a04",
   "metadata": {},
   "source": [
    "### 1.3 CodeCommit 생성\n",
    "CodeCommit 콘솔에 가서 CodeCommit을 생성합니다. 학습 시 사용했던 CodeCommit을 활용하셔도 됩니다.\n",
    "\n",
    "\n",
    "![codecommit-intro.png](../figures/codecommit-intro.png)"
   ]
  },
  {
   "cell_type": "markdown",
   "id": "4042828b",
   "metadata": {},
   "source": [
    "### 1.4 CodeCommit 관련 Credentials 생성 및 Secret Manager에 저장하기"
   ]
  },
  {
   "cell_type": "markdown",
   "id": "788044d9",
   "metadata": {},
   "source": [
    "#### - CodeCommit Credentials"
   ]
  },
  {
   "cell_type": "code",
   "execution_count": 21,
   "id": "5010638f",
   "metadata": {},
   "outputs": [],
   "source": [
    "user_name = 'leeyudon-dev' ## ==> IAM에서 사용자 아이디 확인\n",
    "codecommit_cred = 'codecommit-cred'"
   ]
  },
  {
   "cell_type": "code",
   "execution_count": 22,
   "id": "df458649",
   "metadata": {},
   "outputs": [
    {
     "name": "stdout",
     "output_type": "stream",
     "text": [
      "ServiceUserName : leeyudon-dev-at-806174985048 \n",
      "ServicePassword : ssbbGmRz38D/XQ4xg2ghtvGjgI29SiBiv16uzUpIKCg=\n"
     ]
    }
   ],
   "source": [
    "try:\n",
    "    response = iam_client.list_service_specific_credentials(\n",
    "        UserName=user_name,\n",
    "        ServiceName='codecommit.amazonaws.com'\n",
    "    )\n",
    "    if len(response['ServiceSpecificCredentials']) > 0:\n",
    "        response = iam_client.delete_service_specific_credential(\n",
    "            UserName=user_name,\n",
    "            ServiceSpecificCredentialId=response['ServiceSpecificCredentials'][-1]['ServiceSpecificCredentialId']\n",
    "        )\n",
    "except:\n",
    "    print(\"Create new codecommit crendentials\")\n",
    "    pass\n",
    "finally:\n",
    "    response = iam_client.create_service_specific_credential(\n",
    "        UserName=user_name,\n",
    "        ServiceName='codecommit.amazonaws.com'\n",
    "    )\n",
    "    ServiceUserName = response['ServiceSpecificCredential']['ServiceUserName']\n",
    "    ServicePassword = response['ServiceSpecificCredential']['ServicePassword']\n",
    "print(f\"ServiceUserName : {ServiceUserName} \\nServicePassword : {ServicePassword}\")"
   ]
  },
  {
   "cell_type": "markdown",
   "id": "ee1ff7f1",
   "metadata": {},
   "source": [
    "#### - Secret Manager (Optional)\n",
    "CodeCommit의 Credentials 정보를 Secret Manager에 Key, Value로 넣어놓고 안전하게 사용합니다."
   ]
  },
  {
   "cell_type": "code",
   "execution_count": 23,
   "id": "eee1fc46",
   "metadata": {},
   "outputs": [],
   "source": [
    "sec_client = boto3.client('secretsmanager')"
   ]
  },
  {
   "cell_type": "code",
   "execution_count": 24,
   "id": "a4be61fd",
   "metadata": {},
   "outputs": [],
   "source": [
    "secret_string = json.dumps({\n",
    "      \"username\": ServiceUserName,\n",
    "      \"password\": ServicePassword\n",
    "    })"
   ]
  },
  {
   "cell_type": "code",
   "execution_count": 28,
   "id": "095883c5",
   "metadata": {},
   "outputs": [],
   "source": [
    "sec_list = sec_client.list_secrets()['SecretList']\n",
    "\n",
    "if len(sec_list) == 0:\n",
    "    sec_response = sec_client.create_secret(\n",
    "        Name=codecommit_cred,\n",
    "        Description='This credential uses git_config for SageMaker in Lambda',\n",
    "        SecretString=secret_string,\n",
    "        Tags=[\n",
    "            {\n",
    "                'Key': 'leeyudon-dev',\n",
    "                'Value': 'codecommit_credentials'\n",
    "            },\n",
    "        ]\n",
    "    )\n",
    "else:\n",
    "    sec_response = sec_client.update_secret(\n",
    "        SecretId=sec_list[0]['ARN'],\n",
    "        SecretString=secret_string\n",
    "    )"
   ]
  },
  {
   "cell_type": "markdown",
   "id": "66fc911f",
   "metadata": {},
   "source": [
    "## 2. MLOps 구성하기"
   ]
  },
  {
   "cell_type": "markdown",
   "id": "b1fd9e44",
   "metadata": {},
   "source": [
    "### 2.1 Create Step functions\n",
    "\n",
    "- step_functions 폴더 내의 mlops-yolov5.json을 import하여 기존 구성한 base definition을 활용합니다.\n",
    "\n",
    "![step-functions.png](../figures/step-functions.png)"
   ]
  },
  {
   "cell_type": "markdown",
   "id": "68845db6",
   "metadata": {},
   "source": [
    "### 2.2 Step functions의 Role에 대한 정책(Policy) 추가\n",
    "- 기본적으로 Lambda를 이용하여 AWS 의 SageMaker 등을 활용할 예정이므로 Step functions을 실행하는 Role에는 LambdaFullAccess 정책이 추가되어야 합니다.\n",
    "\n",
    "![step-functions-role.png](../figures/step-functions-role.png)"
   ]
  },
  {
   "cell_type": "markdown",
   "id": "655b4220",
   "metadata": {},
   "source": [
    "## 3. Step Functions에 활용할 Lambda 함수 생성\n",
    "### 3.1 Start-Training-Job의 Lambda 생성"
   ]
  },
  {
   "cell_type": "code",
   "execution_count": 13,
   "id": "00d8ea6e",
   "metadata": {},
   "outputs": [],
   "source": [
    "!mkdir ./1-Start-Training-Job"
   ]
  },
  {
   "cell_type": "code",
   "execution_count": 1,
   "id": "897419be",
   "metadata": {},
   "outputs": [
    {
     "name": "stdout",
     "output_type": "stream",
     "text": [
      "Overwriting 1-Start-Training-Job/sm_training_job.py\n"
     ]
    }
   ],
   "source": [
    "%%writefile 1-Start-Training-Job/sm_training_job.py\n",
    "\n",
    "import json\n",
    "import boto3\n",
    "import os\n",
    "from time import strftime\n",
    "import subprocess\n",
    "import sagemaker\n",
    "\n",
    "import datetime\n",
    "import glob\n",
    "import os\n",
    "import time\n",
    "import warnings\n",
    "\n",
    "from sagemaker.pytorch import PyTorch\n",
    "\n",
    "from smexperiments.experiment import Experiment\n",
    "from smexperiments.trial import Trial\n",
    "\n",
    "import base64\n",
    "from botocore.exceptions import ClientError\n",
    "\n",
    "\n",
    "instance_type = os.environ[\"INSTANCE_TYPE\"]\n",
    "\n",
    "\n",
    "def lambda_handler(event, context):\n",
    "    role = 'arn:aws:iam::${account_id}:role/service-role/AmazonSageMaker-ExecutionRole-{}'          ### <== 1. Role 추가\n",
    "    \n",
    "    sagemaker_session = sagemaker.Session()\n",
    "    \n",
    "    experiment_name = 'yolov5-poc-exp1'                                                             ### <== 2. Experiment 명\n",
    "    \n",
    "    instance_count = 1\n",
    "    do_spot_training = False\n",
    "    max_wait = None\n",
    "    max_run = 1*60*60\n",
    "    \n",
    "    ## SageMaker Experiments Setting\n",
    "    try:\n",
    "        sm_experiment = Experiment.load(experiment_name)\n",
    "    except:\n",
    "        sm_experiment = Experiment.create(\n",
    "            experiment_name=experiment_name,\n",
    "            tags=[{'Key': 'model-name', 'Value': 'yolov5'}]\n",
    "        )    \n",
    "    \n",
    "    ## Trials Setting\n",
    "    create_date = strftime(\"%m%d-%H%M%s\")    \n",
    "    spot = 's' if do_spot_training else 'd'\n",
    "    i_tag = instance_type.replace(\".\",\"-\")\n",
    "    trial = \"-\".join([i_tag,str(instance_count),spot])\n",
    "       \n",
    "    sm_trial = Trial.create(trial_name=f'{experiment_name}-{trial}-{create_date}',\n",
    "                            experiment_name=experiment_name)\n",
    "\n",
    "    job_name = f'{sm_trial.trial_name}'\n",
    "    \n",
    "    #TODO: use the bucket name\n",
    "    bucket = ''                                                             ### <== 3. 사용할 Bucket 명\n",
    "    code_location = f's3://{bucket}/yolov5/sm_codes'\n",
    "    output_path = f's3://{bucket}/yolov5/output' \n",
    "    s3_log_path = f's3://{bucket}/yolov5/tf_logs'\n",
    "    \n",
    "    hyperparameters = {\n",
    "        'data': 'data.yaml',\n",
    "        'cfg': 'yolov5s.yaml',\n",
    "        'weights': 'weights/yolov5s.pt',\n",
    "        'batch-size': 128,\n",
    "        'epochs': 3,\n",
    "        'project': '/opt/ml/model',\n",
    "        'workers': 8,\n",
    "        'freeze': 10\n",
    "    }\n",
    "    \n",
    "    \n",
    "    s3_data_path = f's3://{bucket}/yolov5/BCCD'\n",
    "    checkpoint_s3_uri = f's3://{bucket}/poc_yolov5/checkpoints'\n",
    "    \n",
    "    distribution = {}\n",
    "\n",
    "    if hyperparameters.get('sagemakerdp') and hyperparameters['sagemakerdp']:\n",
    "        train_job_name = 'smdp-dist'\n",
    "        distribution[\"smdistributed\"]={ \n",
    "                            \"dataparallel\": {\n",
    "                                \"enabled\": True\n",
    "                            }\n",
    "                    }\n",
    "\n",
    "    else:\n",
    "        distribution[\"mpi\"]={\"enabled\": True}\n",
    "\n",
    "    if do_spot_training:\n",
    "        max_wait = max_run\n",
    "\n",
    "    \n",
    "    secret=get_secret()\n",
    "    \n",
    "    ## \n",
    "    code_commit_repo = f'https://git-codecommit.${region}.amazonaws.com/v1/repos/${git_repo_name}'  ### <== 5. source codecommit repository\n",
    "    \n",
    "    git_config = {'repo': code_commit_repo,\n",
    "                  'branch': 'main',\n",
    "                  'username': secret['username'],\n",
    "                  'password': secret['password']}\n",
    "    \n",
    "    source_dir = 'yolov5'\n",
    "    \n",
    "    estimator = PyTorch(\n",
    "        entry_point='train.py',\n",
    "        source_dir=source_dir,\n",
    "        git_config=git_config,\n",
    "        role=role,\n",
    "        sagemaker_session=sagemaker_session,\n",
    "        instance_count=instance_count,\n",
    "        instance_type=instance_type,\n",
    "        volume_size=1024,\n",
    "        code_location = code_location,\n",
    "        output_path=output_path,\n",
    "        hyperparameters=hyperparameters,\n",
    "        distribution=distribution,\n",
    "        disable_profiler=True,\n",
    "        debugger_hook_config=False,\n",
    "        max_run=max_run,\n",
    "        use_spot_instances=do_spot_training,\n",
    "        max_wait=max_wait,\n",
    "        checkpoint_s3_uri=checkpoint_s3_uri,\n",
    "    )\n",
    "    \n",
    "    estimator.fit(\n",
    "        inputs={'yolov5_input': s3_data_path},\n",
    "        job_name=job_name,\n",
    "        wait=False,\n",
    "    )\n",
    "    \n",
    "    event['training_job_name'] = job_name\n",
    "    event['stage'] = 'Training'\n",
    "    \n",
    "    return event\n",
    " \n",
    "\n",
    "def get_secret():\n",
    "\n",
    "    secret_name = f\"arn:aws:secretsmanager:${region}:${account-id}:secret:${secret-manager-name}\"  ### <== 6. Secret Manager ARN 정보\n",
    "    \n",
    "    region_name = \"ap-northeast-2\"                                                                ### <== 7. region 명\n",
    "\n",
    "    secret = {}\n",
    "    # Create a Secrets Manager client\n",
    "    session = boto3.session.Session()\n",
    "    client = session.client(\n",
    "        service_name='secretsmanager',\n",
    "        region_name=region_name\n",
    "    )\n",
    "\n",
    "    # In this sample we only handle the specific exceptions for the 'GetSecretValue' API.\n",
    "    # See https://docs.aws.amazon.com/secretsmanager/latest/apireference/API_GetSecretValue.html\n",
    "    # We rethrow the exception by default.\n",
    "\n",
    "    get_secret_value_response = client.get_secret_value(\n",
    "        SecretId=secret_name\n",
    "    )\n",
    "        \n",
    "    if 'SecretString' in get_secret_value_response:\n",
    "        secret = get_secret_value_response['SecretString']\n",
    "        secret = json.loads(secret)\n",
    "    else:\n",
    "        print(\"secret is not defined. Checking the Secrets Manager\")\n",
    "\n",
    "    return secret\n",
    "\n"
   ]
  },
  {
   "cell_type": "code",
   "execution_count": 2,
   "id": "03541842",
   "metadata": {},
   "outputs": [
    {
     "name": "stdout",
     "output_type": "stream",
     "text": [
      "Overwriting 1-Start-Training-Job/Dockerfile\n"
     ]
    }
   ],
   "source": [
    "%%writefile 1-Start-Training-Job/Dockerfile\n",
    "\n",
    "# Define function directory\n",
    "ARG FUNCTION_DIR=\"/function\"\n",
    "\n",
    "FROM python:buster as build-image\n",
    "\n",
    "# Install aws-lambda-cpp build dependencies\n",
    "RUN apt-get update && \\\n",
    "  apt-get install -y \\\n",
    "  g++ \\\n",
    "  make \\\n",
    "  cmake \\\n",
    "  unzip \\\n",
    "  git \\\n",
    "  libcurl4-openssl-dev\n",
    "\n",
    "# Include global arg in this stage of the build\n",
    "ARG FUNCTION_DIR\n",
    "# Create function directory\n",
    "RUN mkdir -p ${FUNCTION_DIR}\n",
    "\n",
    "# Copy function code\n",
    "COPY sm_training_job.py ${FUNCTION_DIR}\n",
    "# COPY git_lambda ${FUNCTION_DIR}/git_lambda\n",
    "# COPY yolov5 ${FUNCTION_DIR}/yolov5\n",
    "\n",
    "# Install the runtime interface client\n",
    "RUN pip install \\\n",
    "        --target ${FUNCTION_DIR} \\\n",
    "        awslambdaric sagemaker smdebug sagemaker-experiments\n",
    "\n",
    "# Multi-stage build: grab a fresh copy of the base image\n",
    "FROM python:buster\n",
    "\n",
    "# Include global arg in this stage of the build\n",
    "ARG FUNCTION_DIR\n",
    "# Set working directory to function root directory\n",
    "WORKDIR ${FUNCTION_DIR}\n",
    "\n",
    "# Copy in the build image dependencies\n",
    "COPY --from=build-image ${FUNCTION_DIR} ${FUNCTION_DIR}\n",
    "\n",
    "ENTRYPOINT [ \"/usr/local/bin/python\", \"-m\", \"awslambdaric\" ]\n",
    "CMD [ \"sm_training_job.lambda_handler\" ]"
   ]
  },
  {
   "cell_type": "markdown",
   "id": "504bd044",
   "metadata": {},
   "source": [
    "#### - Role 정보"
   ]
  },
  {
   "cell_type": "code",
   "execution_count": 31,
   "id": "c14ed4d8",
   "metadata": {},
   "outputs": [
    {
     "data": {
      "text/plain": [
       "'arn:aws:iam::806174985048:role/service-role/AmazonSageMaker-ExecutionRole-20201218T151409'"
      ]
     },
     "execution_count": 31,
     "metadata": {},
     "output_type": "execute_result"
    }
   ],
   "source": [
    "import sagemaker\n",
    "role = sagemaker.get_execution_role()\n",
    "role"
   ]
  },
  {
   "cell_type": "markdown",
   "id": "180839e6",
   "metadata": {},
   "source": [
    "#### - Secret Manager ARN 정보"
   ]
  },
  {
   "cell_type": "code",
   "execution_count": 32,
   "id": "c802a490",
   "metadata": {},
   "outputs": [
    {
     "name": "stdout",
     "output_type": "stream",
     "text": [
      "Stored 'sec_arn' (str)\n"
     ]
    },
    {
     "data": {
      "text/plain": [
       "'arn:aws:secretsmanager:ap-northeast-2:806174985048:secret:codecommit-cred-vgz1KJ'"
      ]
     },
     "execution_count": 32,
     "metadata": {},
     "output_type": "execute_result"
    }
   ],
   "source": [
    "sec_arn = sec_response['ARN']\n",
    "%store sec_arn\n",
    "sec_arn"
   ]
  },
  {
   "cell_type": "code",
   "execution_count": 33,
   "id": "c100bd19",
   "metadata": {},
   "outputs": [],
   "source": [
    "%store -r"
   ]
  },
  {
   "cell_type": "code",
   "execution_count": 39,
   "id": "2eb3ee3a-fbe2-4b00-88ab-1b0902f76d1a",
   "metadata": {},
   "outputs": [],
   "source": [
    "bucket='yudong-data'\n",
    "code_commit_repo = 'sm_yolov5'"
   ]
  },
  {
   "cell_type": "code",
   "execution_count": 40,
   "id": "a0ad1f0a",
   "metadata": {},
   "outputs": [
    {
     "name": "stdout",
     "output_type": "stream",
     "text": [
      "bucket : yudong-data\n",
      "code_commit_repo : sm_yolov5\n"
     ]
    }
   ],
   "source": [
    "print(f\"bucket : {bucket}\\ncode_commit_repo : {code_commit_repo}\")"
   ]
  },
  {
   "cell_type": "markdown",
   "id": "6270d1a5",
   "metadata": {},
   "source": [
    "#### - Training job의 lambda_function 생성\n",
    "- 기존 Yolov5의 학습작업의 실행 노트북에서 작성한 학습 클러스터의 정의와 실행 명령어를 그대로 사용하시면 됩니다.\n",
    "- 학습 코드는 CodeCommit에 push 된 코드를 가져와서 학습을 실행하게 됩니다."
   ]
  },
  {
   "cell_type": "markdown",
   "id": "f4964f07",
   "metadata": {},
   "source": [
    "#### - Lambda Container Image 생성 후 ECR Push하기"
   ]
  },
  {
   "cell_type": "code",
   "execution_count": 3,
   "id": "e48bc37b",
   "metadata": {},
   "outputs": [
    {
     "name": "stdout",
     "output_type": "stream",
     "text": [
      "/home/ec2-user/SageMaker/mlops-ramp/mlops-for-vision-step-fn/2.MLOps-Step-Functions/1-Start-Training-Job\n",
      "Sending build context to Docker daemon  8.704kB\n",
      "Step 1/13 : ARG FUNCTION_DIR=\"/function\"\n",
      "Step 2/13 : FROM python:buster as build-image\n",
      "buster: Pulling from library/python\n",
      "80b89a2b88b2: Pulling fs layer\n",
      "5b0405f798f5: Pulling fs layer\n",
      "ab80b2b0494a: Pulling fs layer\n",
      "bb827974c1cb: Pulling fs layer\n",
      "be554c4b061a: Pulling fs layer\n",
      "da90315045b8: Pulling fs layer\n",
      "a6da84a95a13: Pulling fs layer\n",
      "43d59a1d23b8: Pulling fs layer\n",
      "bbf5001b3e05: Pulling fs layer\n",
      "be554c4b061a: Waiting\n",
      "da90315045b8: Waiting\n",
      "a6da84a95a13: Waiting\n",
      "43d59a1d23b8: Waiting\n",
      "bbf5001b3e05: Waiting\n",
      "bb827974c1cb: Waiting\n",
      "ab80b2b0494a: Verifying Checksum\n",
      "ab80b2b0494a: Download complete\n",
      "5b0405f798f5: Verifying Checksum\n",
      "5b0405f798f5: Download complete\n",
      "80b89a2b88b2: Verifying Checksum\n",
      "80b89a2b88b2: Download complete\n",
      "bb827974c1cb: Verifying Checksum\n",
      "bb827974c1cb: Download complete\n",
      "da90315045b8: Verifying Checksum\n",
      "da90315045b8: Download complete\n",
      "80b89a2b88b2: Pull complete\n",
      "43d59a1d23b8: Verifying Checksum\n",
      "43d59a1d23b8: Download complete\n",
      "a6da84a95a13: Verifying Checksum\n",
      "a6da84a95a13: Download complete\n",
      "5b0405f798f5: Pull complete\n",
      "ab80b2b0494a: Pull complete\n",
      "be554c4b061a: Verifying Checksum\n",
      "be554c4b061a: Download complete\n",
      "bbf5001b3e05: Verifying Checksum\n",
      "bbf5001b3e05: Download complete\n",
      "bb827974c1cb: Pull complete\n",
      "be554c4b061a: Pull complete\n",
      "da90315045b8: Pull complete\n",
      "a6da84a95a13: Pull complete\n",
      "43d59a1d23b8: Pull complete\n",
      "bbf5001b3e05: Pull complete\n",
      "Digest: sha256:72b7a1703de3336d514e28d5c7a76eccdc577462f4fb7558dc0f20bae4d543f8\n",
      "Status: Downloaded newer image for python:buster\n",
      " ---> 18f5b54c9287\n",
      "Step 3/13 : RUN apt-get update &&   apt-get install -y   g++   make   cmake   unzip   git   libcurl4-openssl-dev\n",
      " ---> Running in e5df6a203197\n",
      "Get:1 http://deb.debian.org/debian buster InRelease [122 kB]\n",
      "Get:2 http://deb.debian.org/debian-security buster/updates InRelease [65.4 kB]\n",
      "Get:3 http://deb.debian.org/debian buster-updates InRelease [51.9 kB]\n",
      "Get:4 http://deb.debian.org/debian buster/main amd64 Packages [7911 kB]\n",
      "Get:5 http://deb.debian.org/debian-security buster/updates/main amd64 Packages [334 kB]\n",
      "Get:6 http://deb.debian.org/debian buster-updates/main amd64 Packages [8788 B]\n",
      "Fetched 8492 kB in 2s (3933 kB/s)\n",
      "Reading package lists...\n",
      "Reading package lists...\n",
      "Building dependency tree...\n",
      "Reading state information...\n",
      "libcurl4-openssl-dev is already the newest version (7.64.0-4+deb10u2).\n",
      "g++ is already the newest version (4:8.3.0-1).\n",
      "git is already the newest version (1:2.20.1-2+deb10u3).\n",
      "make is already the newest version (4.2.1-1.2).\n",
      "unzip is already the newest version (6.0-23+deb10u2).\n",
      "Suggested packages:\n",
      "  cmake-doc ninja-build lrzip\n",
      "The following NEW packages will be installed:\n",
      "  cmake cmake-data libarchive13 libjsoncpp1 librhash0 libuv1\n",
      "0 upgraded, 6 newly installed, 0 to remove and 0 not upgraded.\n",
      "Need to get 5578 kB of archives.\n",
      "After this operation, 26.9 MB of additional disk space will be used.\n",
      "Get:1 http://deb.debian.org/debian buster/main amd64 cmake-data all 3.13.4-1 [1476 kB]\n",
      "Get:2 http://deb.debian.org/debian buster/main amd64 libarchive13 amd64 3.3.3-4+deb10u1 [313 kB]\n",
      "Get:3 http://deb.debian.org/debian buster/main amd64 libjsoncpp1 amd64 1.7.4-3 [75.6 kB]\n",
      "Get:4 http://deb.debian.org/debian buster/main amd64 librhash0 amd64 1.3.8-1 [122 kB]\n",
      "Get:5 http://deb.debian.org/debian buster/main amd64 libuv1 amd64 1.24.1-1+deb10u1 [110 kB]\n",
      "Get:6 http://deb.debian.org/debian buster/main amd64 cmake amd64 3.13.4-1 [3480 kB]\n",
      "\u001b[91mdebconf: delaying package configuration, since apt-utils is not installed\n",
      "\u001b[0mFetched 5578 kB in 0s (92.5 MB/s)\n",
      "Selecting previously unselected package cmake-data.\n",
      "(Reading database ... 24614 files and directories currently installed.)\n",
      "Preparing to unpack .../0-cmake-data_3.13.4-1_all.deb ...\n",
      "Unpacking cmake-data (3.13.4-1) ...\n",
      "Selecting previously unselected package libarchive13:amd64.\n",
      "Preparing to unpack .../1-libarchive13_3.3.3-4+deb10u1_amd64.deb ...\n",
      "Unpacking libarchive13:amd64 (3.3.3-4+deb10u1) ...\n",
      "Selecting previously unselected package libjsoncpp1:amd64.\n",
      "Preparing to unpack .../2-libjsoncpp1_1.7.4-3_amd64.deb ...\n",
      "Unpacking libjsoncpp1:amd64 (1.7.4-3) ...\n",
      "Selecting previously unselected package librhash0:amd64.\n",
      "Preparing to unpack .../3-librhash0_1.3.8-1_amd64.deb ...\n",
      "Unpacking librhash0:amd64 (1.3.8-1) ...\n",
      "Selecting previously unselected package libuv1:amd64.\n",
      "Preparing to unpack .../4-libuv1_1.24.1-1+deb10u1_amd64.deb ...\n",
      "Unpacking libuv1:amd64 (1.24.1-1+deb10u1) ...\n",
      "Selecting previously unselected package cmake.\n",
      "Preparing to unpack .../5-cmake_3.13.4-1_amd64.deb ...\n",
      "Unpacking cmake (3.13.4-1) ...\n",
      "Setting up libarchive13:amd64 (3.3.3-4+deb10u1) ...\n",
      "Setting up libuv1:amd64 (1.24.1-1+deb10u1) ...\n",
      "Setting up librhash0:amd64 (1.3.8-1) ...\n",
      "Setting up cmake-data (3.13.4-1) ...\n",
      "Setting up libjsoncpp1:amd64 (1.7.4-3) ...\n",
      "Setting up cmake (3.13.4-1) ...\n",
      "Processing triggers for libc-bin (2.28-10+deb10u1) ...\n",
      "Removing intermediate container e5df6a203197\n",
      " ---> 931e313edf72\n",
      "Step 4/13 : ARG FUNCTION_DIR\n",
      " ---> Running in bb045f8d3bd9\n",
      "Removing intermediate container bb045f8d3bd9\n",
      " ---> 006b3a94437d\n",
      "Step 5/13 : RUN mkdir -p ${FUNCTION_DIR}\n",
      " ---> Running in d95a6046403a\n",
      "Removing intermediate container d95a6046403a\n",
      " ---> eb8eaf5a5adc\n",
      "Step 6/13 : COPY sm_training_job.py ${FUNCTION_DIR}\n",
      " ---> cbe8efd3f7c6\n",
      "Step 7/13 : RUN pip install         --target ${FUNCTION_DIR}         awslambdaric sagemaker smdebug sagemaker-experiments\n",
      " ---> Running in 785df5d58f0e\n",
      "Collecting awslambdaric\n",
      "  Downloading awslambdaric-2.0.4-cp310-cp310-manylinux_2_17_x86_64.manylinux2014_x86_64.whl (338 kB)\n",
      "     ━━━━━━━━━━━━━━━━━━━━━━━━━━━━━━━━━━━━━━━ 338.5/338.5 KB 3.2 MB/s eta 0:00:00\n",
      "Collecting sagemaker\n",
      "  Downloading sagemaker-2.99.0.tar.gz (542 kB)\n",
      "     ━━━━━━━━━━━━━━━━━━━━━━━━━━━━━━━━━━━━━━━ 542.7/542.7 KB 5.3 MB/s eta 0:00:00\n",
      "  Preparing metadata (setup.py): started\n",
      "  Preparing metadata (setup.py): finished with status 'done'\n",
      "Collecting smdebug\n",
      "  Downloading smdebug-1.0.12-py2.py3-none-any.whl (270 kB)\n",
      "     ━━━━━━━━━━━━━━━━━━━━━━━━━━━━━━━━━━━━━━━ 270.1/270.1 KB 3.7 MB/s eta 0:00:00\n",
      "Collecting sagemaker-experiments\n",
      "  Downloading sagemaker_experiments-0.1.35-py3-none-any.whl (42 kB)\n",
      "     ━━━━━━━━━━━━━━━━━━━━━━━━━━━━━━━━━━━━━━━━ 42.2/42.2 KB 10.1 MB/s eta 0:00:00\n",
      "Collecting simplejson==3.17.2\n",
      "  Downloading simplejson-3.17.2.tar.gz (83 kB)\n",
      "     ━━━━━━━━━━━━━━━━━━━━━━━━━━━━━━━━━━━━━━━━ 83.2/83.2 KB 23.1 MB/s eta 0:00:00\n",
      "  Preparing metadata (setup.py): started\n",
      "  Preparing metadata (setup.py): finished with status 'done'\n",
      "Collecting attrs<22,>=20.3.0\n",
      "  Downloading attrs-21.4.0-py2.py3-none-any.whl (60 kB)\n",
      "     ━━━━━━━━━━━━━━━━━━━━━━━━━━━━━━━━━━━━━━━━ 60.6/60.6 KB 15.8 MB/s eta 0:00:00\n",
      "Collecting boto3<2.0,>=1.20.21\n",
      "  Downloading boto3-1.24.27-py3-none-any.whl (132 kB)\n",
      "     ━━━━━━━━━━━━━━━━━━━━━━━━━━━━━━━━━━━━━━ 132.5/132.5 KB 32.5 MB/s eta 0:00:00\n",
      "Collecting google-pasta\n",
      "  Downloading google_pasta-0.2.0-py3-none-any.whl (57 kB)\n",
      "     ━━━━━━━━━━━━━━━━━━━━━━━━━━━━━━━━━━━━━━━ 57.5/57.5 KB 389.4 kB/s eta 0:00:00\n",
      "Collecting numpy<2.0,>=1.9.0\n",
      "  Downloading numpy-1.23.1-cp310-cp310-manylinux_2_17_x86_64.manylinux2014_x86_64.whl (17.0 MB)\n",
      "     ━━━━━━━━━━━━━━━━━━━━━━━━━━━━━━━━━━━━━━━━ 17.0/17.0 MB 48.5 MB/s eta 0:00:00\n",
      "Collecting protobuf<4.0,>=3.1\n",
      "  Downloading protobuf-3.20.1-cp310-cp310-manylinux_2_12_x86_64.manylinux2010_x86_64.whl (1.1 MB)\n",
      "     ━━━━━━━━━━━━━━━━━━━━━━━━━━━━━━━━━━━━━━━━ 1.1/1.1 MB 10.8 MB/s eta 0:00:00\n",
      "Collecting protobuf3-to-dict<1.0,>=0.1.5\n",
      "  Downloading protobuf3-to-dict-0.1.5.tar.gz (3.5 kB)\n",
      "  Preparing metadata (setup.py): started\n",
      "  Preparing metadata (setup.py): finished with status 'done'\n",
      "Collecting smdebug_rulesconfig==1.0.1\n",
      "  Downloading smdebug_rulesconfig-1.0.1-py2.py3-none-any.whl (20 kB)\n",
      "Collecting importlib-metadata<5.0,>=1.4.0\n",
      "  Downloading importlib_metadata-4.12.0-py3-none-any.whl (21 kB)\n",
      "Collecting packaging>=20.0\n",
      "  Downloading packaging-21.3-py3-none-any.whl (40 kB)\n",
      "     ━━━━━━━━━━━━━━━━━━━━━━━━━━━━━━━━━━━━━━━━ 40.8/40.8 KB 4.2 MB/s eta 0:00:00\n",
      "Collecting pandas\n",
      "  Downloading pandas-1.4.3-cp310-cp310-manylinux_2_17_x86_64.manylinux2014_x86_64.whl (11.6 MB)\n",
      "     ━━━━━━━━━━━━━━━━━━━━━━━━━━━━━━━━━━━━━━━━ 11.6/11.6 MB 27.7 MB/s eta 0:00:00\n",
      "Collecting pathos\n",
      "  Downloading pathos-0.2.9-py3-none-any.whl (76 kB)\n",
      "     ━━━━━━━━━━━━━━━━━━━━━━━━━━━━━━━━━━━━━━━━ 76.9/76.9 KB 23.1 MB/s eta 0:00:00\n",
      "Collecting pyinstrument==3.4.2\n",
      "  Downloading pyinstrument-3.4.2-py2.py3-none-any.whl (83 kB)\n",
      "     ━━━━━━━━━━━━━━━━━━━━━━━━━━━━━━━━━━━━━━━ 83.3/83.3 KB 969.2 kB/s eta 0:00:00\n",
      "Collecting pyinstrument-cext>=0.2.2\n",
      "  Downloading pyinstrument_cext-0.2.4.tar.gz (4.8 kB)\n",
      "  Preparing metadata (setup.py): started\n",
      "  Preparing metadata (setup.py): finished with status 'done'\n",
      "Collecting jmespath<2.0.0,>=0.7.1\n",
      "  Downloading jmespath-1.0.1-py3-none-any.whl (20 kB)\n",
      "Collecting s3transfer<0.7.0,>=0.6.0\n",
      "  Downloading s3transfer-0.6.0-py3-none-any.whl (79 kB)\n",
      "     ━━━━━━━━━━━━━━━━━━━━━━━━━━━━━━━━━━━━━━━━ 79.6/79.6 KB 20.5 MB/s eta 0:00:00\n",
      "Collecting botocore<1.28.0,>=1.27.27\n",
      "  Downloading botocore-1.27.27-py3-none-any.whl (9.0 MB)\n",
      "     ━━━━━━━━━━━━━━━━━━━━━━━━━━━━━━━━━━━━━━━━ 9.0/9.0 MB 36.6 MB/s eta 0:00:00\n",
      "Collecting zipp>=0.5\n",
      "  Downloading zipp-3.8.1-py3-none-any.whl (5.6 kB)\n",
      "Collecting pyparsing!=3.0.5,>=2.0.2\n",
      "  Downloading pyparsing-3.0.9-py3-none-any.whl (98 kB)\n",
      "     ━━━━━━━━━━━━━━━━━━━━━━━━━━━━━━━━━━━━━━━━ 98.3/98.3 KB 28.0 MB/s eta 0:00:00\n",
      "Collecting six\n",
      "  Downloading six-1.16.0-py2.py3-none-any.whl (11 kB)\n",
      "Collecting python-dateutil>=2.8.1\n",
      "  Downloading python_dateutil-2.8.2-py2.py3-none-any.whl (247 kB)\n",
      "     ━━━━━━━━━━━━━━━━━━━━━━━━━━━━━━━━━━━━━━━ 247.7/247.7 KB 2.3 MB/s eta 0:00:00\n",
      "Collecting pytz>=2020.1\n",
      "  Downloading pytz-2022.1-py2.py3-none-any.whl (503 kB)\n",
      "     ━━━━━━━━━━━━━━━━━━━━━━━━━━━━━━━━━━━━━━━ 503.5/503.5 KB 4.1 MB/s eta 0:00:00\n",
      "Collecting ppft>=1.7.6.5\n",
      "  Downloading ppft-1.7.6.5-py2.py3-none-any.whl (52 kB)\n",
      "     ━━━━━━━━━━━━━━━━━━━━━━━━━━━━━━━━━━━━━━━━ 52.5/52.5 KB 15.3 MB/s eta 0:00:00\n",
      "Collecting pox>=0.3.1\n",
      "  Downloading pox-0.3.1-py2.py3-none-any.whl (28 kB)\n",
      "Collecting dill>=0.3.5.1\n",
      "  Downloading dill-0.3.5.1-py2.py3-none-any.whl (95 kB)\n",
      "     ━━━━━━━━━━━━━━━━━━━━━━━━━━━━━━━━━━━━━━━━ 95.8/95.8 KB 28.3 MB/s eta 0:00:00\n",
      "Collecting multiprocess>=0.70.13\n",
      "  Downloading multiprocess-0.70.13-py310-none-any.whl (133 kB)\n",
      "     ━━━━━━━━━━━━━━━━━━━━━━━━━━━━━━━━━━━━━━ 133.1/133.1 KB 29.0 MB/s eta 0:00:00\n",
      "Collecting urllib3<1.27,>=1.25.4\n",
      "  Downloading urllib3-1.26.10-py2.py3-none-any.whl (139 kB)\n",
      "     ━━━━━━━━━━━━━━━━━━━━━━━━━━━━━━━━━━━━━━ 139.2/139.2 KB 28.2 MB/s eta 0:00:00\n",
      "Building wheels for collected packages: simplejson, sagemaker, protobuf3-to-dict, pyinstrument-cext\n",
      "  Building wheel for simplejson (setup.py): started\n",
      "  Building wheel for simplejson (setup.py): finished with status 'done'\n",
      "  Created wheel for simplejson: filename=simplejson-3.17.2-cp310-cp310-linux_x86_64.whl size=134614 sha256=0cdd6ffa81c6fc9a2bcf8bb36ab17beaa9da55d6018bbff0c6ae894082c340a9\n",
      "  Stored in directory: /root/.cache/pip/wheels/4c/d2/65/e6ec94ca89c44483d8010d15e5fbead72b6411e01d26f90a31\n",
      "  Building wheel for sagemaker (setup.py): started\n",
      "  Building wheel for sagemaker (setup.py): finished with status 'done'\n",
      "  Created wheel for sagemaker: filename=sagemaker-2.99.0-py2.py3-none-any.whl size=756461 sha256=3759e92d0d6309ad9b3eaff544f74fd9b25a29f96be9d2e4a12087ebbe0e009c\n",
      "  Stored in directory: /root/.cache/pip/wheels/53/c6/2c/ec1be1f01cc32b42dbd444bdd3ae382681d86e5be54a784894\n",
      "  Building wheel for protobuf3-to-dict (setup.py): started\n",
      "  Building wheel for protobuf3-to-dict (setup.py): finished with status 'done'\n",
      "  Created wheel for protobuf3-to-dict: filename=protobuf3_to_dict-0.1.5-py3-none-any.whl size=4030 sha256=dd4513084be28e045ff9bd2dd8c1835a4361d153eeb09b5e1ff1664b30255f9a\n",
      "  Stored in directory: /root/.cache/pip/wheels/12/3e/42/e783cdd4e7b8fda9bfc472eeb465bc9041bda90a3dbece8d74\n",
      "  Building wheel for pyinstrument-cext (setup.py): started\n",
      "  Building wheel for pyinstrument-cext (setup.py): finished with status 'done'\n",
      "  Created wheel for pyinstrument-cext: filename=pyinstrument_cext-0.2.4-cp310-cp310-linux_x86_64.whl size=20157 sha256=65bab09871e0e3fa9b3d95f150f4b8c993b4467a468b32cb381c11967a8e1508\n",
      "  Stored in directory: /root/.cache/pip/wheels/0f/8b/7a/5f7fd1dd6d3cbb3d350d4c832c5e2f962687749f6d67d573a6\n",
      "Successfully built simplejson sagemaker protobuf3-to-dict pyinstrument-cext\n",
      "Installing collected packages: pytz, pyinstrument-cext, zipp, urllib3, smdebug_rulesconfig, six, simplejson, pyparsing, pyinstrument, protobuf, pox, numpy, jmespath, dill, attrs, python-dateutil, protobuf3-to-dict, ppft, packaging, multiprocess, importlib-metadata, google-pasta, awslambdaric, pathos, pandas, botocore, s3transfer, boto3, smdebug, sagemaker-experiments, sagemaker\n",
      "Successfully installed attrs-21.4.0 awslambdaric-2.0.4 boto3-1.24.27 botocore-1.27.27 dill-0.3.5.1 google-pasta-0.2.0 importlib-metadata-4.12.0 jmespath-1.0.1 multiprocess-0.70.13 numpy-1.23.1 packaging-21.3 pandas-1.4.3 pathos-0.2.9 pox-0.3.1 ppft-1.7.6.5 protobuf-3.20.1 protobuf3-to-dict-0.1.5 pyinstrument-3.4.2 pyinstrument-cext-0.2.4 pyparsing-3.0.9 python-dateutil-2.8.2 pytz-2022.1 s3transfer-0.6.0 sagemaker-2.99.0 sagemaker-experiments-0.1.35 simplejson-3.17.2 six-1.16.0 smdebug-1.0.12 smdebug_rulesconfig-1.0.1 urllib3-1.26.10 zipp-3.8.1\n",
      "\u001b[91mWARNING: Running pip as the 'root' user can result in broken permissions and conflicting behaviour with the system package manager. It is recommended to use a virtual environment instead: https://pip.pypa.io/warnings/venv\n",
      "\u001b[0m\u001b[91mWARNING: You are using pip version 22.0.4; however, version 22.1.2 is available.\n",
      "You should consider upgrading via the '/usr/local/bin/python -m pip install --upgrade pip' command.\n",
      "\u001b[0mRemoving intermediate container 785df5d58f0e\n",
      " ---> e9a85e4c8f42\n",
      "Step 8/13 : FROM python:buster\n",
      " ---> 18f5b54c9287\n",
      "Step 9/13 : ARG FUNCTION_DIR\n",
      " ---> Running in 876bc402542c\n",
      "Removing intermediate container 876bc402542c\n",
      " ---> 7ca4246f278a\n",
      "Step 10/13 : WORKDIR ${FUNCTION_DIR}\n",
      " ---> Running in b39bec63486e\n",
      "Removing intermediate container b39bec63486e\n",
      " ---> 5eb67bf8dc70\n",
      "Step 11/13 : COPY --from=build-image ${FUNCTION_DIR} ${FUNCTION_DIR}\n",
      " ---> 7343c9439fe4\n",
      "Step 12/13 : ENTRYPOINT [ \"/usr/local/bin/python\", \"-m\", \"awslambdaric\" ]\n",
      " ---> Running in c9d5906966dd\n",
      "Removing intermediate container c9d5906966dd\n",
      " ---> a3e010643d55\n",
      "Step 13/13 : CMD [ \"sm_training_job.lambda_handler\" ]\n",
      " ---> Running in 90a48f47196e\n",
      "Removing intermediate container 90a48f47196e\n",
      " ---> a99144288a59\n",
      "Successfully built a99144288a59\n",
      "Successfully tagged 806174985048.dkr.ecr.ap-northeast-2.amazonaws.com/lambda-yolo5-training:1.0\n",
      "Login Succeeded\n",
      "The push refers to repository [806174985048.dkr.ecr.ap-northeast-2.amazonaws.com/lambda-yolo5-training]\n",
      "541d1de3a5f0: Preparing\n",
      "6b043b838d0d: Preparing\n",
      "f51c8419e874: Preparing\n",
      "6dbcdf05322c: Preparing\n",
      "cdba34addff8: Preparing\n",
      "f6d434af1a4b: Preparing\n",
      "5339eeb11bed: Preparing\n",
      "4afd7e355699: Preparing\n",
      "92a02f6117f5: Preparing\n",
      "979117655379: Preparing\n",
      "86eecfa8066e: Preparing\n",
      "86eecfa8066e: Waiting\n",
      "92a02f6117f5: Waiting\n",
      "979117655379: Waiting\n",
      "5339eeb11bed: Waiting\n",
      "4afd7e355699: Waiting\n",
      "f6d434af1a4b: Waiting\n",
      "6dbcdf05322c: Layer already exists\n",
      "cdba34addff8: Layer already exists\n",
      "f51c8419e874: Layer already exists\n",
      "5339eeb11bed: Layer already exists\n",
      "f6d434af1a4b: Layer already exists\n",
      "4afd7e355699: Layer already exists\n",
      "92a02f6117f5: Layer already exists\n",
      "86eecfa8066e: Layer already exists\n",
      "979117655379: Layer already exists\n",
      "6b043b838d0d: Pushed\n",
      "541d1de3a5f0: Pushed\n",
      "1.0: digest: sha256:e49dc01184a2e937ceb5f5c825ba5a2e3a38647bd3f45fb6501efdc900f9351d size: 2636\n"
     ]
    },
    {
     "name": "stderr",
     "output_type": "stream",
     "text": [
      "WARNING! Using --password via the CLI is insecure. Use --password-stdin.\n",
      "WARNING! Your password will be stored unencrypted in /home/ec2-user/.docker/config.json.\n",
      "Configure a credential helper to remove this warning. See\n",
      "https://docs.docker.com/engine/reference/commandline/login/#credentials-store\n",
      "\n"
     ]
    }
   ],
   "source": [
    "%%bash\n",
    "cd ./1-Start-Training-Job\n",
    "echo $(pwd)\n",
    "container_name=lambda-yolo5-training\n",
    "account=$(aws sts get-caller-identity --query Account --output text)\n",
    "\n",
    "# Get the region defined in the current configuration (default to us-west-2 if none defined)\n",
    "region=$(aws configure get region)\n",
    "# region=${region:-us-west-2}\n",
    "\n",
    "fullname=\"${account}.dkr.ecr.${region}.amazonaws.com/${container_name}:1.0\"\n",
    "\n",
    "# If the repository doesn't exist in ECR, create it.\n",
    "aws ecr describe-repositories --repository-names \"${container_name}\" > /dev/null 2>&1\n",
    "if [ $? -ne 0 ]\n",
    "then\n",
    "    aws ecr create-repository --repository-name \"${container_name}\" > /dev/null\n",
    "fi\n",
    "\n",
    "# # Get the login command from ECR and execute it directly\n",
    "# $(aws ecr get-login-password --region us-west-2 | docker login --username AWS --password-stdin \"763104351884.dkr.ecr.us-west-2.amazonaws.com\")\n",
    "\n",
    "# Build the docker image locally with the image name and then push it to ECR\n",
    "# with the full name.\n",
    "docker build -f Dockerfile -t ${fullname} .\n",
    "# docker tag ${container_name} ${fullname}\n",
    "\n",
    "# Get the login command from ECR and execute it directly\n",
    "$(aws ecr get-login --region ${region} --no-include-email)\n",
    "docker push ${fullname}"
   ]
  },
  {
   "cell_type": "markdown",
   "id": "0ac88a96",
   "metadata": {},
   "source": [
    "#### - Lambda 함수 생성\n",
    "![lambda-container.png](../figures/lambda-container.png)\n"
   ]
  },
  {
   "cell_type": "markdown",
   "id": "c2792a64",
   "metadata": {},
   "source": [
    "#### - Lambda Role 설정\n",
    "Role은 기본적인 Role을 생성하신 후, 필요한 Policy를 추가하도록 합니다.\n",
    "- SecretsManagerReadWrite\n",
    "- AmazonSageMakerFullAccess\n",
    "- AWSLambdaBasicExecutionRole\n",
    "\n",
    "![lambda-role-setting.png](../figures/lambda-role-setting.png)"
   ]
  },
  {
   "cell_type": "markdown",
   "id": "66dbec0d",
   "metadata": {},
   "source": [
    "#### - Lambda start-training-job의 설정 변경\n",
    "![lambda-start-training-job-config.png](../figures/lambda-start-training-job-config.png)"
   ]
  },
  {
   "cell_type": "markdown",
   "id": "68a55a26",
   "metadata": {},
   "source": [
    "### 3.2 Check Status Training\n",
    "lambda에서 수행되는 함수를 zip으로 묶어서 upload를 합니다."
   ]
  },
  {
   "cell_type": "code",
   "execution_count": null,
   "id": "ffdd96a1",
   "metadata": {},
   "outputs": [],
   "source": [
    "!mkdir ./2-Check-Status-Training"
   ]
  },
  {
   "cell_type": "code",
   "execution_count": null,
   "id": "5ae6ddb7",
   "metadata": {},
   "outputs": [],
   "source": [
    "%%writefile 2-Check-Status-Training/lambda_function.py\n",
    "\n",
    "import json\n",
    "import boto3\n",
    "import os\n",
    "\n",
    "sagemaker = boto3.client('sagemaker')\n",
    "\n",
    "def lambda_handler(event, context):\n",
    "    stage = event['stage']\n",
    "\n",
    "    if stage == 'Training':\n",
    "        training_job_name = event['training_job_name']\n",
    "        training_details = describe_training_job(training_job_name)\n",
    "        print(training_details)\n",
    "\n",
    "        status = training_details['TrainingJobStatus']\n",
    "        if status == 'Completed':\n",
    "            s3_output_path = training_details['OutputDataConfig']['S3OutputPath']\n",
    "            model_data_url = os.path.join(s3_output_path, training_details['TrainingJobName'], 'output/model.tar.gz')\n",
    "\n",
    "            event['message'] = 'Training job \"{}\" complete. Model data uploaded to \"{}\"'.format(training_job_name, model_data_url)\n",
    "            event['model_data_url'] = model_data_url\n",
    "            event['training_job'] = training_details['TrainingJobName']\n",
    "        elif status == 'Failed':\n",
    "            failure_reason = training_details['FailureReason']\n",
    "            event['message'] = 'Training job failed. {}'.format(failure_reason)\n",
    "    \n",
    "    event['status'] = status\n",
    "    \n",
    "    print(event)\n",
    "    \n",
    "    return event\n",
    "\n",
    "def describe_training_job(name):\n",
    "    \"\"\" Describe SageMaker training job identified by input name.\n",
    "    Args:\n",
    "        name (string): Name of SageMaker training job to describe.\n",
    "    Returns:\n",
    "        (dict)\n",
    "        Dictionary containing metadata and details about the status of the training job.\n",
    "    \"\"\"\n",
    "    try:\n",
    "        response = sagemaker.describe_training_job(\n",
    "            TrainingJobName = name\n",
    "        )\n",
    "    except Exception as e:\n",
    "        print(e)\n",
    "        print('Unable to describe training job.')\n",
    "        raise(e)\n",
    "    \n",
    "    return response\n"
   ]
  },
  {
   "cell_type": "code",
   "execution_count": null,
   "id": "7bbfcc89",
   "metadata": {},
   "outputs": [],
   "source": [
    "%%bash\n",
    "cd ./2-Check-Status-Training\n",
    "rm -rf check-status-training.zip\n",
    "zip -r check-status-training.zip lambda_function.py"
   ]
  },
  {
   "cell_type": "code",
   "execution_count": null,
   "id": "23b74bf2",
   "metadata": {},
   "outputs": [],
   "source": [
    "%store -r\n",
    "print(f\"bucket : {bucket}\")"
   ]
  },
  {
   "cell_type": "code",
   "execution_count": null,
   "id": "6ce68d79",
   "metadata": {},
   "outputs": [],
   "source": [
    "!aws s3 cp 2-Check-Status-Training/check-status-training.zip s3://$bucket/lambda_function/"
   ]
  },
  {
   "cell_type": "markdown",
   "id": "93e05970",
   "metadata": {},
   "source": [
    "### 3.3 Check Accuracy\n",
    "lambda에서 수행되는 함수를 zip으로 묶어서 upload를 합니다."
   ]
  },
  {
   "cell_type": "code",
   "execution_count": null,
   "id": "94387e8e",
   "metadata": {},
   "outputs": [],
   "source": [
    "!mkdir ./3-Check-Accuracy"
   ]
  },
  {
   "cell_type": "code",
   "execution_count": null,
   "id": "4c2221e6",
   "metadata": {},
   "outputs": [],
   "source": [
    "%%writefile 3-Check-Accuracy/lambda_function.py\n",
    "\n",
    "\n",
    "import json\n",
    "import boto3\n",
    "import tarfile\n",
    "from io import BytesIO\n",
    "import os\n",
    "import pickle\n",
    "from io import StringIO\n",
    "import csv\n",
    "\n",
    "\n",
    "s3 = boto3.client('s3')\n",
    "sm = boto3.client('sagemaker')\n",
    "s3_resource = boto3.resource('s3')\n",
    "\n",
    "\n",
    "acc_col_num = os.environ['ACC_COL_NUM']\n",
    "bucket = os.environ['BUCKET']\n",
    "\n",
    "\n",
    "def lambda_handler(event, context):\n",
    "    # print(event)    \n",
    "    model_data_url = event['model_data_url']\n",
    "    # bucket = event['bucket']\n",
    "    key_value = model_data_url.split(bucket)[1][1:]\n",
    "    print(key_value)\n",
    "    tar_file_obj = s3.get_object(Bucket=bucket, Key=key_value)\n",
    "    tar_content = tar_file_obj ['Body'].read()\n",
    "    \n",
    "    accuracy = 0\n",
    "    \n",
    "    with tarfile.open(fileobj = BytesIO(tar_content)) as tar:\n",
    "        for tar_resource in tar:\n",
    "            if (tar_resource.isfile()):\n",
    "                if \"results.csv\" in tar_resource.name:\n",
    "                    inner_file_bytes = tar.extractfile(tar_resource).read()\n",
    "                    file_data = inner_file_bytes.decode('utf-8')\n",
    "                    file = StringIO(file_data)\n",
    "                    csv_data = csv.reader(file, delimiter=\",\")\n",
    "\n",
    "                    max_line = len(list(csv_data))\n",
    "\n",
    "                    file = StringIO(file_data)\n",
    "                    csv_data = csv.reader(file, delimiter=\",\")\n",
    "\n",
    "                    line_count = 0\n",
    "\n",
    "                    for row in csv_data:\n",
    "                        line_count += 1\n",
    "                        if line_count == max_line:\n",
    "                            accuracy = row[int(acc_col_num)].lstrip()\n",
    "                        \n",
    "    print(\"accuracy is \" + accuracy)\n",
    "    \n",
    "    desired_accuracy = event['desired_accuracy']\n",
    "    \n",
    "    if accuracy > desired_accuracy:\n",
    "        event['train_result'] = \"PASS\"\n",
    "        print(\"PASS\")\n",
    "    else:\n",
    "        event['train_result'] = \"FAIL\"\n",
    "        print(\"FAIL\")\n",
    "\n",
    "    return event\n"
   ]
  },
  {
   "cell_type": "code",
   "execution_count": null,
   "id": "a4a4fd36",
   "metadata": {},
   "outputs": [],
   "source": [
    "%%bash\n",
    "cd ./3-Check-Accuracy\n",
    "rm -rf check-accuracy.zip\n",
    "zip -r check-accuracy.zip lambda_function.py"
   ]
  },
  {
   "cell_type": "code",
   "execution_count": null,
   "id": "5354168a",
   "metadata": {},
   "outputs": [],
   "source": [
    "!aws s3 cp 3-Check-Accuracy/check-accuracy.zip s3://$bucket/lambda_function/"
   ]
  },
  {
   "cell_type": "markdown",
   "id": "81d78a1a",
   "metadata": {},
   "source": [
    "#### - lambda-check-accuracy 설정 추가\n",
    "\n",
    "- check하는 시간이 3초 이상 소요되므로 20초 정도로 변경합니다.\n",
    "- 또한, 버킷 이름을 추가해 주시면 됩니다.\n",
    "\n",
    "![lambda-check-accuracy-setting.png](../figures/lambda-check-accuracy-setting.png)"
   ]
  },
  {
   "cell_type": "markdown",
   "id": "7ad19079",
   "metadata": {},
   "source": [
    "### 3.4 Reister Model\n",
    "- 학습이 완료된 이후 설정한 desired accuracy를 넘는 모델 Artifacts는 Model Registry에 등록하게 됩니다."
   ]
  },
  {
   "cell_type": "code",
   "execution_count": null,
   "id": "4a495974",
   "metadata": {},
   "outputs": [],
   "source": [
    "!mkdir 4-Register-Model"
   ]
  },
  {
   "cell_type": "code",
   "execution_count": null,
   "id": "7f88145b",
   "metadata": {},
   "outputs": [],
   "source": [
    "%%writefile 4-Register-Model/lambda_function.py\n",
    "\n",
    "import json\n",
    "import boto3\n",
    "import botocore\n",
    "import os\n",
    "\n",
    "\n",
    "sm_client = boto3.client(\"sagemaker\")\n",
    "\n",
    "model_package_group_name = os.environ['MODEL_PACKAGE_GROUP_NAME']\n",
    "model_package_group_desc = os.environ['MODEL_PACKAGE_GROUP_DESC']\n",
    "\n",
    "# training_image = '366743142698.dkr.ecr.ap-northeast-2.amazonaws.com/sagemaker-scikit-learn:0.23-1-cpu-py3'\n",
    "training_image = os.environ['ECR_IMAGE_URI']\n",
    "\n",
    "\n",
    "def lambda_handler(event, context):\n",
    "    \n",
    "    modelpackage_inference_specification =  {\n",
    "        \"InferenceSpecification\": {\n",
    "          \"Containers\": [\n",
    "             {\n",
    "                \"Image\": training_image,\n",
    "             }\n",
    "          ],\n",
    "          \"SupportedContentTypes\": [ \"application/x-image\" ],\n",
    "          \"SupportedResponseMIMETypes\": [ \"application/x-image\" ],\n",
    "        }\n",
    "    }\n",
    "     \n",
    "    model_data_url = event['model_data_url'] \n",
    "    \n",
    "    \n",
    "    # Specify the model data\n",
    "    modelpackage_inference_specification[\"InferenceSpecification\"][\"Containers\"][0][\"ModelDataUrl\"]=model_data_url\n",
    "    \n",
    "    create_model_package_input_dict = {\n",
    "        \"ModelPackageGroupName\" : model_package_group_name,\n",
    "        \"ModelPackageDescription\" : model_package_group_desc,\n",
    "        \"ModelApprovalStatus\" : \"PendingManualApproval\"\n",
    "    }\n",
    "\n",
    "    create_model_package_input_dict.update(modelpackage_inference_specification)\n",
    "    modelpackage_inference_specification[\"InferenceSpecification\"][\"Containers\"][0]\n",
    "    \n",
    "    try:\n",
    "        create_mode_package_response = sm_client.create_model_package(**create_model_package_input_dict)\n",
    "    except botocore.exceptions.ClientError as ce:\n",
    "        # When model package group does not exit\n",
    "        print('Model package grop does not exist. Creating a new one')\n",
    "        if ce.operation_name == \"CreateModelPackage\":\n",
    "            if ce.response[\"Error\"][\"Message\"] == \"Model Package Group does not exist.\":\n",
    "                # Create model package group\n",
    "                create_model_package_group_response = sm_client.create_model_package_group(\n",
    "                    ModelPackageGroupName=model_package_group_name,\n",
    "                    ModelPackageGroupDescription=model_package_group_desc,\n",
    "                )\n",
    "                \n",
    "                create_mode_package_response = sm_client.create_model_package(**create_model_package_input_dict)\n",
    "                \n",
    "    return event\n"
   ]
  },
  {
   "cell_type": "code",
   "execution_count": null,
   "id": "af20577d",
   "metadata": {},
   "outputs": [],
   "source": [
    "%%bash\n",
    "cd ./4-Register-Model\n",
    "rm -rf register-model.zip\n",
    "zip -r register-model.zip lambda_function.py"
   ]
  },
  {
   "cell_type": "code",
   "execution_count": null,
   "id": "0930603a",
   "metadata": {},
   "outputs": [],
   "source": [
    "!aws s3 cp ./4-Register-Model/register-model.zip s3://$bucket/lambda_function/"
   ]
  },
  {
   "cell_type": "code",
   "execution_count": null,
   "id": "b0e4d05e",
   "metadata": {},
   "outputs": [],
   "source": [
    "print(f\"inf_image_uri : {inf_image_uri}\")"
   ]
  },
  {
   "cell_type": "markdown",
   "id": "86ddac7c",
   "metadata": {},
   "source": [
    "#### - lambda-register-model의 설정 추가\n",
    "\n",
    "- 추론에 사용된 ECR의 Container URI, 생성할 Model Packagegroup의 name과 Description을 환경변수에 추가합니다."
   ]
  },
  {
   "cell_type": "markdown",
   "id": "ac8fe48a",
   "metadata": {},
   "source": [
    "![lambda-register-model-setting.png](../figures/lambda-register-model-setting.png)"
   ]
  },
  {
   "cell_type": "markdown",
   "id": "6cc6cb51",
   "metadata": {},
   "source": [
    "## 4. Lambda-Step-Functions-Trigger\n",
    "- Step Function을 실행하는 Lambda 함수를 생성합니다.\n",
    "- 이 Lambda 함수를 통해 S3의 object가 추가된 경우 또는 CodeCommit에 신규 학습 코드가 push 된 경우 자동으로 Step Functions을 실행할 수 있습니다."
   ]
  },
  {
   "cell_type": "code",
   "execution_count": null,
   "id": "3493cb0a",
   "metadata": {},
   "outputs": [],
   "source": [
    "!mkdir 5-Step-Functions-Trigger"
   ]
  },
  {
   "cell_type": "code",
   "execution_count": null,
   "id": "6233e6d3",
   "metadata": {},
   "outputs": [],
   "source": [
    "### %%writefile 5-Step-Functions-Trigger/lambda_function.py\n",
    "\n",
    "import json\n",
    "import boto3\n",
    "import os\n",
    "\n",
    "\n",
    "s3 = boto3.client('s3')\n",
    "sf = boto3.client('stepfunctions')\n",
    "\n",
    "\n",
    "state_machine_arn = os.environ['STATE_MACHINE_ARN']\n",
    "desired_accuracy = os.environ['DESIRED_ACCURACY']\n",
    "\n",
    "\n",
    "def lambda_handler(event, context):\n",
    "    \n",
    "    print(event)\n",
    "    json_string = {\n",
    "        \"desired_accuracy\": desired_accuracy\n",
    "    }\n",
    "    \n",
    "    # json_content = json.loads(json_string)\n",
    "    print(json_string)\n",
    "    \n",
    "    sf.start_execution(\n",
    "        stateMachineArn = state_machine_arn,\n",
    "        input = json.dumps(json_string))\n",
    "    \n",
    "    return event\n"
   ]
  },
  {
   "cell_type": "code",
   "execution_count": null,
   "id": "c757ecc9",
   "metadata": {},
   "outputs": [],
   "source": [
    "%%bash\n",
    "cd ./5-Step-Functions-Trigger\n",
    "rm -rf step-functions-trigger.zip\n",
    "zip -r step-functions-trigger.zip lambda_function.py"
   ]
  },
  {
   "cell_type": "code",
   "execution_count": null,
   "id": "47ae0a33",
   "metadata": {},
   "outputs": [],
   "source": [
    "!aws s3 cp ./5-Step-Functions-Trigger/step-functions-trigger.zip s3://$bucket/lambda_function/"
   ]
  },
  {
   "cell_type": "markdown",
   "id": "7da611c9",
   "metadata": {},
   "source": [
    "### - Lambda step functions trigger의 설정 변경\n",
    "\n",
    "![lambda-step-functions-trigger-config.png](../figures/lambda-step-functions-trigger-config.png)"
   ]
  },
  {
   "cell_type": "markdown",
   "id": "525e372b",
   "metadata": {},
   "source": [
    "### - Trigger 추가\n",
    "Trigger를 추가할 경우 아래와 같이 추가를 할 수 있습니다.\n",
    "\n",
    "\n",
    "![step-functions-trigger.png](../figures/step-functions-trigger.png)"
   ]
  },
  {
   "cell_type": "code",
   "execution_count": null,
   "id": "67f19130",
   "metadata": {},
   "outputs": [],
   "source": []
  }
 ],
 "metadata": {
  "kernelspec": {
   "display_name": "conda_python3",
   "language": "python",
   "name": "conda_python3"
  },
  "language_info": {
   "codemirror_mode": {
    "name": "ipython",
    "version": 3
   },
   "file_extension": ".py",
   "mimetype": "text/x-python",
   "name": "python",
   "nbconvert_exporter": "python",
   "pygments_lexer": "ipython3",
   "version": "3.8.12"
  }
 },
 "nbformat": 4,
 "nbformat_minor": 5
}
