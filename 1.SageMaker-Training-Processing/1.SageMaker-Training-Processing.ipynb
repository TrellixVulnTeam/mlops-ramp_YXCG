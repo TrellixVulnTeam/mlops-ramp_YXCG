{
 "cells": [
  {
   "cell_type": "markdown",
   "metadata": {},
   "source": [
    "# SageMaker로 Yolov5 학습 및 평가 하기\n",
    "\n",
    "본 모듈에서는 Amzaon SageMaker API을 효과적으로 이용하기 위해 multigpu-distributed 학습을 위한 PyTorch 프레임워크 자체 구현만으로 모델 훈련을 수행해 봅니다."
   ]
  },
  {
   "cell_type": "code",
   "execution_count": 2,
   "metadata": {},
   "outputs": [],
   "source": [
    "install_needed = True  # should only be True once\n",
    "# install_needed = False"
   ]
  },
  {
   "cell_type": "code",
   "execution_count": 3,
   "metadata": {},
   "outputs": [
    {
     "name": "stdout",
     "output_type": "stream",
     "text": [
      "Already revised\n"
     ]
    }
   ],
   "source": [
    "%%bash\n",
    "\n",
    "DAEMON_PATH=\"/etc/docker\"\n",
    "MEMORY_SIZE=10G\n",
    "\n",
    "FLAG=$(cat $DAEMON_PATH/daemon.json | jq 'has(\"data-root\")')\n",
    "# echo $FLAG\n",
    "\n",
    "if [ \"$FLAG\" == true ]; then\n",
    "    echo \"Already revised\"\n",
    "else\n",
    "    echo \"Add data-root and default-shm-size=$MEMORY_SIZE\"\n",
    "    sudo cp $DAEMON_PATH/daemon.json $DAEMON_PATH/daemon.json.bak\n",
    "    sudo cat $DAEMON_PATH/daemon.json.bak | jq '. += {\"data-root\":\"/home/ec2-user/SageMaker/.container/docker\",\"default-shm-size\":\"'$MEMORY_SIZE'\"}' | sudo tee $DAEMON_PATH/daemon.json > /dev/null\n",
    "    sudo service docker restart\n",
    "    echo \"Docker Restart\"\n",
    "fi"
   ]
  },
  {
   "cell_type": "code",
   "execution_count": 4,
   "metadata": {
    "scrolled": true
   },
   "outputs": [
    {
     "name": "stdout",
     "output_type": "stream",
     "text": [
      "installing deps and restarting kernel\n",
      "Looking in indexes: https://pypi.org/simple, https://pip.repos.neuron.amazonaws.com\n",
      "Requirement already satisfied: sagemaker[local] in /home/ec2-user/anaconda3/envs/pytorch_p38/lib/python3.8/site-packages (2.92.1)\n",
      "Collecting sagemaker[local]\n",
      "  Downloading sagemaker-2.99.0.tar.gz (542 kB)\n",
      "\u001b[2K     \u001b[90m━━━━━━━━━━━━━━━━━━━━━━━━━━━━━━━━━━━━━━━\u001b[0m \u001b[32m542.7/542.7 KB\u001b[0m \u001b[31m4.1 MB/s\u001b[0m eta \u001b[36m0:00:00\u001b[0m00:01\u001b[0m00:01\u001b[0m\n",
      "\u001b[?25h  Preparing metadata (setup.py) ... \u001b[?25ldone\n",
      "\u001b[?25hRequirement already satisfied: attrs<22,>=20.3.0 in /home/ec2-user/anaconda3/envs/pytorch_p38/lib/python3.8/site-packages (from sagemaker[local]) (20.3.0)\n",
      "Requirement already satisfied: boto3<2.0,>=1.20.21 in /home/ec2-user/anaconda3/envs/pytorch_p38/lib/python3.8/site-packages (from sagemaker[local]) (1.23.10)\n",
      "Requirement already satisfied: google-pasta in /home/ec2-user/anaconda3/envs/pytorch_p38/lib/python3.8/site-packages (from sagemaker[local]) (0.2.0)\n",
      "Requirement already satisfied: numpy<2.0,>=1.9.0 in /home/ec2-user/anaconda3/envs/pytorch_p38/lib/python3.8/site-packages (from sagemaker[local]) (1.21.2)\n",
      "Requirement already satisfied: protobuf<4.0,>=3.1 in /home/ec2-user/anaconda3/envs/pytorch_p38/lib/python3.8/site-packages (from sagemaker[local]) (3.19.4)\n",
      "Requirement already satisfied: protobuf3-to-dict<1.0,>=0.1.5 in /home/ec2-user/anaconda3/envs/pytorch_p38/lib/python3.8/site-packages (from sagemaker[local]) (0.1.5)\n",
      "Requirement already satisfied: smdebug_rulesconfig==1.0.1 in /home/ec2-user/anaconda3/envs/pytorch_p38/lib/python3.8/site-packages (from sagemaker[local]) (1.0.1)\n",
      "Requirement already satisfied: importlib-metadata<5.0,>=1.4.0 in /home/ec2-user/anaconda3/envs/pytorch_p38/lib/python3.8/site-packages (from sagemaker[local]) (1.7.0)\n",
      "Requirement already satisfied: packaging>=20.0 in /home/ec2-user/anaconda3/envs/pytorch_p38/lib/python3.8/site-packages (from sagemaker[local]) (21.3)\n",
      "Requirement already satisfied: pandas in /home/ec2-user/anaconda3/envs/pytorch_p38/lib/python3.8/site-packages (from sagemaker[local]) (1.3.4)\n",
      "Requirement already satisfied: pathos in /home/ec2-user/anaconda3/envs/pytorch_p38/lib/python3.8/site-packages (from sagemaker[local]) (0.2.8)\n",
      "Requirement already satisfied: urllib3==1.26.8 in /home/ec2-user/anaconda3/envs/pytorch_p38/lib/python3.8/site-packages (from sagemaker[local]) (1.26.8)\n",
      "Requirement already satisfied: docker-compose==1.29.2 in /home/ec2-user/anaconda3/envs/pytorch_p38/lib/python3.8/site-packages (from sagemaker[local]) (1.29.2)\n",
      "Requirement already satisfied: docker~=5.0.0 in /home/ec2-user/anaconda3/envs/pytorch_p38/lib/python3.8/site-packages (from sagemaker[local]) (5.0.3)\n",
      "Requirement already satisfied: PyYAML==5.4.1 in /home/ec2-user/anaconda3/envs/pytorch_p38/lib/python3.8/site-packages (from sagemaker[local]) (5.4.1)\n",
      "Requirement already satisfied: distro<2,>=1.5.0 in /home/ec2-user/anaconda3/envs/pytorch_p38/lib/python3.8/site-packages (from docker-compose==1.29.2->sagemaker[local]) (1.7.0)\n",
      "Requirement already satisfied: requests<3,>=2.20.0 in /home/ec2-user/anaconda3/envs/pytorch_p38/lib/python3.8/site-packages (from docker-compose==1.29.2->sagemaker[local]) (2.26.0)\n",
      "Requirement already satisfied: texttable<2,>=0.9.0 in /home/ec2-user/anaconda3/envs/pytorch_p38/lib/python3.8/site-packages (from docker-compose==1.29.2->sagemaker[local]) (1.6.4)\n",
      "Requirement already satisfied: dockerpty<1,>=0.4.1 in /home/ec2-user/anaconda3/envs/pytorch_p38/lib/python3.8/site-packages (from docker-compose==1.29.2->sagemaker[local]) (0.4.1)\n",
      "Requirement already satisfied: jsonschema<4,>=2.5.1 in /home/ec2-user/anaconda3/envs/pytorch_p38/lib/python3.8/site-packages (from docker-compose==1.29.2->sagemaker[local]) (3.2.0)\n",
      "Requirement already satisfied: python-dotenv<1,>=0.13.0 in /home/ec2-user/anaconda3/envs/pytorch_p38/lib/python3.8/site-packages (from docker-compose==1.29.2->sagemaker[local]) (0.20.0)\n",
      "Requirement already satisfied: websocket-client<1,>=0.32.0 in /home/ec2-user/anaconda3/envs/pytorch_p38/lib/python3.8/site-packages (from docker-compose==1.29.2->sagemaker[local]) (0.59.0)\n",
      "Requirement already satisfied: docopt<1,>=0.6.1 in /home/ec2-user/anaconda3/envs/pytorch_p38/lib/python3.8/site-packages (from docker-compose==1.29.2->sagemaker[local]) (0.6.2)\n",
      "Requirement already satisfied: jmespath<2.0.0,>=0.7.1 in /home/ec2-user/anaconda3/envs/pytorch_p38/lib/python3.8/site-packages (from boto3<2.0,>=1.20.21->sagemaker[local]) (0.10.0)\n",
      "Requirement already satisfied: s3transfer<0.6.0,>=0.5.0 in /home/ec2-user/anaconda3/envs/pytorch_p38/lib/python3.8/site-packages (from boto3<2.0,>=1.20.21->sagemaker[local]) (0.5.2)\n",
      "Collecting botocore<1.27.0,>=1.26.10\n",
      "  Using cached botocore-1.26.10-py3-none-any.whl (8.8 MB)\n",
      "Requirement already satisfied: zipp>=0.5 in /home/ec2-user/anaconda3/envs/pytorch_p38/lib/python3.8/site-packages (from importlib-metadata<5.0,>=1.4.0->sagemaker[local]) (3.6.0)\n",
      "Requirement already satisfied: pyparsing!=3.0.5,>=2.0.2 in /home/ec2-user/anaconda3/envs/pytorch_p38/lib/python3.8/site-packages (from packaging>=20.0->sagemaker[local]) (3.0.6)\n",
      "Requirement already satisfied: six in /home/ec2-user/anaconda3/envs/pytorch_p38/lib/python3.8/site-packages (from protobuf3-to-dict<1.0,>=0.1.5->sagemaker[local]) (1.16.0)\n",
      "Requirement already satisfied: python-dateutil>=2.7.3 in /home/ec2-user/anaconda3/envs/pytorch_p38/lib/python3.8/site-packages (from pandas->sagemaker[local]) (2.8.2)\n",
      "Requirement already satisfied: pytz>=2017.3 in /home/ec2-user/anaconda3/envs/pytorch_p38/lib/python3.8/site-packages (from pandas->sagemaker[local]) (2021.3)\n",
      "Requirement already satisfied: multiprocess>=0.70.12 in /home/ec2-user/anaconda3/envs/pytorch_p38/lib/python3.8/site-packages (from pathos->sagemaker[local]) (0.70.12.2)\n",
      "Requirement already satisfied: pox>=0.3.0 in /home/ec2-user/anaconda3/envs/pytorch_p38/lib/python3.8/site-packages (from pathos->sagemaker[local]) (0.3.0)\n",
      "Requirement already satisfied: ppft>=1.6.6.4 in /home/ec2-user/anaconda3/envs/pytorch_p38/lib/python3.8/site-packages (from pathos->sagemaker[local]) (1.6.6.4)\n",
      "Requirement already satisfied: dill>=0.3.4 in /home/ec2-user/anaconda3/envs/pytorch_p38/lib/python3.8/site-packages (from pathos->sagemaker[local]) (0.3.4)\n",
      "Requirement already satisfied: paramiko>=2.4.2 in /home/ec2-user/anaconda3/envs/pytorch_p38/lib/python3.8/site-packages (from docker~=5.0.0->sagemaker[local]) (2.11.0)\n",
      "Requirement already satisfied: setuptools in /home/ec2-user/anaconda3/envs/pytorch_p38/lib/python3.8/site-packages (from jsonschema<4,>=2.5.1->docker-compose==1.29.2->sagemaker[local]) (59.2.0)\n",
      "Requirement already satisfied: pyrsistent>=0.14.0 in /home/ec2-user/anaconda3/envs/pytorch_p38/lib/python3.8/site-packages (from jsonschema<4,>=2.5.1->docker-compose==1.29.2->sagemaker[local]) (0.18.0)\n",
      "Requirement already satisfied: charset-normalizer~=2.0.0 in /home/ec2-user/anaconda3/envs/pytorch_p38/lib/python3.8/site-packages (from requests<3,>=2.20.0->docker-compose==1.29.2->sagemaker[local]) (2.0.7)\n",
      "Requirement already satisfied: certifi>=2017.4.17 in /home/ec2-user/anaconda3/envs/pytorch_p38/lib/python3.8/site-packages (from requests<3,>=2.20.0->docker-compose==1.29.2->sagemaker[local]) (2021.10.8)\n",
      "Requirement already satisfied: idna<4,>=2.5 in /home/ec2-user/anaconda3/envs/pytorch_p38/lib/python3.8/site-packages (from requests<3,>=2.20.0->docker-compose==1.29.2->sagemaker[local]) (3.1)\n",
      "Requirement already satisfied: pynacl>=1.0.1 in /home/ec2-user/anaconda3/envs/pytorch_p38/lib/python3.8/site-packages (from paramiko>=2.4.2->docker~=5.0.0->sagemaker[local]) (1.5.0)\n",
      "Requirement already satisfied: cryptography>=2.5 in /home/ec2-user/anaconda3/envs/pytorch_p38/lib/python3.8/site-packages (from paramiko>=2.4.2->docker~=5.0.0->sagemaker[local]) (36.0.0)\n",
      "Requirement already satisfied: bcrypt>=3.1.3 in /home/ec2-user/anaconda3/envs/pytorch_p38/lib/python3.8/site-packages (from paramiko>=2.4.2->docker~=5.0.0->sagemaker[local]) (3.2.2)\n",
      "Requirement already satisfied: cffi>=1.1 in /home/ec2-user/anaconda3/envs/pytorch_p38/lib/python3.8/site-packages (from bcrypt>=3.1.3->paramiko>=2.4.2->docker~=5.0.0->sagemaker[local]) (1.15.0)\n",
      "Requirement already satisfied: pycparser in /home/ec2-user/anaconda3/envs/pytorch_p38/lib/python3.8/site-packages (from cffi>=1.1->bcrypt>=3.1.3->paramiko>=2.4.2->docker~=5.0.0->sagemaker[local]) (2.21)\n",
      "Building wheels for collected packages: sagemaker\n",
      "  Building wheel for sagemaker (setup.py) ... \u001b[?25ldone\n",
      "\u001b[?25h  Created wheel for sagemaker: filename=sagemaker-2.99.0-py2.py3-none-any.whl size=756462 sha256=aaf306c1b08984adf3a492739cae4cc3890964d6496e4c2b61a2548f88441b5d\n",
      "  Stored in directory: /home/ec2-user/.cache/pip/wheels/fc/df/14/14b7871f4cf108cfe8891338510d97e28cfe2da00f37114fcf\n",
      "Successfully built sagemaker\n",
      "Installing collected packages: botocore, sagemaker\n",
      "  Attempting uninstall: botocore\n",
      "    Found existing installation: botocore 1.24.19\n",
      "    Uninstalling botocore-1.24.19:\n",
      "      Successfully uninstalled botocore-1.24.19\n",
      "  Attempting uninstall: sagemaker\n",
      "    Found existing installation: sagemaker 2.92.1\n",
      "    Uninstalling sagemaker-2.92.1:\n",
      "      Successfully uninstalled sagemaker-2.92.1\n",
      "\u001b[31mERROR: pip's dependency resolver does not currently take into account all the packages that are installed. This behaviour is the source of the following dependency conflicts.\n",
      "aiobotocore 2.0.1 requires botocore<1.22.9,>=1.22.8, but you have botocore 1.26.10 which is incompatible.\u001b[0m\u001b[31m\n",
      "\u001b[0mSuccessfully installed botocore-1.26.10 sagemaker-2.99.0\n",
      "\u001b[33mWARNING: You are using pip version 22.0.4; however, version 22.1.2 is available.\n",
      "You should consider upgrading via the '/home/ec2-user/anaconda3/envs/pytorch_p38/bin/python -m pip install --upgrade pip' command.\u001b[0m\u001b[33m\n",
      "\u001b[0mLooking in indexes: https://pypi.org/simple, https://pip.repos.neuron.amazonaws.com\n",
      "Requirement already satisfied: smdebug in /home/ec2-user/anaconda3/envs/pytorch_p38/lib/python3.8/site-packages (1.0.12)\n",
      "Collecting sagemaker-experiments\n",
      "  Using cached sagemaker_experiments-0.1.35-py3-none-any.whl (42 kB)\n",
      "Requirement already satisfied: numpy>=1.16.0 in /home/ec2-user/anaconda3/envs/pytorch_p38/lib/python3.8/site-packages (from smdebug) (1.21.2)\n",
      "Requirement already satisfied: packaging in /home/ec2-user/anaconda3/envs/pytorch_p38/lib/python3.8/site-packages (from smdebug) (21.3)\n",
      "Requirement already satisfied: pyinstrument==3.4.2 in /home/ec2-user/anaconda3/envs/pytorch_p38/lib/python3.8/site-packages (from smdebug) (3.4.2)\n",
      "Requirement already satisfied: protobuf>=3.6.0 in /home/ec2-user/anaconda3/envs/pytorch_p38/lib/python3.8/site-packages (from smdebug) (3.19.4)\n",
      "Requirement already satisfied: boto3>=1.10.32 in /home/ec2-user/anaconda3/envs/pytorch_p38/lib/python3.8/site-packages (from smdebug) (1.23.10)\n",
      "Requirement already satisfied: pyinstrument-cext>=0.2.2 in /home/ec2-user/anaconda3/envs/pytorch_p38/lib/python3.8/site-packages (from pyinstrument==3.4.2->smdebug) (0.2.4)\n",
      "Requirement already satisfied: jmespath<2.0.0,>=0.7.1 in /home/ec2-user/anaconda3/envs/pytorch_p38/lib/python3.8/site-packages (from boto3>=1.10.32->smdebug) (0.10.0)\n",
      "Requirement already satisfied: s3transfer<0.6.0,>=0.5.0 in /home/ec2-user/anaconda3/envs/pytorch_p38/lib/python3.8/site-packages (from boto3>=1.10.32->smdebug) (0.5.2)\n",
      "Requirement already satisfied: botocore<1.27.0,>=1.26.10 in /home/ec2-user/anaconda3/envs/pytorch_p38/lib/python3.8/site-packages (from boto3>=1.10.32->smdebug) (1.26.10)\n",
      "Requirement already satisfied: pyparsing!=3.0.5,>=2.0.2 in /home/ec2-user/anaconda3/envs/pytorch_p38/lib/python3.8/site-packages (from packaging->smdebug) (3.0.6)\n",
      "Requirement already satisfied: python-dateutil<3.0.0,>=2.1 in /home/ec2-user/anaconda3/envs/pytorch_p38/lib/python3.8/site-packages (from botocore<1.27.0,>=1.26.10->boto3>=1.10.32->smdebug) (2.8.2)\n",
      "Requirement already satisfied: urllib3<1.27,>=1.25.4 in /home/ec2-user/anaconda3/envs/pytorch_p38/lib/python3.8/site-packages (from botocore<1.27.0,>=1.26.10->boto3>=1.10.32->smdebug) (1.26.8)\n",
      "Requirement already satisfied: six>=1.5 in /home/ec2-user/anaconda3/envs/pytorch_p38/lib/python3.8/site-packages (from python-dateutil<3.0.0,>=2.1->botocore<1.27.0,>=1.26.10->boto3>=1.10.32->smdebug) (1.16.0)\n",
      "Installing collected packages: sagemaker-experiments\n",
      "Successfully installed sagemaker-experiments-0.1.35\n",
      "\u001b[33mWARNING: You are using pip version 22.0.4; however, version 22.1.2 is available.\n",
      "You should consider upgrading via the '/home/ec2-user/anaconda3/envs/pytorch_p38/bin/python -m pip install --upgrade pip' command.\u001b[0m\u001b[33m\n",
      "\u001b[0mLooking in indexes: https://pypi.org/simple, https://pip.repos.neuron.amazonaws.com\n",
      "Requirement already satisfied: sagemaker in /home/ec2-user/anaconda3/envs/pytorch_p38/lib/python3.8/site-packages (2.99.0)\n",
      "Collecting ipyplot\n",
      "  Downloading ipyplot-1.1.1-py3-none-any.whl (13 kB)\n",
      "Collecting jsonlines\n",
      "  Downloading jsonlines-3.1.0-py3-none-any.whl (8.6 kB)\n",
      "Requirement already satisfied: boto3<2.0,>=1.20.21 in /home/ec2-user/anaconda3/envs/pytorch_p38/lib/python3.8/site-packages (from sagemaker) (1.23.10)\n",
      "Requirement already satisfied: pathos in /home/ec2-user/anaconda3/envs/pytorch_p38/lib/python3.8/site-packages (from sagemaker) (0.2.8)\n",
      "Requirement already satisfied: smdebug-rulesconfig==1.0.1 in /home/ec2-user/anaconda3/envs/pytorch_p38/lib/python3.8/site-packages (from sagemaker) (1.0.1)\n",
      "Requirement already satisfied: attrs<22,>=20.3.0 in /home/ec2-user/anaconda3/envs/pytorch_p38/lib/python3.8/site-packages (from sagemaker) (20.3.0)\n",
      "Requirement already satisfied: importlib-metadata<5.0,>=1.4.0 in /home/ec2-user/anaconda3/envs/pytorch_p38/lib/python3.8/site-packages (from sagemaker) (1.7.0)\n",
      "Requirement already satisfied: packaging>=20.0 in /home/ec2-user/anaconda3/envs/pytorch_p38/lib/python3.8/site-packages (from sagemaker) (21.3)\n",
      "Requirement already satisfied: google-pasta in /home/ec2-user/anaconda3/envs/pytorch_p38/lib/python3.8/site-packages (from sagemaker) (0.2.0)\n",
      "Requirement already satisfied: pandas in /home/ec2-user/anaconda3/envs/pytorch_p38/lib/python3.8/site-packages (from sagemaker) (1.3.4)\n",
      "Requirement already satisfied: protobuf<4.0,>=3.1 in /home/ec2-user/anaconda3/envs/pytorch_p38/lib/python3.8/site-packages (from sagemaker) (3.19.4)\n",
      "Requirement already satisfied: numpy<2.0,>=1.9.0 in /home/ec2-user/anaconda3/envs/pytorch_p38/lib/python3.8/site-packages (from sagemaker) (1.21.2)\n",
      "Requirement already satisfied: protobuf3-to-dict<1.0,>=0.1.5 in /home/ec2-user/anaconda3/envs/pytorch_p38/lib/python3.8/site-packages (from sagemaker) (0.1.5)\n",
      "Collecting shortuuid\n",
      "  Downloading shortuuid-1.0.9-py3-none-any.whl (9.4 kB)\n",
      "Requirement already satisfied: pillow in /home/ec2-user/anaconda3/envs/pytorch_p38/lib/python3.8/site-packages (from ipyplot) (9.0.1)\n",
      "Requirement already satisfied: IPython in /home/ec2-user/anaconda3/envs/pytorch_p38/lib/python3.8/site-packages (from ipyplot) (7.32.0)\n",
      "Requirement already satisfied: botocore<1.27.0,>=1.26.10 in /home/ec2-user/anaconda3/envs/pytorch_p38/lib/python3.8/site-packages (from boto3<2.0,>=1.20.21->sagemaker) (1.26.10)\n",
      "Requirement already satisfied: jmespath<2.0.0,>=0.7.1 in /home/ec2-user/anaconda3/envs/pytorch_p38/lib/python3.8/site-packages (from boto3<2.0,>=1.20.21->sagemaker) (0.10.0)\n",
      "Requirement already satisfied: s3transfer<0.6.0,>=0.5.0 in /home/ec2-user/anaconda3/envs/pytorch_p38/lib/python3.8/site-packages (from boto3<2.0,>=1.20.21->sagemaker) (0.5.2)\n",
      "Requirement already satisfied: zipp>=0.5 in /home/ec2-user/anaconda3/envs/pytorch_p38/lib/python3.8/site-packages (from importlib-metadata<5.0,>=1.4.0->sagemaker) (3.6.0)\n",
      "Requirement already satisfied: pyparsing!=3.0.5,>=2.0.2 in /home/ec2-user/anaconda3/envs/pytorch_p38/lib/python3.8/site-packages (from packaging>=20.0->sagemaker) (3.0.6)\n",
      "Requirement already satisfied: six in /home/ec2-user/anaconda3/envs/pytorch_p38/lib/python3.8/site-packages (from protobuf3-to-dict<1.0,>=0.1.5->sagemaker) (1.16.0)\n",
      "Requirement already satisfied: prompt-toolkit!=3.0.0,!=3.0.1,<3.1.0,>=2.0.0 in /home/ec2-user/anaconda3/envs/pytorch_p38/lib/python3.8/site-packages (from IPython->ipyplot) (3.0.22)\n",
      "Requirement already satisfied: jedi>=0.16 in /home/ec2-user/anaconda3/envs/pytorch_p38/lib/python3.8/site-packages (from IPython->ipyplot) (0.17.2)\n",
      "Requirement already satisfied: backcall in /home/ec2-user/anaconda3/envs/pytorch_p38/lib/python3.8/site-packages (from IPython->ipyplot) (0.2.0)\n",
      "Requirement already satisfied: decorator in /home/ec2-user/anaconda3/envs/pytorch_p38/lib/python3.8/site-packages (from IPython->ipyplot) (5.1.0)\n",
      "Requirement already satisfied: setuptools>=18.5 in /home/ec2-user/anaconda3/envs/pytorch_p38/lib/python3.8/site-packages (from IPython->ipyplot) (59.2.0)\n",
      "Requirement already satisfied: traitlets>=4.2 in /home/ec2-user/anaconda3/envs/pytorch_p38/lib/python3.8/site-packages (from IPython->ipyplot) (5.1.1)\n",
      "Requirement already satisfied: matplotlib-inline in /home/ec2-user/anaconda3/envs/pytorch_p38/lib/python3.8/site-packages (from IPython->ipyplot) (0.1.3)\n",
      "Requirement already satisfied: pexpect>4.3 in /home/ec2-user/anaconda3/envs/pytorch_p38/lib/python3.8/site-packages (from IPython->ipyplot) (4.8.0)\n",
      "Requirement already satisfied: pickleshare in /home/ec2-user/anaconda3/envs/pytorch_p38/lib/python3.8/site-packages (from IPython->ipyplot) (0.7.5)\n",
      "Requirement already satisfied: pygments in /home/ec2-user/anaconda3/envs/pytorch_p38/lib/python3.8/site-packages (from IPython->ipyplot) (2.10.0)\n",
      "Requirement already satisfied: python-dateutil>=2.7.3 in /home/ec2-user/anaconda3/envs/pytorch_p38/lib/python3.8/site-packages (from pandas->sagemaker) (2.8.2)\n",
      "Requirement already satisfied: pytz>=2017.3 in /home/ec2-user/anaconda3/envs/pytorch_p38/lib/python3.8/site-packages (from pandas->sagemaker) (2021.3)\n",
      "Requirement already satisfied: multiprocess>=0.70.12 in /home/ec2-user/anaconda3/envs/pytorch_p38/lib/python3.8/site-packages (from pathos->sagemaker) (0.70.12.2)\n",
      "Requirement already satisfied: dill>=0.3.4 in /home/ec2-user/anaconda3/envs/pytorch_p38/lib/python3.8/site-packages (from pathos->sagemaker) (0.3.4)\n",
      "Requirement already satisfied: pox>=0.3.0 in /home/ec2-user/anaconda3/envs/pytorch_p38/lib/python3.8/site-packages (from pathos->sagemaker) (0.3.0)\n",
      "Requirement already satisfied: ppft>=1.6.6.4 in /home/ec2-user/anaconda3/envs/pytorch_p38/lib/python3.8/site-packages (from pathos->sagemaker) (1.6.6.4)\n",
      "Requirement already satisfied: urllib3<1.27,>=1.25.4 in /home/ec2-user/anaconda3/envs/pytorch_p38/lib/python3.8/site-packages (from botocore<1.27.0,>=1.26.10->boto3<2.0,>=1.20.21->sagemaker) (1.26.8)\n",
      "Requirement already satisfied: parso<0.8.0,>=0.7.0 in /home/ec2-user/anaconda3/envs/pytorch_p38/lib/python3.8/site-packages (from jedi>=0.16->IPython->ipyplot) (0.7.0)\n",
      "Requirement already satisfied: ptyprocess>=0.5 in /home/ec2-user/anaconda3/envs/pytorch_p38/lib/python3.8/site-packages (from pexpect>4.3->IPython->ipyplot) (0.7.0)\n",
      "Requirement already satisfied: wcwidth in /home/ec2-user/anaconda3/envs/pytorch_p38/lib/python3.8/site-packages (from prompt-toolkit!=3.0.0,!=3.0.1,<3.1.0,>=2.0.0->IPython->ipyplot) (0.2.5)\n",
      "Installing collected packages: shortuuid, jsonlines, ipyplot\n",
      "Successfully installed ipyplot-1.1.1 jsonlines-3.1.0 shortuuid-1.0.9\n",
      "\u001b[33mWARNING: You are using pip version 22.0.4; however, version 22.1.2 is available.\n",
      "You should consider upgrading via the '/home/ec2-user/anaconda3/envs/pytorch_p38/bin/python -m pip install --upgrade pip' command.\u001b[0m\u001b[33m\n",
      "\u001b[0m"
     ]
    }
   ],
   "source": [
    "import sys\n",
    "import IPython\n",
    "\n",
    "if install_needed:\n",
    "    print(\"installing deps and restarting kernel\")\n",
    "#     !{sys.executable} -m pip install -U split-folders tqdm albumentations crc32c wget\n",
    "    !{sys.executable} -m pip install 'sagemaker[local]' --upgrade\n",
    "    !{sys.executable} -m pip install -U smdebug sagemaker-experiments\n",
    "    !{sys.executable} -m pip install -U sagemaker ipyplot jsonlines\n",
    "    # !/bin/bash ./local/local_change_setting.sh\n",
    "    IPython.Application.instance().kernel.do_shutdown(True)"
   ]
  },
  {
   "cell_type": "markdown",
   "metadata": {
    "tags": []
   },
   "source": [
    "## 2. 모델 실험 환경 설정\n",
    "\n",
    "<p>Sagemaker 학습에 필요한 기본적인 package를 import 합니다. </p>\n",
    "<p>boto3는 HTTP API 호출을 숨기는 편한 추상화 모델을 가지고 있고, Amazon EC2 인스턴스 및 S3 버켓과 같은 AWS 리소스와 동작하는 파이선 클래스를 제공합니다. </p>\n",
    "<p>sagemaker python sdk는 Amazon SageMaker에서 기계 학습 모델을 교육 및 배포하기 위한 오픈 소스 라이브러리입니다.</p>"
   ]
  },
  {
   "cell_type": "code",
   "execution_count": 1,
   "metadata": {},
   "outputs": [],
   "source": [
    "import joblib\n",
    "import sagemaker\n",
    "\n",
    "import datetime\n",
    "import glob\n",
    "import os\n",
    "import time\n",
    "import warnings\n",
    "\n",
    "import sys\n",
    "import matplotlib.image as mpimg\n",
    "import ipyplot\n",
    "\n",
    "from smexperiments.experiment import Experiment\n",
    "from smexperiments.trial import Trial\n",
    "\n",
    "import shutil\n",
    "\n",
    "import boto3\n",
    "import numpy as np\n",
    "import pandas as pd\n",
    "\n",
    "# from tqdm import tqdm\n",
    "from time import strftime\n",
    "from PIL import Image\n",
    "\n",
    "from sagemaker import get_execution_role\n",
    "from sagemaker.pytorch import PyTorch\n",
    "\n",
    "from sagemaker.debugger import (Rule,\n",
    "                                rule_configs,\n",
    "                                ProfilerConfig, \n",
    "                                FrameworkProfile, \n",
    "                                DetailedProfilingConfig, \n",
    "                                DataloaderProfilingConfig, \n",
    "                                PythonProfilingConfig)\n",
    "\n",
    "%matplotlib inline"
   ]
  },
  {
   "cell_type": "code",
   "execution_count": 2,
   "metadata": {},
   "outputs": [],
   "source": [
    "role = get_execution_role()\n",
    "\n",
    "sess = boto3.Session()\n",
    "region = sess.region_name\n",
    "account = boto3.client(\"sts\").get_caller_identity().get(\"Account\")"
   ]
  },
  {
   "cell_type": "code",
   "execution_count": 3,
   "metadata": {},
   "outputs": [
    {
     "data": {
      "text/plain": [
       "'2.99.0'"
      ]
     },
     "execution_count": 3,
     "metadata": {},
     "output_type": "execute_result"
    }
   ],
   "source": [
    "sagemaker.__version__"
   ]
  },
  {
   "cell_type": "code",
   "execution_count": 4,
   "metadata": {},
   "outputs": [],
   "source": [
    "def create_experiment(experiment_name):\n",
    "    try:\n",
    "        sm_experiment = Experiment.load(experiment_name)\n",
    "    except:\n",
    "        sm_experiment = Experiment.create(experiment_name=experiment_name)"
   ]
  },
  {
   "cell_type": "code",
   "execution_count": 24,
   "metadata": {},
   "outputs": [],
   "source": [
    "def create_trial(experiment_name):\n",
    "    create_date = strftime(\"%m%d-%H%M%s\")\n",
    "    sm_trial = Trial.create(trial_name=f'{experiment_name}-{create_date}',\n",
    "                            experiment_name=experiment_name)\n",
    "\n",
    "    job_name = f'{sm_trial.trial_name}'\n",
    "    return job_name"
   ]
  },
  {
   "cell_type": "markdown",
   "metadata": {},
   "source": [
    "## 3. custom training container 생성\n",
    "현재 사용하는 노트북의 iam role에 IAMFullAccess을 추가한 이후에 아래 작업을 수행합니다."
   ]
  },
  {
   "cell_type": "code",
   "execution_count": 9,
   "metadata": {},
   "outputs": [],
   "source": [
    "# iam_client = boto3.client('iam')\n",
    "# role=get_execution_role()\n",
    "# base_role_name=role.split('/')[-1]"
   ]
  },
  {
   "cell_type": "code",
   "execution_count": 10,
   "metadata": {},
   "outputs": [],
   "source": [
    "# iam_client.attach_role_policy(\n",
    "#     RoleName=base_role_name,\n",
    "#     PolicyArn='arn:aws:iam::aws:policy/AmazonEC2ContainerRegistryFullAccess'\n",
    "# )"
   ]
  },
  {
   "cell_type": "code",
   "execution_count": 11,
   "metadata": {},
   "outputs": [],
   "source": [
    "# %%bash\n",
    "# cd ./docker\n",
    "# echo $(pwd)\n",
    "# container_name=yolov5-training-sagemaker\n",
    "# account=$(aws sts get-caller-identity --query Account --output text)\n",
    "\n",
    "# # Get the region defined in the current configuration (default to us-west-2 if none defined)\n",
    "# region=$(aws configure get region)\n",
    "# region=${region:-us-west-2}\n",
    "\n",
    "# fullname=\"${account}.dkr.ecr.${region}.amazonaws.com/${container_name}:1.0\"\n",
    "\n",
    "# # If the repository doesn't exist in ECR, create it.\n",
    "# aws ecr describe-repositories --repository-names \"${container_name}\" > /dev/null 2>&1\n",
    "# if [ $? -ne 0 ]\n",
    "# then\n",
    "#     aws ecr create-repository --repository-name \"${container_name}\" > /dev/null\n",
    "# fi\n",
    "\n",
    "# # Get the login command from ECR and execute it directly\n",
    "# $(aws ecr get-login-password --region us-west-2 | docker login --username AWS --password-stdin \"763104351884.dkr.ecr.us-west-2.amazonaws.com\")\n",
    "\n",
    "# # Build the docker image locally with the image name and then push it to ECR\n",
    "# # with the full name.\n",
    "# docker build -f Dockerfile -t ${fullname} .\n",
    "# # docker tag ${container_name} ${fullname}\n",
    "\n",
    "# # Get the login command from ECR and execute it directly\n",
    "# $(aws ecr get-login --region ${region} --no-include-email)\n",
    "# docker push ${fullname}"
   ]
  },
  {
   "cell_type": "markdown",
   "metadata": {
    "tags": []
   },
   "source": [
    "## 4. yolov5 format 데이터 설정"
   ]
  },
  {
   "cell_type": "markdown",
   "metadata": {},
   "source": [
    "실습에 사용한 데이터셋은 [roboflow 에서 공개한 BCCD Dataset](https://public.roboflow.com/object-detection/bccd)으로, 혈액의 WBC(백혈구), RBC(적혈구), Platelets(혈소판)를 촬영한 이미지들입니다.\n",
    "\n",
    "yolov5 object detection모델을 학습하기 위한 train/val/test 데이터셋은 다음과 같은 폴더 구조를 따라야 합니다. `images` 폴더에는 이미지를 저장하고, `labels` 폴더에는 이미지 별 annotation 결과 파일을 저장합니다.\n",
    "```\n",
    "├── test\n",
    "│   ├── images\n",
    "│   └── labels\n",
    "├── train\n",
    "│   ├── images\n",
    "│   └── labels\n",
    "└── valid\n",
    "    ├── images\n",
    "    └── labels\n",
    "```"
   ]
  },
  {
   "cell_type": "markdown",
   "metadata": {},
   "source": [
    "YOLOv5에서는 데이터셋이 저장된 경로와 Class수, Class이름을 별도 YAML파일에 선언합니다. \n",
    "\n",
    "- `data_sm.yaml`: 학습을 SageMaker Local mode, SageMaker managed training에서 수행할 경우 사용하는 설정 파일입니다. SageMaker는 S3에 저장된 데이터셋을(managed training의 경우, Local mode에서는 Local에 저장된 데이터셋) SageMaker container 내 `/opt/ml/input/data/[channel_name]/` 에 저장하므로 `train`, `val` 경로는 Jupyter notebook local 경로가 아닌 SageMaker container의 경로를 지정합니다."
   ]
  },
  {
   "cell_type": "code",
   "execution_count": 12,
   "metadata": {},
   "outputs": [
    {
     "name": "stdout",
     "output_type": "stream",
     "text": [
      "Writing yolov5/data/data_sm.yaml\n"
     ]
    }
   ],
   "source": [
    "%%writefile yolov5/data/data_sm.yaml\n",
    "train: /opt/ml/input/data/inputdata/train/images\n",
    "val: /opt/ml/input/data/inputdata/valid/images\n",
    "\n",
    "nc: 3\n",
    "names: ['Platelets', 'RBC', 'WBC']"
   ]
  },
  {
   "cell_type": "markdown",
   "metadata": {},
   "source": [
    "## 5. Estimator 설정"
   ]
  },
  {
   "cell_type": "markdown",
   "metadata": {},
   "source": [
    "### Metric definitions 정의"
   ]
  },
  {
   "cell_type": "markdown",
   "metadata": {},
   "source": [
    "학습코드 수행 시 발생하는 Standard output 로그에서 특정 패턴을 만족하는 값을 찾아 CloudWatch 사용자 metric으로 저장할 수 있습니다. `metric_definitions`는 SageMaker `Estimator`를 선언할 때 `metric_definitions` 파라미터의 값으로 전달 합니다."
   ]
  },
  {
   "cell_type": "code",
   "execution_count": 13,
   "metadata": {},
   "outputs": [],
   "source": [
    "# TODO\n",
    "metric_definitions = [\n",
    "    {'Name': 'Precision', 'Regex': r'all\\s+[0-9.]+\\s+[0-9.]+\\s+([0-9.]+)'},\n",
    "    {'Name': 'Recall', 'Regex': r'all\\s+[0-9.]+\\s+[0-9.]+\\s+[0-9.]+\\s+([0-9.]+)'},\n",
    "    {'Name': 'mAP@.5', 'Regex': r'all\\s+[0-9.]+\\s+[0-9.]+\\s+[0-9.]+\\s+[0-9.]+\\s+([0-9.]+)'},\n",
    "    {'Name': 'mAP@.5:.95', 'Regex': r'all\\s+[0-9.]+\\s+[0-9.]+\\s+[0-9.]+\\s+[0-9.]+\\s+[0-9.]+\\s+([0-9.]+)'}\n",
    "]"
   ]
  },
  {
   "cell_type": "markdown",
   "metadata": {},
   "source": [
    "### Storage 설정"
   ]
  },
  {
   "cell_type": "code",
   "execution_count": 16,
   "metadata": {},
   "outputs": [],
   "source": [
    "sagemaker_session = sagemaker.Session()\n",
    "bucket = sagemaker_session.default_bucket()"
   ]
  },
  {
   "cell_type": "code",
   "execution_count": 15,
   "metadata": {},
   "outputs": [],
   "source": [
    "bucket = 'XXXXXXXXXXXXX'  ## <== Create a bucket in your account and modify the bucket name."
   ]
  },
  {
   "cell_type": "markdown",
   "metadata": {},
   "source": [
    "### Hyperparameters 설정"
   ]
  },
  {
   "cell_type": "code",
   "execution_count": 17,
   "metadata": {},
   "outputs": [],
   "source": [
    "hyperparameters = {\n",
    "    'data': '/opt/ml/code/data/data_sm.yaml',\n",
    "    'cfg': 'yolov5s.yaml',\n",
    "    'weights': '/opt/ml/code/weights/yolov5s.pt', # Transfer learning\n",
    "    'batch-size': 64,\n",
    "    'epochs': 1,\n",
    "    'project': '/opt/ml/model',\n",
    "    'workers': 0, # To avoid shm OOM issue\n",
    "    'freeze': 10, # For transfer learning, freeze all Layers except for the final output convolution layers.\n",
    "}"
   ]
  },
  {
   "cell_type": "markdown",
   "metadata": {},
   "source": [
    "### Instance 및 최대 학습 시간 설정"
   ]
  },
  {
   "cell_type": "code",
   "execution_count": 18,
   "metadata": {},
   "outputs": [],
   "source": [
    "experiment_name = 'yolov5-poc-exp1'\n",
    "instance_type = 'ml.m5.4xlarge' \n",
    "instance_type = 'local'\n",
    "instance_count = 1\n",
    "do_spot_training = False\n",
    "max_wait = None\n",
    "max_run = 1*60*60"
   ]
  },
  {
   "cell_type": "markdown",
   "metadata": {},
   "source": [
    "### Local mode"
   ]
  },
  {
   "cell_type": "code",
   "execution_count": 19,
   "metadata": {},
   "outputs": [],
   "source": [
    "from pathlib import Path\n",
    "source_dir = f'{Path.cwd()}/yolov5'\n",
    "\n",
    "\n",
    "if instance_type in ['local_gpu', 'local']:\n",
    "    from sagemaker.local import LocalSession\n",
    "    \n",
    "    sagemaker_session = LocalSession()\n",
    "    sagemaker_session.config = {'local': {'local_code': True}}\n",
    "    s3_data_path = f'file://{Path.cwd()}/BCCD'\n",
    "    \n",
    "    checkpoint_s3_uri = None\n",
    "else:\n",
    "    sagemaker_session = sagemaker.Session()\n",
    "    s3_data_path = f's3://{bucket}/dataset/BCCD'\n",
    "\n",
    "    checkpoint_s3_uri = f's3://{bucket}/poc_yolov5/checkpoints'\n",
    "    !aws s3 sync ./BCCD {s3_data_path} --quiet"
   ]
  },
  {
   "cell_type": "code",
   "execution_count": 20,
   "metadata": {},
   "outputs": [
    {
     "name": "stdout",
     "output_type": "stream",
     "text": [
      "train_job_name : sm \n",
      "train_instance_type : local \n",
      "train_instance_count : 1 \n",
      "image_uri : None \n",
      "distribution : None\n"
     ]
    }
   ],
   "source": [
    "image_uri = None\n",
    "distribution = None\n",
    "train_job_name = 'sm'\n",
    "\n",
    "if do_spot_training:\n",
    "    max_wait = max_run\n",
    "\n",
    "print(\"train_job_name : {} \\ntrain_instance_type : {} \\ntrain_instance_count : {} \\nimage_uri : {} \\ndistribution : {}\".format(train_job_name, instance_type, instance_count, image_uri, distribution))    "
   ]
  },
  {
   "cell_type": "code",
   "execution_count": 21,
   "metadata": {},
   "outputs": [],
   "source": [
    "# all input configurations, parameters, and metrics specified in estimator \n",
    "# definition are automatically tracked\n",
    "estimator = PyTorch(\n",
    "    entry_point='train.py',\n",
    "    source_dir=source_dir,\n",
    "    role=role,\n",
    "    sagemaker_session=sagemaker_session,\n",
    "    framework_version='1.10',\n",
    "    py_version='py38',\n",
    "    # image_uri=image_uri,\n",
    "    instance_count=instance_count,\n",
    "    instance_type=instance_type,\n",
    "    # volume_size=1024,\n",
    "    # code_location = code_location,\n",
    "    # output_path=output_path,\n",
    "    hyperparameters=hyperparameters,\n",
    "    # distribution=distribution,\n",
    "    # disable_profiler=True,\n",
    "    # debugger_hook_config=False,\n",
    "    metric_definitions=metric_definitions,\n",
    "    max_run=max_run,\n",
    "    use_spot_instances=do_spot_training,\n",
    "    max_wait=max_wait,\n",
    "    checkpoint_s3_uri=checkpoint_s3_uri,\n",
    ")"
   ]
  },
  {
   "cell_type": "code",
   "execution_count": 22,
   "metadata": {},
   "outputs": [],
   "source": [
    "!sudo rm -rf ./yolov5/weights/"
   ]
  },
  {
   "cell_type": "code",
   "execution_count": 25,
   "metadata": {},
   "outputs": [
    {
     "name": "stderr",
     "output_type": "stream",
     "text": [
      "INFO:sagemaker.image_uris:Defaulting to the only supported framework/algorithm version: latest.\n",
      "INFO:sagemaker.image_uris:Ignoring unnecessary instance type: None.\n",
      "INFO:sagemaker:Creating training-job with name: yolov5-poc-exp1-0712-02241657592655\n",
      "INFO:sagemaker.local.local_session:Starting training job\n",
      "INFO:sagemaker.local.image:No AWS credentials found in session but credentials from EC2 Metadata Service are available.\n",
      "INFO:sagemaker.local.image:docker compose file: \n",
      "networks:\n",
      "  sagemaker-local:\n",
      "    name: sagemaker-local\n",
      "services:\n",
      "  algo-1-9pv8i:\n",
      "    command: train\n",
      "    container_name: 11dxhmz1fu-algo-1-9pv8i\n",
      "    environment:\n",
      "    - '[Masked]'\n",
      "    - '[Masked]'\n",
      "    image: 763104351884.dkr.ecr.us-west-2.amazonaws.com/pytorch-training:1.10-cpu-py38\n",
      "    networks:\n",
      "      sagemaker-local:\n",
      "        aliases:\n",
      "        - algo-1-9pv8i\n",
      "    stdin_open: true\n",
      "    tty: true\n",
      "    volumes:\n",
      "    - /tmp/tmps66ac15f/algo-1-9pv8i/output/data:/opt/ml/output/data\n",
      "    - /tmp/tmps66ac15f/algo-1-9pv8i/input:/opt/ml/input\n",
      "    - /tmp/tmps66ac15f/algo-1-9pv8i/output:/opt/ml/output\n",
      "    - /tmp/tmps66ac15f/model:/opt/ml/model\n",
      "    - /opt/ml/metadata:/opt/ml/metadata\n",
      "    - /home/ec2-user/SageMaker/mlops-ramp/1.SageMaker-Training-Processing/BCCD:/opt/ml/input/data/inputdata\n",
      "    - /home/ec2-user/SageMaker/mlops-ramp/1.SageMaker-Training-Processing/yolov5:/opt/ml/code\n",
      "    - /tmp/tmps66ac15f/shared:/opt/ml/shared\n",
      "version: '2.3'\n",
      "\n",
      "INFO:sagemaker.local.image:docker command: docker-compose -f /tmp/tmps66ac15f/docker-compose.yaml up --build --abort-on-container-exit\n",
      "WARNING! Your password will be stored unencrypted in /home/ec2-user/.docker/config.json.\n",
      "Configure a credential helper to remove this warning. See\n",
      "https://docs.docker.com/engine/reference/commandline/login/#credentials-store\n",
      "\n",
      "INFO:sagemaker.local.image:docker command: docker pull 763104351884.dkr.ecr.us-west-2.amazonaws.com/pytorch-training:1.10-cpu-py38\n"
     ]
    },
    {
     "name": "stdout",
     "output_type": "stream",
     "text": [
      "Login Succeeded\n"
     ]
    },
    {
     "name": "stderr",
     "output_type": "stream",
     "text": [
      "INFO:sagemaker.local.image:image pulled: 763104351884.dkr.ecr.us-west-2.amazonaws.com/pytorch-training:1.10-cpu-py38\n"
     ]
    },
    {
     "name": "stdout",
     "output_type": "stream",
     "text": [
      "Creating network \"sagemaker-local\" with the default driver\n",
      "Creating 11dxhmz1fu-algo-1-9pv8i ... \n",
      "Creating 11dxhmz1fu-algo-1-9pv8i ... done\n",
      "Attaching to 11dxhmz1fu-algo-1-9pv8i\n",
      "\u001b[36m11dxhmz1fu-algo-1-9pv8i |\u001b[0m 2022-07-12 02:25:38,886 sagemaker-training-toolkit INFO     Imported framework sagemaker_pytorch_container.training\n",
      "\u001b[36m11dxhmz1fu-algo-1-9pv8i |\u001b[0m 2022-07-12 02:25:38,888 sagemaker-training-toolkit INFO     No GPUs detected (normal if no gpus installed)\n",
      "\u001b[36m11dxhmz1fu-algo-1-9pv8i |\u001b[0m 2022-07-12 02:25:38,894 sagemaker-training-toolkit INFO     instance_groups entry not present in resource_config\n",
      "\u001b[36m11dxhmz1fu-algo-1-9pv8i |\u001b[0m 2022-07-12 02:25:38,894 sagemaker_pytorch_container.training INFO     Block until all host DNS lookups succeed.\n",
      "\u001b[36m11dxhmz1fu-algo-1-9pv8i |\u001b[0m 2022-07-12 02:25:38,899 sagemaker-training-toolkit INFO     No GPUs detected (normal if no gpus installed)\n",
      "\u001b[36m11dxhmz1fu-algo-1-9pv8i |\u001b[0m 2022-07-12 02:25:38,905 sagemaker-training-toolkit INFO     instance_groups entry not present in resource_config\n",
      "\u001b[36m11dxhmz1fu-algo-1-9pv8i |\u001b[0m 2022-07-12 02:25:38,905 sagemaker_pytorch_container.training INFO     Invoking user training script.\n",
      "\u001b[36m11dxhmz1fu-algo-1-9pv8i |\u001b[0m 2022-07-12 02:25:38,906 sagemaker-training-toolkit INFO     Installing dependencies from requirements.txt:\n",
      "\u001b[36m11dxhmz1fu-algo-1-9pv8i |\u001b[0m /opt/conda/bin/python3.8 -m pip install -r requirements.txt\n",
      "\u001b[36m11dxhmz1fu-algo-1-9pv8i |\u001b[0m Requirement already satisfied: matplotlib>=3.2.2 in /opt/conda/lib/python3.8/site-packages (from -r requirements.txt (line 5)) (3.5.2)\n",
      "\u001b[36m11dxhmz1fu-algo-1-9pv8i |\u001b[0m Requirement already satisfied: numpy>=1.18.5 in /opt/conda/lib/python3.8/site-packages (from -r requirements.txt (line 6)) (1.23.0)\n",
      "\u001b[36m11dxhmz1fu-algo-1-9pv8i |\u001b[0m Requirement already satisfied: opencv-python>=4.1.1 in /opt/conda/lib/python3.8/site-packages (from -r requirements.txt (line 7)) (4.6.0.66)\n",
      "\u001b[36m11dxhmz1fu-algo-1-9pv8i |\u001b[0m Requirement already satisfied: Pillow>=7.1.2 in /opt/conda/lib/python3.8/site-packages (from -r requirements.txt (line 8)) (9.1.1)\n",
      "\u001b[36m11dxhmz1fu-algo-1-9pv8i |\u001b[0m Requirement already satisfied: PyYAML>=5.3.1 in /opt/conda/lib/python3.8/site-packages (from -r requirements.txt (line 9)) (5.4.1)\n",
      "\u001b[36m11dxhmz1fu-algo-1-9pv8i |\u001b[0m Requirement already satisfied: requests>=2.23.0 in /opt/conda/lib/python3.8/site-packages (from -r requirements.txt (line 10)) (2.28.1)\n",
      "\u001b[36m11dxhmz1fu-algo-1-9pv8i |\u001b[0m Requirement already satisfied: scipy>=1.4.1 in /opt/conda/lib/python3.8/site-packages (from -r requirements.txt (line 11)) (1.8.1)\n",
      "\u001b[36m11dxhmz1fu-algo-1-9pv8i |\u001b[0m Requirement already satisfied: torch!=1.12.0,>=1.7.0 in /opt/conda/lib/python3.8/site-packages (from -r requirements.txt (line 12)) (1.10.2+cpu)\n",
      "\u001b[36m11dxhmz1fu-algo-1-9pv8i |\u001b[0m Requirement already satisfied: torchvision!=0.13.0,>=0.8.1 in /opt/conda/lib/python3.8/site-packages (from -r requirements.txt (line 13)) (0.11.3+cpu)\n",
      "\u001b[36m11dxhmz1fu-algo-1-9pv8i |\u001b[0m Requirement already satisfied: tqdm>=4.41.0 in /opt/conda/lib/python3.8/site-packages (from -r requirements.txt (line 14)) (4.63.0)\n",
      "\u001b[36m11dxhmz1fu-algo-1-9pv8i |\u001b[0m Requirement already satisfied: protobuf<4.21.3 in /opt/conda/lib/python3.8/site-packages (from -r requirements.txt (line 15)) (3.19.4)\n",
      "\u001b[36m11dxhmz1fu-algo-1-9pv8i |\u001b[0m Collecting tensorboard>=2.4.1\n",
      "\u001b[36m11dxhmz1fu-algo-1-9pv8i |\u001b[0m Downloading tensorboard-2.9.1-py3-none-any.whl (5.8 MB)\n",
      "\u001b[36m11dxhmz1fu-algo-1-9pv8i |\u001b[0m ━━━━━━━━━━━━━━━━━━━━━━━━━━━━━━━━━━━━━━━━ 5.8/5.8 MB 56.7 MB/s eta 0:00:00\n",
      "\u001b[36m11dxhmz1fu-algo-1-9pv8i |\u001b[0m \n",
      "\u001b[36m11dxhmz1fu-algo-1-9pv8i |\u001b[0m Requirement already satisfied: pandas>=1.1.4 in /opt/conda/lib/python3.8/site-packages (from -r requirements.txt (line 22)) (1.4.3)\n",
      "\u001b[36m11dxhmz1fu-algo-1-9pv8i |\u001b[0m Requirement already satisfied: seaborn>=0.11.0 in /opt/conda/lib/python3.8/site-packages (from -r requirements.txt (line 23)) (0.11.2)\n",
      "\u001b[36m11dxhmz1fu-algo-1-9pv8i |\u001b[0m Requirement already satisfied: ipython in /opt/conda/lib/python3.8/site-packages (from -r requirements.txt (line 35)) (8.0.1)\n",
      "\u001b[36m11dxhmz1fu-algo-1-9pv8i |\u001b[0m Requirement already satisfied: psutil in /opt/conda/lib/python3.8/site-packages (from -r requirements.txt (line 36)) (5.9.1)\n",
      "\u001b[36m11dxhmz1fu-algo-1-9pv8i |\u001b[0m Collecting thop\n",
      "\u001b[36m11dxhmz1fu-algo-1-9pv8i |\u001b[0m Downloading thop-0.1.0.post2207010342-py3-none-any.whl (15 kB)\n",
      "\u001b[36m11dxhmz1fu-algo-1-9pv8i |\u001b[0m Requirement already satisfied: fonttools>=4.22.0 in /opt/conda/lib/python3.8/site-packages (from matplotlib>=3.2.2->-r requirements.txt (line 5)) (4.33.3)\n",
      "\u001b[36m11dxhmz1fu-algo-1-9pv8i |\u001b[0m Requirement already satisfied: packaging>=20.0 in /opt/conda/lib/python3.8/site-packages (from matplotlib>=3.2.2->-r requirements.txt (line 5)) (21.3)\n",
      "\u001b[36m11dxhmz1fu-algo-1-9pv8i |\u001b[0m Requirement already satisfied: cycler>=0.10 in /opt/conda/lib/python3.8/site-packages (from matplotlib>=3.2.2->-r requirements.txt (line 5)) (0.11.0)\n",
      "\u001b[36m11dxhmz1fu-algo-1-9pv8i |\u001b[0m Requirement already satisfied: pyparsing>=2.2.1 in /opt/conda/lib/python3.8/site-packages (from matplotlib>=3.2.2->-r requirements.txt (line 5)) (3.0.9)\n",
      "\u001b[36m11dxhmz1fu-algo-1-9pv8i |\u001b[0m Requirement already satisfied: python-dateutil>=2.7 in /opt/conda/lib/python3.8/site-packages (from matplotlib>=3.2.2->-r requirements.txt (line 5)) (2.8.2)\n",
      "\u001b[36m11dxhmz1fu-algo-1-9pv8i |\u001b[0m Requirement already satisfied: kiwisolver>=1.0.1 in /opt/conda/lib/python3.8/site-packages (from matplotlib>=3.2.2->-r requirements.txt (line 5)) (1.4.3)\n",
      "\u001b[36m11dxhmz1fu-algo-1-9pv8i |\u001b[0m Requirement already satisfied: urllib3<1.27,>=1.21.1 in /opt/conda/lib/python3.8/site-packages (from requests>=2.23.0->-r requirements.txt (line 10)) (1.26.9)\n",
      "\u001b[36m11dxhmz1fu-algo-1-9pv8i |\u001b[0m Requirement already satisfied: charset-normalizer<3,>=2 in /opt/conda/lib/python3.8/site-packages (from requests>=2.23.0->-r requirements.txt (line 10)) (2.1.0)\n",
      "\u001b[36m11dxhmz1fu-algo-1-9pv8i |\u001b[0m Requirement already satisfied: idna<4,>=2.5 in /opt/conda/lib/python3.8/site-packages (from requests>=2.23.0->-r requirements.txt (line 10)) (3.3)\n",
      "\u001b[36m11dxhmz1fu-algo-1-9pv8i |\u001b[0m Requirement already satisfied: certifi>=2017.4.17 in /opt/conda/lib/python3.8/site-packages (from requests>=2.23.0->-r requirements.txt (line 10)) (2022.6.15)\n",
      "\u001b[36m11dxhmz1fu-algo-1-9pv8i |\u001b[0m Requirement already satisfied: typing-extensions in /opt/conda/lib/python3.8/site-packages (from torch!=1.12.0,>=1.7.0->-r requirements.txt (line 12)) (4.2.0)\n",
      "\u001b[36m11dxhmz1fu-algo-1-9pv8i |\u001b[0m Collecting markdown>=2.6.8\n",
      "\u001b[36m11dxhmz1fu-algo-1-9pv8i |\u001b[0m Downloading Markdown-3.3.7-py3-none-any.whl (97 kB)\n",
      "\u001b[36m11dxhmz1fu-algo-1-9pv8i |\u001b[0m ━━━━━━━━━━━━━━━━━━━━━━━━━━━━━━━━━━━━━━━━ 97.8/97.8 kB 21.1 MB/s eta 0:00:00\n",
      "\u001b[36m11dxhmz1fu-algo-1-9pv8i |\u001b[0m \n",
      "\u001b[36m11dxhmz1fu-algo-1-9pv8i |\u001b[0m Collecting tensorboard-data-server<0.7.0,>=0.6.0\n",
      "\u001b[36m11dxhmz1fu-algo-1-9pv8i |\u001b[0m Downloading tensorboard_data_server-0.6.1-py3-none-manylinux2010_x86_64.whl (4.9 MB)\n",
      "\u001b[36m11dxhmz1fu-algo-1-9pv8i |\u001b[0m ━━━━━━━━━━━━━━━━━━━━━━━━━━━━━━━━━━━━━━━━ 4.9/4.9 MB 94.4 MB/s eta 0:00:00\n",
      "\u001b[36m11dxhmz1fu-algo-1-9pv8i |\u001b[0m \n",
      "\u001b[36m11dxhmz1fu-algo-1-9pv8i |\u001b[0m Collecting google-auth<3,>=1.6.3\n",
      "\u001b[36m11dxhmz1fu-algo-1-9pv8i |\u001b[0m Downloading google_auth-2.9.0-py2.py3-none-any.whl (167 kB)\n",
      "\u001b[36m11dxhmz1fu-algo-1-9pv8i |\u001b[0m ━━━━━━━━━━━━━━━━━━━━━━━━━━━━━━━━━━━━━━ 167.8/167.8 kB 29.1 MB/s eta 0:00:00\n",
      "\u001b[36m11dxhmz1fu-algo-1-9pv8i |\u001b[0m \n",
      "\u001b[36m11dxhmz1fu-algo-1-9pv8i |\u001b[0m Collecting tensorboard-plugin-wit>=1.6.0\n",
      "\u001b[36m11dxhmz1fu-algo-1-9pv8i |\u001b[0m Downloading tensorboard_plugin_wit-1.8.1-py3-none-any.whl (781 kB)\n",
      "\u001b[36m11dxhmz1fu-algo-1-9pv8i |\u001b[0m ━━━━━━━━━━━━━━━━━━━━━━━━━━━━━━━━━━━━━━ 781.3/781.3 kB 74.4 MB/s eta 0:00:00\n",
      "\u001b[36m11dxhmz1fu-algo-1-9pv8i |\u001b[0m \n",
      "\u001b[36m11dxhmz1fu-algo-1-9pv8i |\u001b[0m Requirement already satisfied: wheel>=0.26 in /opt/conda/lib/python3.8/site-packages (from tensorboard>=2.4.1->-r requirements.txt (line 18)) (0.37.1)\n",
      "\u001b[36m11dxhmz1fu-algo-1-9pv8i |\u001b[0m Requirement already satisfied: werkzeug>=1.0.1 in /opt/conda/lib/python3.8/site-packages (from tensorboard>=2.4.1->-r requirements.txt (line 18)) (2.1.2)\n",
      "\u001b[36m11dxhmz1fu-algo-1-9pv8i |\u001b[0m Collecting grpcio>=1.24.3\n",
      "\u001b[36m11dxhmz1fu-algo-1-9pv8i |\u001b[0m Downloading grpcio-1.47.0-cp38-cp38-manylinux_2_17_x86_64.manylinux2014_x86_64.whl (4.5 MB)\n",
      "\u001b[36m11dxhmz1fu-algo-1-9pv8i |\u001b[0m ━━━━━━━━━━━━━━━━━━━━━━━━━━━━━━━━━━━━━━━━ 4.5/4.5 MB 91.2 MB/s eta 0:00:00\n",
      "\u001b[36m11dxhmz1fu-algo-1-9pv8i |\u001b[0m \n",
      "\u001b[36m11dxhmz1fu-algo-1-9pv8i |\u001b[0m Requirement already satisfied: setuptools>=41.0.0 in /opt/conda/lib/python3.8/site-packages (from tensorboard>=2.4.1->-r requirements.txt (line 18)) (62.6.0)\n",
      "\u001b[36m11dxhmz1fu-algo-1-9pv8i |\u001b[0m Collecting absl-py>=0.4\n",
      "\u001b[36m11dxhmz1fu-algo-1-9pv8i |\u001b[0m Downloading absl_py-1.1.0-py3-none-any.whl (123 kB)\n",
      "\u001b[36m11dxhmz1fu-algo-1-9pv8i |\u001b[0m ━━━━━━━━━━━━━━━━━━━━━━━━━━━━━━━━━━━━━━ 123.7/123.7 kB 25.8 MB/s eta 0:00:00\n",
      "\u001b[36m11dxhmz1fu-algo-1-9pv8i |\u001b[0m \n",
      "\u001b[36m11dxhmz1fu-algo-1-9pv8i |\u001b[0m Collecting google-auth-oauthlib<0.5,>=0.4.1\n",
      "\u001b[36m11dxhmz1fu-algo-1-9pv8i |\u001b[0m Downloading google_auth_oauthlib-0.4.6-py2.py3-none-any.whl (18 kB)\n",
      "\u001b[36m11dxhmz1fu-algo-1-9pv8i |\u001b[0m Requirement already satisfied: pytz>=2020.1 in /opt/conda/lib/python3.8/site-packages (from pandas>=1.1.4->-r requirements.txt (line 22)) (2022.1)\n",
      "\u001b[36m11dxhmz1fu-algo-1-9pv8i |\u001b[0m Requirement already satisfied: pexpect>4.3 in /opt/conda/lib/python3.8/site-packages (from ipython->-r requirements.txt (line 35)) (4.8.0)\n",
      "\u001b[36m11dxhmz1fu-algo-1-9pv8i |\u001b[0m Requirement already satisfied: stack-data in /opt/conda/lib/python3.8/site-packages (from ipython->-r requirements.txt (line 35)) (0.3.0)\n",
      "\u001b[36m11dxhmz1fu-algo-1-9pv8i |\u001b[0m Requirement already satisfied: matplotlib-inline in /opt/conda/lib/python3.8/site-packages (from ipython->-r requirements.txt (line 35)) (0.1.3)\n",
      "\u001b[36m11dxhmz1fu-algo-1-9pv8i |\u001b[0m Requirement already satisfied: traitlets>=5 in /opt/conda/lib/python3.8/site-packages (from ipython->-r requirements.txt (line 35)) (5.3.0)\n",
      "\u001b[36m11dxhmz1fu-algo-1-9pv8i |\u001b[0m Requirement already satisfied: pickleshare in /opt/conda/lib/python3.8/site-packages (from ipython->-r requirements.txt (line 35)) (0.7.5)\n",
      "\u001b[36m11dxhmz1fu-algo-1-9pv8i |\u001b[0m Requirement already satisfied: prompt-toolkit!=3.0.0,!=3.0.1,<3.1.0,>=2.0.0 in /opt/conda/lib/python3.8/site-packages (from ipython->-r requirements.txt (line 35)) (3.0.30)\n",
      "\u001b[36m11dxhmz1fu-algo-1-9pv8i |\u001b[0m Requirement already satisfied: backcall in /opt/conda/lib/python3.8/site-packages (from ipython->-r requirements.txt (line 35)) (0.2.0)\n",
      "\u001b[36m11dxhmz1fu-algo-1-9pv8i |\u001b[0m Requirement already satisfied: jedi>=0.16 in /opt/conda/lib/python3.8/site-packages (from ipython->-r requirements.txt (line 35)) (0.18.1)\n",
      "\u001b[36m11dxhmz1fu-algo-1-9pv8i |\u001b[0m Requirement already satisfied: black in /opt/conda/lib/python3.8/site-packages (from ipython->-r requirements.txt (line 35)) (22.6.0)\n",
      "\u001b[36m11dxhmz1fu-algo-1-9pv8i |\u001b[0m Requirement already satisfied: pygments in /opt/conda/lib/python3.8/site-packages (from ipython->-r requirements.txt (line 35)) (2.12.0)\n",
      "\u001b[36m11dxhmz1fu-algo-1-9pv8i |\u001b[0m Requirement already satisfied: decorator in /opt/conda/lib/python3.8/site-packages (from ipython->-r requirements.txt (line 35)) (5.1.1)\n",
      "\u001b[36m11dxhmz1fu-algo-1-9pv8i |\u001b[0m Requirement already satisfied: rsa<5,>=3.1.4 in /opt/conda/lib/python3.8/site-packages (from google-auth<3,>=1.6.3->tensorboard>=2.4.1->-r requirements.txt (line 18)) (4.7.2)\n",
      "\u001b[36m11dxhmz1fu-algo-1-9pv8i |\u001b[0m Collecting cachetools<6.0,>=2.0.0\n",
      "\u001b[36m11dxhmz1fu-algo-1-9pv8i |\u001b[0m Downloading cachetools-5.2.0-py3-none-any.whl (9.3 kB)\n",
      "\u001b[36m11dxhmz1fu-algo-1-9pv8i |\u001b[0m Collecting pyasn1-modules>=0.2.1\n",
      "\u001b[36m11dxhmz1fu-algo-1-9pv8i |\u001b[0m Downloading pyasn1_modules-0.2.8-py2.py3-none-any.whl (155 kB)\n",
      "\u001b[36m11dxhmz1fu-algo-1-9pv8i |\u001b[0m ━━━━━━━━━━━━━━━━━━━━━━━━━━━━━━━━━━━━━━ 155.3/155.3 kB 23.1 MB/s eta 0:00:00\n",
      "\u001b[36m11dxhmz1fu-algo-1-9pv8i |\u001b[0m \n",
      "\u001b[36m11dxhmz1fu-algo-1-9pv8i |\u001b[0m Requirement already satisfied: six>=1.9.0 in /opt/conda/lib/python3.8/site-packages (from google-auth<3,>=1.6.3->tensorboard>=2.4.1->-r requirements.txt (line 18)) (1.16.0)\n",
      "\u001b[36m11dxhmz1fu-algo-1-9pv8i |\u001b[0m Collecting requests-oauthlib>=0.7.0\n",
      "\u001b[36m11dxhmz1fu-algo-1-9pv8i |\u001b[0m Downloading requests_oauthlib-1.3.1-py2.py3-none-any.whl (23 kB)\n",
      "\u001b[36m11dxhmz1fu-algo-1-9pv8i |\u001b[0m Requirement already satisfied: parso<0.9.0,>=0.8.0 in /opt/conda/lib/python3.8/site-packages (from jedi>=0.16->ipython->-r requirements.txt (line 35)) (0.8.3)\n",
      "\u001b[36m11dxhmz1fu-algo-1-9pv8i |\u001b[0m Requirement already satisfied: importlib-metadata>=4.4 in /opt/conda/lib/python3.8/site-packages (from markdown>=2.6.8->tensorboard>=2.4.1->-r requirements.txt (line 18)) (4.12.0)\n",
      "\u001b[36m11dxhmz1fu-algo-1-9pv8i |\u001b[0m Requirement already satisfied: ptyprocess>=0.5 in /opt/conda/lib/python3.8/site-packages (from pexpect>4.3->ipython->-r requirements.txt (line 35)) (0.7.0)\n",
      "\u001b[36m11dxhmz1fu-algo-1-9pv8i |\u001b[0m Requirement already satisfied: wcwidth in /opt/conda/lib/python3.8/site-packages (from prompt-toolkit!=3.0.0,!=3.0.1,<3.1.0,>=2.0.0->ipython->-r requirements.txt (line 35)) (0.2.5)\n",
      "\u001b[36m11dxhmz1fu-algo-1-9pv8i |\u001b[0m Requirement already satisfied: tomli>=1.1.0 in /opt/conda/lib/python3.8/site-packages (from black->ipython->-r requirements.txt (line 35)) (2.0.1)\n",
      "\u001b[36m11dxhmz1fu-algo-1-9pv8i |\u001b[0m Requirement already satisfied: pathspec>=0.9.0 in /opt/conda/lib/python3.8/site-packages (from black->ipython->-r requirements.txt (line 35)) (0.9.0)\n",
      "\u001b[36m11dxhmz1fu-algo-1-9pv8i |\u001b[0m Requirement already satisfied: mypy-extensions>=0.4.3 in /opt/conda/lib/python3.8/site-packages (from black->ipython->-r requirements.txt (line 35)) (0.4.3)\n",
      "\u001b[36m11dxhmz1fu-algo-1-9pv8i |\u001b[0m Requirement already satisfied: platformdirs>=2 in /opt/conda/lib/python3.8/site-packages (from black->ipython->-r requirements.txt (line 35)) (2.5.2)\n",
      "\u001b[36m11dxhmz1fu-algo-1-9pv8i |\u001b[0m Requirement already satisfied: click>=8.0.0 in /opt/conda/lib/python3.8/site-packages (from black->ipython->-r requirements.txt (line 35)) (8.1.3)\n",
      "\u001b[36m11dxhmz1fu-algo-1-9pv8i |\u001b[0m Requirement already satisfied: asttokens in /opt/conda/lib/python3.8/site-packages (from stack-data->ipython->-r requirements.txt (line 35)) (2.0.5)\n",
      "\u001b[36m11dxhmz1fu-algo-1-9pv8i |\u001b[0m Requirement already satisfied: executing in /opt/conda/lib/python3.8/site-packages (from stack-data->ipython->-r requirements.txt (line 35)) (0.8.3)\n",
      "\u001b[36m11dxhmz1fu-algo-1-9pv8i |\u001b[0m Requirement already satisfied: pure-eval in /opt/conda/lib/python3.8/site-packages (from stack-data->ipython->-r requirements.txt (line 35)) (0.2.2)\n",
      "\u001b[36m11dxhmz1fu-algo-1-9pv8i |\u001b[0m Requirement already satisfied: zipp>=0.5 in /opt/conda/lib/python3.8/site-packages (from importlib-metadata>=4.4->markdown>=2.6.8->tensorboard>=2.4.1->-r requirements.txt (line 18)) (3.8.0)\n",
      "\u001b[36m11dxhmz1fu-algo-1-9pv8i |\u001b[0m Requirement already satisfied: pyasn1<0.5.0,>=0.4.6 in /opt/conda/lib/python3.8/site-packages (from pyasn1-modules>=0.2.1->google-auth<3,>=1.6.3->tensorboard>=2.4.1->-r requirements.txt (line 18)) (0.4.8)\n",
      "\u001b[36m11dxhmz1fu-algo-1-9pv8i |\u001b[0m Collecting oauthlib>=3.0.0\n",
      "\u001b[36m11dxhmz1fu-algo-1-9pv8i |\u001b[0m Downloading oauthlib-3.2.0-py3-none-any.whl (151 kB)\n",
      "\u001b[36m11dxhmz1fu-algo-1-9pv8i |\u001b[0m ━━━━━━━━━━━━━━━━━━━━━━━━━━━━━━━━━━━━━━ 151.5/151.5 kB 26.9 MB/s eta 0:00:00\n",
      "\u001b[36m11dxhmz1fu-algo-1-9pv8i |\u001b[0m \n",
      "\u001b[36m11dxhmz1fu-algo-1-9pv8i |\u001b[0m Installing collected packages: tensorboard-plugin-wit, tensorboard-data-server, pyasn1-modules, oauthlib, grpcio, cachetools, absl-py, thop, requests-oauthlib, markdown, google-auth, google-auth-oauthlib, tensorboard\n",
      "\u001b[36m11dxhmz1fu-algo-1-9pv8i |\u001b[0m Successfully installed absl-py-1.1.0 cachetools-5.2.0 google-auth-2.9.0 google-auth-oauthlib-0.4.6 grpcio-1.47.0 markdown-3.3.7 oauthlib-3.2.0 pyasn1-modules-0.2.8 requests-oauthlib-1.3.1 tensorboard-2.9.1 tensorboard-data-server-0.6.1 tensorboard-plugin-wit-1.8.1 thop-0.1.0.post2207010342\n",
      "\u001b[36m11dxhmz1fu-algo-1-9pv8i |\u001b[0m WARNING: Running pip as the 'root' user can result in broken permissions and conflicting behaviour with the system package manager. It is recommended to use a virtual environment instead: https://pip.pypa.io/warnings/venv\n",
      "\u001b[36m11dxhmz1fu-algo-1-9pv8i |\u001b[0m 2022-07-12 02:25:43,031 sagemaker-training-toolkit INFO     Waiting for the process to finish and give a return code.\n",
      "\u001b[36m11dxhmz1fu-algo-1-9pv8i |\u001b[0m 2022-07-12 02:25:43,032 sagemaker-training-toolkit INFO     Done waiting for a return code. Received 0 from exiting process.\n",
      "\u001b[36m11dxhmz1fu-algo-1-9pv8i |\u001b[0m 2022-07-12 02:25:43,034 sagemaker-training-toolkit INFO     No GPUs detected (normal if no gpus installed)\n",
      "\u001b[36m11dxhmz1fu-algo-1-9pv8i |\u001b[0m 2022-07-12 02:25:43,041 sagemaker-training-toolkit INFO     instance_groups entry not present in resource_config\n",
      "\u001b[36m11dxhmz1fu-algo-1-9pv8i |\u001b[0m 2022-07-12 02:25:43,043 sagemaker-training-toolkit INFO     No GPUs detected (normal if no gpus installed)\n",
      "\u001b[36m11dxhmz1fu-algo-1-9pv8i |\u001b[0m 2022-07-12 02:25:43,050 sagemaker-training-toolkit INFO     instance_groups entry not present in resource_config\n",
      "\u001b[36m11dxhmz1fu-algo-1-9pv8i |\u001b[0m 2022-07-12 02:25:43,052 sagemaker-training-toolkit INFO     No GPUs detected (normal if no gpus installed)\n",
      "\u001b[36m11dxhmz1fu-algo-1-9pv8i |\u001b[0m 2022-07-12 02:25:43,058 sagemaker-training-toolkit INFO     instance_groups entry not present in resource_config\n",
      "\u001b[36m11dxhmz1fu-algo-1-9pv8i |\u001b[0m 2022-07-12 02:25:43,058 sagemaker-training-toolkit INFO     Invoking user script\n",
      "\u001b[36m11dxhmz1fu-algo-1-9pv8i |\u001b[0m \n",
      "\u001b[36m11dxhmz1fu-algo-1-9pv8i |\u001b[0m Training Env:\n",
      "\u001b[36m11dxhmz1fu-algo-1-9pv8i |\u001b[0m \n",
      "\u001b[36m11dxhmz1fu-algo-1-9pv8i |\u001b[0m {\n",
      "\u001b[36m11dxhmz1fu-algo-1-9pv8i |\u001b[0m     \"additional_framework_parameters\": {},\n",
      "\u001b[36m11dxhmz1fu-algo-1-9pv8i |\u001b[0m     \"channel_input_dirs\": {\n",
      "\u001b[36m11dxhmz1fu-algo-1-9pv8i |\u001b[0m         \"inputdata\": \"/opt/ml/input/data/inputdata\"\n",
      "\u001b[36m11dxhmz1fu-algo-1-9pv8i |\u001b[0m     },\n",
      "\u001b[36m11dxhmz1fu-algo-1-9pv8i |\u001b[0m     \"current_host\": \"algo-1-9pv8i\",\n",
      "\u001b[36m11dxhmz1fu-algo-1-9pv8i |\u001b[0m     \"current_instance_group\": \"homogeneousCluster\",\n",
      "\u001b[36m11dxhmz1fu-algo-1-9pv8i |\u001b[0m     \"current_instance_group_hosts\": [],\n",
      "\u001b[36m11dxhmz1fu-algo-1-9pv8i |\u001b[0m     \"current_instance_type\": \"local\",\n",
      "\u001b[36m11dxhmz1fu-algo-1-9pv8i |\u001b[0m     \"distribution_hosts\": [\n",
      "\u001b[36m11dxhmz1fu-algo-1-9pv8i |\u001b[0m         \"algo-1-9pv8i\"\n",
      "\u001b[36m11dxhmz1fu-algo-1-9pv8i |\u001b[0m     ],\n",
      "\u001b[36m11dxhmz1fu-algo-1-9pv8i |\u001b[0m     \"distribution_instance_groups\": [],\n",
      "\u001b[36m11dxhmz1fu-algo-1-9pv8i |\u001b[0m     \"framework_module\": \"sagemaker_pytorch_container.training:main\",\n",
      "\u001b[36m11dxhmz1fu-algo-1-9pv8i |\u001b[0m     \"hosts\": [\n",
      "\u001b[36m11dxhmz1fu-algo-1-9pv8i |\u001b[0m         \"algo-1-9pv8i\"\n",
      "\u001b[36m11dxhmz1fu-algo-1-9pv8i |\u001b[0m     ],\n",
      "\u001b[36m11dxhmz1fu-algo-1-9pv8i |\u001b[0m     \"hyperparameters\": {\n",
      "\u001b[36m11dxhmz1fu-algo-1-9pv8i |\u001b[0m         \"data\": \"/opt/ml/code/data/data_sm.yaml\",\n",
      "\u001b[36m11dxhmz1fu-algo-1-9pv8i |\u001b[0m         \"cfg\": \"yolov5s.yaml\",\n",
      "\u001b[36m11dxhmz1fu-algo-1-9pv8i |\u001b[0m         \"weights\": \"/opt/ml/code/weights/yolov5s.pt\",\n",
      "\u001b[36m11dxhmz1fu-algo-1-9pv8i |\u001b[0m         \"batch-size\": 64,\n",
      "\u001b[36m11dxhmz1fu-algo-1-9pv8i |\u001b[0m         \"epochs\": 1,\n",
      "\u001b[36m11dxhmz1fu-algo-1-9pv8i |\u001b[0m         \"project\": \"/opt/ml/model\",\n",
      "\u001b[36m11dxhmz1fu-algo-1-9pv8i |\u001b[0m         \"workers\": 0,\n",
      "\u001b[36m11dxhmz1fu-algo-1-9pv8i |\u001b[0m         \"freeze\": 10\n",
      "\u001b[36m11dxhmz1fu-algo-1-9pv8i |\u001b[0m     },\n",
      "\u001b[36m11dxhmz1fu-algo-1-9pv8i |\u001b[0m     \"input_config_dir\": \"/opt/ml/input/config\",\n",
      "\u001b[36m11dxhmz1fu-algo-1-9pv8i |\u001b[0m     \"input_data_config\": {\n",
      "\u001b[36m11dxhmz1fu-algo-1-9pv8i |\u001b[0m         \"inputdata\": {\n",
      "\u001b[36m11dxhmz1fu-algo-1-9pv8i |\u001b[0m             \"TrainingInputMode\": \"File\"\n",
      "\u001b[36m11dxhmz1fu-algo-1-9pv8i |\u001b[0m         }\n",
      "\u001b[36m11dxhmz1fu-algo-1-9pv8i |\u001b[0m     },\n",
      "\u001b[36m11dxhmz1fu-algo-1-9pv8i |\u001b[0m     \"input_dir\": \"/opt/ml/input\",\n",
      "\u001b[36m11dxhmz1fu-algo-1-9pv8i |\u001b[0m     \"instance_groups\": [],\n",
      "\u001b[36m11dxhmz1fu-algo-1-9pv8i |\u001b[0m     \"instance_groups_dict\": {},\n",
      "\u001b[36m11dxhmz1fu-algo-1-9pv8i |\u001b[0m     \"is_hetero\": false,\n",
      "\u001b[36m11dxhmz1fu-algo-1-9pv8i |\u001b[0m     \"is_master\": true,\n",
      "\u001b[36m11dxhmz1fu-algo-1-9pv8i |\u001b[0m     \"job_name\": \"yolov5-poc-exp1-0712-02241657592655\",\n",
      "\u001b[36m11dxhmz1fu-algo-1-9pv8i |\u001b[0m     \"log_level\": 20,\n",
      "\u001b[36m11dxhmz1fu-algo-1-9pv8i |\u001b[0m     \"master_hostname\": \"algo-1-9pv8i\",\n",
      "\u001b[36m11dxhmz1fu-algo-1-9pv8i |\u001b[0m     \"model_dir\": \"/opt/ml/model\",\n",
      "\u001b[36m11dxhmz1fu-algo-1-9pv8i |\u001b[0m     \"module_dir\": \"/opt/ml/code\",\n",
      "\u001b[36m11dxhmz1fu-algo-1-9pv8i |\u001b[0m     \"module_name\": \"train\",\n",
      "\u001b[36m11dxhmz1fu-algo-1-9pv8i |\u001b[0m     \"network_interface_name\": \"eth0\",\n",
      "\u001b[36m11dxhmz1fu-algo-1-9pv8i |\u001b[0m     \"num_cpus\": 8,\n",
      "\u001b[36m11dxhmz1fu-algo-1-9pv8i |\u001b[0m     \"num_gpus\": 0,\n",
      "\u001b[36m11dxhmz1fu-algo-1-9pv8i |\u001b[0m     \"output_data_dir\": \"/opt/ml/output/data\",\n",
      "\u001b[36m11dxhmz1fu-algo-1-9pv8i |\u001b[0m     \"output_dir\": \"/opt/ml/output\",\n",
      "\u001b[36m11dxhmz1fu-algo-1-9pv8i |\u001b[0m     \"output_intermediate_dir\": \"/opt/ml/output/intermediate\",\n",
      "\u001b[36m11dxhmz1fu-algo-1-9pv8i |\u001b[0m     \"resource_config\": {\n",
      "\u001b[36m11dxhmz1fu-algo-1-9pv8i |\u001b[0m         \"current_host\": \"algo-1-9pv8i\",\n",
      "\u001b[36m11dxhmz1fu-algo-1-9pv8i |\u001b[0m         \"hosts\": [\n",
      "\u001b[36m11dxhmz1fu-algo-1-9pv8i |\u001b[0m             \"algo-1-9pv8i\"\n",
      "\u001b[36m11dxhmz1fu-algo-1-9pv8i |\u001b[0m         ]\n",
      "\u001b[36m11dxhmz1fu-algo-1-9pv8i |\u001b[0m     },\n",
      "\u001b[36m11dxhmz1fu-algo-1-9pv8i |\u001b[0m     \"user_entry_point\": \"train.py\"\n",
      "\u001b[36m11dxhmz1fu-algo-1-9pv8i |\u001b[0m }\n",
      "\u001b[36m11dxhmz1fu-algo-1-9pv8i |\u001b[0m \n",
      "\u001b[36m11dxhmz1fu-algo-1-9pv8i |\u001b[0m Environment variables:\n",
      "\u001b[36m11dxhmz1fu-algo-1-9pv8i |\u001b[0m \n",
      "\u001b[36m11dxhmz1fu-algo-1-9pv8i |\u001b[0m SM_HOSTS=[\"algo-1-9pv8i\"]\n",
      "\u001b[36m11dxhmz1fu-algo-1-9pv8i |\u001b[0m SM_NETWORK_INTERFACE_NAME=eth0\n",
      "\u001b[36m11dxhmz1fu-algo-1-9pv8i |\u001b[0m SM_HPS={\"batch-size\":64,\"cfg\":\"yolov5s.yaml\",\"data\":\"/opt/ml/code/data/data_sm.yaml\",\"epochs\":1,\"freeze\":10,\"project\":\"/opt/ml/model\",\"weights\":\"/opt/ml/code/weights/yolov5s.pt\",\"workers\":0}\n",
      "\u001b[36m11dxhmz1fu-algo-1-9pv8i |\u001b[0m SM_USER_ENTRY_POINT=train.py\n",
      "\u001b[36m11dxhmz1fu-algo-1-9pv8i |\u001b[0m SM_FRAMEWORK_PARAMS={}\n",
      "\u001b[36m11dxhmz1fu-algo-1-9pv8i |\u001b[0m SM_RESOURCE_CONFIG={\"current_host\":\"algo-1-9pv8i\",\"hosts\":[\"algo-1-9pv8i\"]}\n",
      "\u001b[36m11dxhmz1fu-algo-1-9pv8i |\u001b[0m SM_INPUT_DATA_CONFIG={\"inputdata\":{\"TrainingInputMode\":\"File\"}}\n",
      "\u001b[36m11dxhmz1fu-algo-1-9pv8i |\u001b[0m SM_OUTPUT_DATA_DIR=/opt/ml/output/data\n",
      "\u001b[36m11dxhmz1fu-algo-1-9pv8i |\u001b[0m SM_CHANNELS=[\"inputdata\"]\n",
      "\u001b[36m11dxhmz1fu-algo-1-9pv8i |\u001b[0m SM_CURRENT_HOST=algo-1-9pv8i\n",
      "\u001b[36m11dxhmz1fu-algo-1-9pv8i |\u001b[0m SM_CURRENT_INSTANCE_TYPE=local\n",
      "\u001b[36m11dxhmz1fu-algo-1-9pv8i |\u001b[0m SM_CURRENT_INSTANCE_GROUP=homogeneousCluster\n",
      "\u001b[36m11dxhmz1fu-algo-1-9pv8i |\u001b[0m SM_CURRENT_INSTANCE_GROUP_HOSTS=[]\n",
      "\u001b[36m11dxhmz1fu-algo-1-9pv8i |\u001b[0m SM_INSTANCE_GROUPS=[]\n",
      "\u001b[36m11dxhmz1fu-algo-1-9pv8i |\u001b[0m SM_INSTANCE_GROUPS_DICT={}\n",
      "\u001b[36m11dxhmz1fu-algo-1-9pv8i |\u001b[0m SM_DISTRIBUTION_INSTANCE_GROUPS=[]\n",
      "\u001b[36m11dxhmz1fu-algo-1-9pv8i |\u001b[0m SM_IS_HETERO=false\n",
      "\u001b[36m11dxhmz1fu-algo-1-9pv8i |\u001b[0m SM_MODULE_NAME=train\n",
      "\u001b[36m11dxhmz1fu-algo-1-9pv8i |\u001b[0m SM_LOG_LEVEL=20\n",
      "\u001b[36m11dxhmz1fu-algo-1-9pv8i |\u001b[0m SM_FRAMEWORK_MODULE=sagemaker_pytorch_container.training:main\n",
      "\u001b[36m11dxhmz1fu-algo-1-9pv8i |\u001b[0m SM_INPUT_DIR=/opt/ml/input\n",
      "\u001b[36m11dxhmz1fu-algo-1-9pv8i |\u001b[0m SM_INPUT_CONFIG_DIR=/opt/ml/input/config\n",
      "\u001b[36m11dxhmz1fu-algo-1-9pv8i |\u001b[0m SM_OUTPUT_DIR=/opt/ml/output\n",
      "\u001b[36m11dxhmz1fu-algo-1-9pv8i |\u001b[0m SM_NUM_CPUS=8\n",
      "\u001b[36m11dxhmz1fu-algo-1-9pv8i |\u001b[0m SM_NUM_GPUS=0\n",
      "\u001b[36m11dxhmz1fu-algo-1-9pv8i |\u001b[0m SM_MODEL_DIR=/opt/ml/model\n",
      "\u001b[36m11dxhmz1fu-algo-1-9pv8i |\u001b[0m SM_MODULE_DIR=/opt/ml/code\n",
      "\u001b[36m11dxhmz1fu-algo-1-9pv8i |\u001b[0m SM_TRAINING_ENV={\"additional_framework_parameters\":{},\"channel_input_dirs\":{\"inputdata\":\"/opt/ml/input/data/inputdata\"},\"current_host\":\"algo-1-9pv8i\",\"current_instance_group\":\"homogeneousCluster\",\"current_instance_group_hosts\":[],\"current_instance_type\":\"local\",\"distribution_hosts\":[\"algo-1-9pv8i\"],\"distribution_instance_groups\":[],\"framework_module\":\"sagemaker_pytorch_container.training:main\",\"hosts\":[\"algo-1-9pv8i\"],\"hyperparameters\":{\"batch-size\":64,\"cfg\":\"yolov5s.yaml\",\"data\":\"/opt/ml/code/data/data_sm.yaml\",\"epochs\":1,\"freeze\":10,\"project\":\"/opt/ml/model\",\"weights\":\"/opt/ml/code/weights/yolov5s.pt\",\"workers\":0},\"input_config_dir\":\"/opt/ml/input/config\",\"input_data_config\":{\"inputdata\":{\"TrainingInputMode\":\"File\"}},\"input_dir\":\"/opt/ml/input\",\"instance_groups\":[],\"instance_groups_dict\":{},\"is_hetero\":false,\"is_master\":true,\"job_name\":\"yolov5-poc-exp1-0712-02241657592655\",\"log_level\":20,\"master_hostname\":\"algo-1-9pv8i\",\"model_dir\":\"/opt/ml/model\",\"module_dir\":\"/opt/ml/code\",\"module_name\":\"train\",\"network_interface_name\":\"eth0\",\"num_cpus\":8,\"num_gpus\":0,\"output_data_dir\":\"/opt/ml/output/data\",\"output_dir\":\"/opt/ml/output\",\"output_intermediate_dir\":\"/opt/ml/output/intermediate\",\"resource_config\":{\"current_host\":\"algo-1-9pv8i\",\"hosts\":[\"algo-1-9pv8i\"]},\"user_entry_point\":\"train.py\"}\n",
      "\u001b[36m11dxhmz1fu-algo-1-9pv8i |\u001b[0m SM_USER_ARGS=[\"--batch-size\",\"64\",\"--cfg\",\"yolov5s.yaml\",\"--data\",\"/opt/ml/code/data/data_sm.yaml\",\"--epochs\",\"1\",\"--freeze\",\"10\",\"--project\",\"/opt/ml/model\",\"--weights\",\"/opt/ml/code/weights/yolov5s.pt\",\"--workers\",\"0\"]\n",
      "\u001b[36m11dxhmz1fu-algo-1-9pv8i |\u001b[0m SM_OUTPUT_INTERMEDIATE_DIR=/opt/ml/output/intermediate\n",
      "\u001b[36m11dxhmz1fu-algo-1-9pv8i |\u001b[0m SM_CHANNEL_INPUTDATA=/opt/ml/input/data/inputdata\n",
      "\u001b[36m11dxhmz1fu-algo-1-9pv8i |\u001b[0m SM_HP_DATA=/opt/ml/code/data/data_sm.yaml\n",
      "\u001b[36m11dxhmz1fu-algo-1-9pv8i |\u001b[0m SM_HP_CFG=yolov5s.yaml\n",
      "\u001b[36m11dxhmz1fu-algo-1-9pv8i |\u001b[0m SM_HP_WEIGHTS=/opt/ml/code/weights/yolov5s.pt\n",
      "\u001b[36m11dxhmz1fu-algo-1-9pv8i |\u001b[0m SM_HP_BATCH-SIZE=64\n",
      "\u001b[36m11dxhmz1fu-algo-1-9pv8i |\u001b[0m SM_HP_EPOCHS=1\n",
      "\u001b[36m11dxhmz1fu-algo-1-9pv8i |\u001b[0m SM_HP_PROJECT=/opt/ml/model\n",
      "\u001b[36m11dxhmz1fu-algo-1-9pv8i |\u001b[0m SM_HP_WORKERS=0\n",
      "\u001b[36m11dxhmz1fu-algo-1-9pv8i |\u001b[0m SM_HP_FREEZE=10\n",
      "\u001b[36m11dxhmz1fu-algo-1-9pv8i |\u001b[0m PYTHONPATH=/opt/ml/code:/opt/conda/bin:/opt/conda/lib/python38.zip:/opt/conda/lib/python3.8:/opt/conda/lib/python3.8/lib-dynload:/opt/conda/lib/python3.8/site-packages:/opt/conda/lib/python3.8/site-packages/smdebug-1.0.13b20220701-py3.8.egg:/opt/conda/lib/python3.8/site-packages/pyinstrument-3.4.2-py3.8.egg:/opt/conda/lib/python3.8/site-packages/pyinstrument_cext-0.2.4-py3.8-linux-x86_64.egg\n",
      "\u001b[36m11dxhmz1fu-algo-1-9pv8i |\u001b[0m \n",
      "\u001b[36m11dxhmz1fu-algo-1-9pv8i |\u001b[0m Invoking script with the following command:\n",
      "\u001b[36m11dxhmz1fu-algo-1-9pv8i |\u001b[0m \n",
      "\u001b[36m11dxhmz1fu-algo-1-9pv8i |\u001b[0m /opt/conda/bin/python3.8 train.py --batch-size 64 --cfg yolov5s.yaml --data /opt/ml/code/data/data_sm.yaml --epochs 1 --freeze 10 --project /opt/ml/model --weights /opt/ml/code/weights/yolov5s.pt --workers 0\n",
      "\u001b[36m11dxhmz1fu-algo-1-9pv8i |\u001b[0m \n",
      "\u001b[36m11dxhmz1fu-algo-1-9pv8i |\u001b[0m \n",
      "\u001b[36m11dxhmz1fu-algo-1-9pv8i |\u001b[0m /opt/conda/lib/python3.8/site-packages/torchvision/io/image.py:11: UserWarning: Failed to load image Python extension: \n",
      "\u001b[36m11dxhmz1fu-algo-1-9pv8i |\u001b[0m   warn(f\"Failed to load image Python extension: {e}\")\n",
      "\u001b[36m11dxhmz1fu-algo-1-9pv8i |\u001b[0m \u001b[34m\u001b[1mtrain: \u001b[0mweights=/opt/ml/code/weights/yolov5s.pt, cfg=yolov5s.yaml, data=/opt/ml/code/data/data_sm.yaml, hyp=data/hyps/hyp.scratch-low.yaml, epochs=1, batch_size=64, imgsz=640, rect=False, resume=False, nosave=False, noval=False, noautoanchor=False, noplots=False, evolve=None, bucket=, cache=None, image_weights=False, device=, multi_scale=False, single_cls=False, optimizer=SGD, sync_bn=False, workers=0, project=/opt/ml/model, name=exp, exist_ok=False, quad=False, cos_lr=False, label_smoothing=0.0, patience=100, freeze=[10], save_period=-1, seed=0, local_rank=-1, entity=None, upload_dataset=False, bbox_interval=-1, artifact_alias=latest\n",
      "\u001b[36m11dxhmz1fu-algo-1-9pv8i |\u001b[0m \u001b[34m\u001b[1mgithub: \u001b[0mskipping check (not a git repository), for updates see https://github.com/ultralytics/yolov5\n",
      "\u001b[36m11dxhmz1fu-algo-1-9pv8i |\u001b[0m YOLOv5 🚀 2022-7-12 Python-3.8.10 torch-1.10.2+cpu CPU\n",
      "\u001b[36m11dxhmz1fu-algo-1-9pv8i |\u001b[0m \u001b[34m\u001b[1mhyperparameters: \u001b[0mlr0=0.01, lrf=0.01, momentum=0.937, weight_decay=0.0005, warmup_epochs=3.0, warmup_momentum=0.8, warmup_bias_lr=0.1, box=0.05, cls=0.5, cls_pw=1.0, obj=1.0, obj_pw=1.0, iou_t=0.2, anchor_t=4.0, fl_gamma=0.0, hsv_h=0.015, hsv_s=0.7, hsv_v=0.4, degrees=0.0, translate=0.1, scale=0.5, shear=0.0, perspective=0.0, flipud=0.0, fliplr=0.5, mosaic=1.0, mixup=0.0, copy_paste=0.0\n",
      "\u001b[36m11dxhmz1fu-algo-1-9pv8i |\u001b[0m \u001b[34m\u001b[1mWeights & Biases: \u001b[0mrun 'pip install wandb' to automatically track and visualize YOLOv5 🚀 runs (RECOMMENDED)\n",
      "\u001b[36m11dxhmz1fu-algo-1-9pv8i |\u001b[0m \u001b[34m\u001b[1mTensorBoard: \u001b[0mStart with 'tensorboard --logdir /opt/ml/model', view at http://localhost:6006/\n",
      "\u001b[36m11dxhmz1fu-algo-1-9pv8i |\u001b[0m Downloading https://ultralytics.com/assets/Arial.ttf to /root/.config/Ultralytics/Arial.ttf...\n",
      "\u001b[36m11dxhmz1fu-algo-1-9pv8i |\u001b[0m 0%|          | 0.00/755k [00:00<?, ?B/s]\n",
      "\u001b[36m11dxhmz1fu-algo-1-9pv8i |\u001b[0m 100%|██████████| 755k/755k [00:00<00:00, 22.4MB/s]\n",
      "\u001b[36m11dxhmz1fu-algo-1-9pv8i |\u001b[0m Downloading https://github.com/ultralytics/yolov5/releases/download/v6.1/yolov5s.pt to /opt/ml/code/weights/yolov5s.pt...\n",
      "\u001b[36m11dxhmz1fu-algo-1-9pv8i |\u001b[0m 0%|          | 0.00/14.1M [00:00<?, ?B/s]\n",
      "\u001b[36m11dxhmz1fu-algo-1-9pv8i |\u001b[0m 93%|█████████▎| 13.1M/14.1M [00:00<00:00, 137MB/s]\n",
      "\u001b[36m11dxhmz1fu-algo-1-9pv8i |\u001b[0m 100%|██████████| 14.1M/14.1M [00:00<00:00, 140MB/s]\n",
      "\u001b[36m11dxhmz1fu-algo-1-9pv8i |\u001b[0m \n",
      "\u001b[36m11dxhmz1fu-algo-1-9pv8i |\u001b[0m Overriding model.yaml nc=80 with nc=3\n",
      "\u001b[36m11dxhmz1fu-algo-1-9pv8i |\u001b[0m from  n    params  module                                  arguments\n",
      "\u001b[36m11dxhmz1fu-algo-1-9pv8i |\u001b[0m 0                -1  1      3520  models.common.Conv                      [3, 32, 6, 2, 2]\n",
      "\u001b[36m11dxhmz1fu-algo-1-9pv8i |\u001b[0m 1                -1  1     18560  models.common.Conv                      [32, 64, 3, 2]\n",
      "\u001b[36m11dxhmz1fu-algo-1-9pv8i |\u001b[0m 2                -1  1     18816  models.common.C3                        [64, 64, 1]\n",
      "\u001b[36m11dxhmz1fu-algo-1-9pv8i |\u001b[0m 3                -1  1     73984  models.common.Conv                      [64, 128, 3, 2]\n",
      "\u001b[36m11dxhmz1fu-algo-1-9pv8i |\u001b[0m 4                -1  2    115712  models.common.C3                        [128, 128, 2]\n",
      "\u001b[36m11dxhmz1fu-algo-1-9pv8i |\u001b[0m 5                -1  1    295424  models.common.Conv                      [128, 256, 3, 2]\n",
      "\u001b[36m11dxhmz1fu-algo-1-9pv8i |\u001b[0m 6                -1  3    625152  models.common.C3                        [256, 256, 3]\n",
      "\u001b[36m11dxhmz1fu-algo-1-9pv8i |\u001b[0m 7                -1  1   1180672  models.common.Conv                      [256, 512, 3, 2]\n",
      "\u001b[36m11dxhmz1fu-algo-1-9pv8i |\u001b[0m 8                -1  1   1182720  models.common.C3                        [512, 512, 1]\n",
      "\u001b[36m11dxhmz1fu-algo-1-9pv8i |\u001b[0m 9                -1  1    656896  models.common.SPPF                      [512, 512, 5]\n",
      "\u001b[36m11dxhmz1fu-algo-1-9pv8i |\u001b[0m 10                -1  1    131584  models.common.Conv                      [512, 256, 1, 1]\n",
      "\u001b[36m11dxhmz1fu-algo-1-9pv8i |\u001b[0m 11                -1  1         0  torch.nn.modules.upsampling.Upsample    [None, 2, 'nearest']\n",
      "\u001b[36m11dxhmz1fu-algo-1-9pv8i |\u001b[0m 12           [-1, 6]  1         0  models.common.Concat                    [1]\n",
      "\u001b[36m11dxhmz1fu-algo-1-9pv8i |\u001b[0m 13                -1  1    361984  models.common.C3                        [512, 256, 1, False]\n",
      "\u001b[36m11dxhmz1fu-algo-1-9pv8i |\u001b[0m 14                -1  1     33024  models.common.Conv                      [256, 128, 1, 1]\n",
      "\u001b[36m11dxhmz1fu-algo-1-9pv8i |\u001b[0m 15                -1  1         0  torch.nn.modules.upsampling.Upsample    [None, 2, 'nearest']\n",
      "\u001b[36m11dxhmz1fu-algo-1-9pv8i |\u001b[0m 16           [-1, 4]  1         0  models.common.Concat                    [1]\n",
      "\u001b[36m11dxhmz1fu-algo-1-9pv8i |\u001b[0m 17                -1  1     90880  models.common.C3                        [256, 128, 1, False]\n",
      "\u001b[36m11dxhmz1fu-algo-1-9pv8i |\u001b[0m 18                -1  1    147712  models.common.Conv                      [128, 128, 3, 2]\n",
      "\u001b[36m11dxhmz1fu-algo-1-9pv8i |\u001b[0m 19          [-1, 14]  1         0  models.common.Concat                    [1]\n",
      "\u001b[36m11dxhmz1fu-algo-1-9pv8i |\u001b[0m 20                -1  1    296448  models.common.C3                        [256, 256, 1, False]\n",
      "\u001b[36m11dxhmz1fu-algo-1-9pv8i |\u001b[0m 21                -1  1    590336  models.common.Conv                      [256, 256, 3, 2]\n",
      "\u001b[36m11dxhmz1fu-algo-1-9pv8i |\u001b[0m 22          [-1, 10]  1         0  models.common.Concat                    [1]\n",
      "\u001b[36m11dxhmz1fu-algo-1-9pv8i |\u001b[0m 23                -1  1   1182720  models.common.C3                        [512, 512, 1, False]\n",
      "\u001b[36m11dxhmz1fu-algo-1-9pv8i |\u001b[0m 24      [17, 20, 23]  1     21576  models.yolo.Detect                      [3, [[10, 13, 16, 30, 33, 23], [30, 61, 62, 45, 59, 119], [116, 90, 156, 198, 373, 326]], [128, 256, 512]]\n",
      "\u001b[36m11dxhmz1fu-algo-1-9pv8i |\u001b[0m [2022-07-12 02:25:46.448 algo-1-9pv8i:41 INFO utils.py:27] RULE_JOB_STOP_SIGNAL_FILENAME: None\n",
      "\u001b[36m11dxhmz1fu-algo-1-9pv8i |\u001b[0m /opt/conda/lib/python3.8/site-packages/smdebug-1.0.13b20220701-py3.8.egg/smdebug/profiler/system_metrics_reader.py:63: SyntaxWarning: \"is not\" with a literal. Did you mean \"!=\"?\n",
      "\u001b[36m11dxhmz1fu-algo-1-9pv8i |\u001b[0m /opt/conda/lib/python3.8/site-packages/smdebug-1.0.13b20220701-py3.8.egg/smdebug/profiler/system_metrics_reader.py:63: SyntaxWarning: \"is not\" with a literal. Did you mean \"!=\"?\n",
      "\u001b[36m11dxhmz1fu-algo-1-9pv8i |\u001b[0m [2022-07-12 02:25:46.605 algo-1-9pv8i:41 INFO profiler_config_parser.py:111] Unable to find config at /opt/ml/input/config/profilerconfig.json. Profiler is disabled.\n",
      "\u001b[36m11dxhmz1fu-algo-1-9pv8i |\u001b[0m YOLOv5s summary: 270 layers, 7027720 parameters, 7027720 gradients, 16.0 GFLOPs\n",
      "\u001b[36m11dxhmz1fu-algo-1-9pv8i |\u001b[0m Transferred 342/349 items from /opt/ml/code/weights/yolov5s.pt\n",
      "\u001b[36m11dxhmz1fu-algo-1-9pv8i |\u001b[0m freezing model.0.conv.weight\n",
      "\u001b[36m11dxhmz1fu-algo-1-9pv8i |\u001b[0m freezing model.0.bn.weight\n",
      "\u001b[36m11dxhmz1fu-algo-1-9pv8i |\u001b[0m freezing model.0.bn.bias\n",
      "\u001b[36m11dxhmz1fu-algo-1-9pv8i |\u001b[0m freezing model.1.conv.weight\n",
      "\u001b[36m11dxhmz1fu-algo-1-9pv8i |\u001b[0m freezing model.1.bn.weight\n",
      "\u001b[36m11dxhmz1fu-algo-1-9pv8i |\u001b[0m freezing model.1.bn.bias\n",
      "\u001b[36m11dxhmz1fu-algo-1-9pv8i |\u001b[0m freezing model.2.cv1.conv.weight\n",
      "\u001b[36m11dxhmz1fu-algo-1-9pv8i |\u001b[0m freezing model.2.cv1.bn.weight\n",
      "\u001b[36m11dxhmz1fu-algo-1-9pv8i |\u001b[0m freezing model.2.cv1.bn.bias\n",
      "\u001b[36m11dxhmz1fu-algo-1-9pv8i |\u001b[0m freezing model.2.cv2.conv.weight\n",
      "\u001b[36m11dxhmz1fu-algo-1-9pv8i |\u001b[0m freezing model.2.cv2.bn.weight\n",
      "\u001b[36m11dxhmz1fu-algo-1-9pv8i |\u001b[0m freezing model.2.cv2.bn.bias\n",
      "\u001b[36m11dxhmz1fu-algo-1-9pv8i |\u001b[0m freezing model.2.cv3.conv.weight\n",
      "\u001b[36m11dxhmz1fu-algo-1-9pv8i |\u001b[0m freezing model.2.cv3.bn.weight\n",
      "\u001b[36m11dxhmz1fu-algo-1-9pv8i |\u001b[0m freezing model.2.cv3.bn.bias\n",
      "\u001b[36m11dxhmz1fu-algo-1-9pv8i |\u001b[0m freezing model.2.m.0.cv1.conv.weight\n",
      "\u001b[36m11dxhmz1fu-algo-1-9pv8i |\u001b[0m freezing model.2.m.0.cv1.bn.weight\n",
      "\u001b[36m11dxhmz1fu-algo-1-9pv8i |\u001b[0m freezing model.2.m.0.cv1.bn.bias\n",
      "\u001b[36m11dxhmz1fu-algo-1-9pv8i |\u001b[0m freezing model.2.m.0.cv2.conv.weight\n",
      "\u001b[36m11dxhmz1fu-algo-1-9pv8i |\u001b[0m freezing model.2.m.0.cv2.bn.weight\n",
      "\u001b[36m11dxhmz1fu-algo-1-9pv8i |\u001b[0m freezing model.2.m.0.cv2.bn.bias\n",
      "\u001b[36m11dxhmz1fu-algo-1-9pv8i |\u001b[0m freezing model.3.conv.weight\n",
      "\u001b[36m11dxhmz1fu-algo-1-9pv8i |\u001b[0m freezing model.3.bn.weight\n",
      "\u001b[36m11dxhmz1fu-algo-1-9pv8i |\u001b[0m freezing model.3.bn.bias\n",
      "\u001b[36m11dxhmz1fu-algo-1-9pv8i |\u001b[0m freezing model.4.cv1.conv.weight\n",
      "\u001b[36m11dxhmz1fu-algo-1-9pv8i |\u001b[0m freezing model.4.cv1.bn.weight\n",
      "\u001b[36m11dxhmz1fu-algo-1-9pv8i |\u001b[0m freezing model.4.cv1.bn.bias\n",
      "\u001b[36m11dxhmz1fu-algo-1-9pv8i |\u001b[0m freezing model.4.cv2.conv.weight\n",
      "\u001b[36m11dxhmz1fu-algo-1-9pv8i |\u001b[0m freezing model.4.cv2.bn.weight\n",
      "\u001b[36m11dxhmz1fu-algo-1-9pv8i |\u001b[0m freezing model.4.cv2.bn.bias\n",
      "\u001b[36m11dxhmz1fu-algo-1-9pv8i |\u001b[0m freezing model.4.cv3.conv.weight\n",
      "\u001b[36m11dxhmz1fu-algo-1-9pv8i |\u001b[0m freezing model.4.cv3.bn.weight\n",
      "\u001b[36m11dxhmz1fu-algo-1-9pv8i |\u001b[0m freezing model.4.cv3.bn.bias\n",
      "\u001b[36m11dxhmz1fu-algo-1-9pv8i |\u001b[0m freezing model.4.m.0.cv1.conv.weight\n",
      "\u001b[36m11dxhmz1fu-algo-1-9pv8i |\u001b[0m freezing model.4.m.0.cv1.bn.weight\n",
      "\u001b[36m11dxhmz1fu-algo-1-9pv8i |\u001b[0m freezing model.4.m.0.cv1.bn.bias\n",
      "\u001b[36m11dxhmz1fu-algo-1-9pv8i |\u001b[0m freezing model.4.m.0.cv2.conv.weight\n",
      "\u001b[36m11dxhmz1fu-algo-1-9pv8i |\u001b[0m freezing model.4.m.0.cv2.bn.weight\n",
      "\u001b[36m11dxhmz1fu-algo-1-9pv8i |\u001b[0m freezing model.4.m.0.cv2.bn.bias\n",
      "\u001b[36m11dxhmz1fu-algo-1-9pv8i |\u001b[0m freezing model.4.m.1.cv1.conv.weight\n",
      "\u001b[36m11dxhmz1fu-algo-1-9pv8i |\u001b[0m freezing model.4.m.1.cv1.bn.weight\n",
      "\u001b[36m11dxhmz1fu-algo-1-9pv8i |\u001b[0m freezing model.4.m.1.cv1.bn.bias\n",
      "\u001b[36m11dxhmz1fu-algo-1-9pv8i |\u001b[0m freezing model.4.m.1.cv2.conv.weight\n",
      "\u001b[36m11dxhmz1fu-algo-1-9pv8i |\u001b[0m freezing model.4.m.1.cv2.bn.weight\n",
      "\u001b[36m11dxhmz1fu-algo-1-9pv8i |\u001b[0m freezing model.4.m.1.cv2.bn.bias\n",
      "\u001b[36m11dxhmz1fu-algo-1-9pv8i |\u001b[0m freezing model.5.conv.weight\n",
      "\u001b[36m11dxhmz1fu-algo-1-9pv8i |\u001b[0m freezing model.5.bn.weight\n",
      "\u001b[36m11dxhmz1fu-algo-1-9pv8i |\u001b[0m freezing model.5.bn.bias\n",
      "\u001b[36m11dxhmz1fu-algo-1-9pv8i |\u001b[0m freezing model.6.cv1.conv.weight\n",
      "\u001b[36m11dxhmz1fu-algo-1-9pv8i |\u001b[0m freezing model.6.cv1.bn.weight\n",
      "\u001b[36m11dxhmz1fu-algo-1-9pv8i |\u001b[0m freezing model.6.cv1.bn.bias\n",
      "\u001b[36m11dxhmz1fu-algo-1-9pv8i |\u001b[0m freezing model.6.cv2.conv.weight\n",
      "\u001b[36m11dxhmz1fu-algo-1-9pv8i |\u001b[0m freezing model.6.cv2.bn.weight\n",
      "\u001b[36m11dxhmz1fu-algo-1-9pv8i |\u001b[0m freezing model.6.cv2.bn.bias\n",
      "\u001b[36m11dxhmz1fu-algo-1-9pv8i |\u001b[0m freezing model.6.cv3.conv.weight\n",
      "\u001b[36m11dxhmz1fu-algo-1-9pv8i |\u001b[0m freezing model.6.cv3.bn.weight\n",
      "\u001b[36m11dxhmz1fu-algo-1-9pv8i |\u001b[0m freezing model.6.cv3.bn.bias\n",
      "\u001b[36m11dxhmz1fu-algo-1-9pv8i |\u001b[0m freezing model.6.m.0.cv1.conv.weight\n",
      "\u001b[36m11dxhmz1fu-algo-1-9pv8i |\u001b[0m freezing model.6.m.0.cv1.bn.weight\n",
      "\u001b[36m11dxhmz1fu-algo-1-9pv8i |\u001b[0m freezing model.6.m.0.cv1.bn.bias\n",
      "\u001b[36m11dxhmz1fu-algo-1-9pv8i |\u001b[0m freezing model.6.m.0.cv2.conv.weight\n",
      "\u001b[36m11dxhmz1fu-algo-1-9pv8i |\u001b[0m freezing model.6.m.0.cv2.bn.weight\n",
      "\u001b[36m11dxhmz1fu-algo-1-9pv8i |\u001b[0m freezing model.6.m.0.cv2.bn.bias\n",
      "\u001b[36m11dxhmz1fu-algo-1-9pv8i |\u001b[0m freezing model.6.m.1.cv1.conv.weight\n",
      "\u001b[36m11dxhmz1fu-algo-1-9pv8i |\u001b[0m freezing model.6.m.1.cv1.bn.weight\n",
      "\u001b[36m11dxhmz1fu-algo-1-9pv8i |\u001b[0m freezing model.6.m.1.cv1.bn.bias\n",
      "\u001b[36m11dxhmz1fu-algo-1-9pv8i |\u001b[0m freezing model.6.m.1.cv2.conv.weight\n",
      "\u001b[36m11dxhmz1fu-algo-1-9pv8i |\u001b[0m freezing model.6.m.1.cv2.bn.weight\n",
      "\u001b[36m11dxhmz1fu-algo-1-9pv8i |\u001b[0m freezing model.6.m.1.cv2.bn.bias\n",
      "\u001b[36m11dxhmz1fu-algo-1-9pv8i |\u001b[0m freezing model.6.m.2.cv1.conv.weight\n",
      "\u001b[36m11dxhmz1fu-algo-1-9pv8i |\u001b[0m freezing model.6.m.2.cv1.bn.weight\n",
      "\u001b[36m11dxhmz1fu-algo-1-9pv8i |\u001b[0m freezing model.6.m.2.cv1.bn.bias\n",
      "\u001b[36m11dxhmz1fu-algo-1-9pv8i |\u001b[0m freezing model.6.m.2.cv2.conv.weight\n",
      "\u001b[36m11dxhmz1fu-algo-1-9pv8i |\u001b[0m freezing model.6.m.2.cv2.bn.weight\n",
      "\u001b[36m11dxhmz1fu-algo-1-9pv8i |\u001b[0m freezing model.6.m.2.cv2.bn.bias\n",
      "\u001b[36m11dxhmz1fu-algo-1-9pv8i |\u001b[0m freezing model.7.conv.weight\n",
      "\u001b[36m11dxhmz1fu-algo-1-9pv8i |\u001b[0m freezing model.7.bn.weight\n",
      "\u001b[36m11dxhmz1fu-algo-1-9pv8i |\u001b[0m freezing model.7.bn.bias\n",
      "\u001b[36m11dxhmz1fu-algo-1-9pv8i |\u001b[0m freezing model.8.cv1.conv.weight\n",
      "\u001b[36m11dxhmz1fu-algo-1-9pv8i |\u001b[0m freezing model.8.cv1.bn.weight\n",
      "\u001b[36m11dxhmz1fu-algo-1-9pv8i |\u001b[0m freezing model.8.cv1.bn.bias\n",
      "\u001b[36m11dxhmz1fu-algo-1-9pv8i |\u001b[0m freezing model.8.cv2.conv.weight\n",
      "\u001b[36m11dxhmz1fu-algo-1-9pv8i |\u001b[0m freezing model.8.cv2.bn.weight\n",
      "\u001b[36m11dxhmz1fu-algo-1-9pv8i |\u001b[0m freezing model.8.cv2.bn.bias\n",
      "\u001b[36m11dxhmz1fu-algo-1-9pv8i |\u001b[0m freezing model.8.cv3.conv.weight\n",
      "\u001b[36m11dxhmz1fu-algo-1-9pv8i |\u001b[0m freezing model.8.cv3.bn.weight\n",
      "\u001b[36m11dxhmz1fu-algo-1-9pv8i |\u001b[0m freezing model.8.cv3.bn.bias\n",
      "\u001b[36m11dxhmz1fu-algo-1-9pv8i |\u001b[0m freezing model.8.m.0.cv1.conv.weight\n",
      "\u001b[36m11dxhmz1fu-algo-1-9pv8i |\u001b[0m freezing model.8.m.0.cv1.bn.weight\n",
      "\u001b[36m11dxhmz1fu-algo-1-9pv8i |\u001b[0m freezing model.8.m.0.cv1.bn.bias\n",
      "\u001b[36m11dxhmz1fu-algo-1-9pv8i |\u001b[0m freezing model.8.m.0.cv2.conv.weight\n",
      "\u001b[36m11dxhmz1fu-algo-1-9pv8i |\u001b[0m freezing model.8.m.0.cv2.bn.weight\n",
      "\u001b[36m11dxhmz1fu-algo-1-9pv8i |\u001b[0m freezing model.8.m.0.cv2.bn.bias\n",
      "\u001b[36m11dxhmz1fu-algo-1-9pv8i |\u001b[0m freezing model.9.cv1.conv.weight\n",
      "\u001b[36m11dxhmz1fu-algo-1-9pv8i |\u001b[0m freezing model.9.cv1.bn.weight\n",
      "\u001b[36m11dxhmz1fu-algo-1-9pv8i |\u001b[0m freezing model.9.cv1.bn.bias\n",
      "\u001b[36m11dxhmz1fu-algo-1-9pv8i |\u001b[0m freezing model.9.cv2.conv.weight\n",
      "\u001b[36m11dxhmz1fu-algo-1-9pv8i |\u001b[0m freezing model.9.cv2.bn.weight\n",
      "\u001b[36m11dxhmz1fu-algo-1-9pv8i |\u001b[0m freezing model.9.cv2.bn.bias\n",
      "\u001b[36m11dxhmz1fu-algo-1-9pv8i |\u001b[0m Scaled weight_decay = 0.0005\n",
      "\u001b[36m11dxhmz1fu-algo-1-9pv8i |\u001b[0m \u001b[34m\u001b[1moptimizer:\u001b[0m SGD with parameter groups 57 weight (no decay), 60 weight, 60 bias\n",
      "\u001b[36m11dxhmz1fu-algo-1-9pv8i |\u001b[0m \u001b[34m\u001b[1mtrain: \u001b[0mScanning '/opt/ml/input/data/inputdata/train/labels' images and labels...:   0%|          | 0/765 [00:00<?, ?it/s]\n",
      "\u001b[36m11dxhmz1fu-algo-1-9pv8i |\u001b[0m \u001b[34m\u001b[1mtrain: \u001b[0mScanning '/opt/ml/input/data/inputdata/train/labels' images and labels...687 found, 0 missing, 0 empty, 0 corrupt:  90%|████████▉ | 687/765 [00:00<00:00, 6742.61it/s]\n",
      "\u001b[36m11dxhmz1fu-algo-1-9pv8i |\u001b[0m \u001b[34m\u001b[1mtrain: \u001b[0mScanning '/opt/ml/input/data/inputdata/train/labels' images and labels...765 found, 0 missing, 0 empty, 0 corrupt: 100%|██████████| 765/765 [00:00<00:00, 7481.24it/s]\n",
      "\u001b[36m11dxhmz1fu-algo-1-9pv8i |\u001b[0m \u001b[34m\u001b[1mtrain: \u001b[0mNew cache created: /opt/ml/input/data/inputdata/train/labels.cache\n",
      "\u001b[36m11dxhmz1fu-algo-1-9pv8i |\u001b[0m \u001b[34m\u001b[1mval: \u001b[0mScanning '/opt/ml/input/data/inputdata/valid/labels' images and labels...:   0%|          | 0/73 [00:00<?, ?it/s]\n",
      "\u001b[36m11dxhmz1fu-algo-1-9pv8i |\u001b[0m \u001b[34m\u001b[1mval: \u001b[0mScanning '/opt/ml/input/data/inputdata/valid/labels' images and labels...73 found, 0 missing, 0 empty, 0 corrupt: 100%|██████████| 73/73 [00:00<00:00, 4101.76it/s]\n",
      "\u001b[36m11dxhmz1fu-algo-1-9pv8i |\u001b[0m \u001b[34m\u001b[1mval: \u001b[0mNew cache created: /opt/ml/input/data/inputdata/valid/labels.cache\n",
      "\u001b[36m11dxhmz1fu-algo-1-9pv8i |\u001b[0m Plotting labels to /opt/ml/model/exp/labels.jpg...\n",
      "\u001b[36m11dxhmz1fu-algo-1-9pv8i |\u001b[0m \u001b[34m\u001b[1mAutoAnchor: \u001b[0m5.30 anchors/target, 0.999 Best Possible Recall (BPR). Current anchors are a good fit to dataset ✅\n",
      "\u001b[36m11dxhmz1fu-algo-1-9pv8i |\u001b[0m Image sizes 640 train, 640 val\n",
      "\u001b[36m11dxhmz1fu-algo-1-9pv8i |\u001b[0m Using 0 dataloader workers\n",
      "\u001b[36m11dxhmz1fu-algo-1-9pv8i |\u001b[0m Logging results to \u001b[1m/opt/ml/model/exp\u001b[0m\n",
      "\u001b[36m11dxhmz1fu-algo-1-9pv8i |\u001b[0m Starting training for 1 epochs...\n",
      "\u001b[36m11dxhmz1fu-algo-1-9pv8i |\u001b[0m Epoch   gpu_mem       box       obj       cls    labels  img_size\n",
      "\u001b[36m11dxhmz1fu-algo-1-9pv8i |\u001b[0m 0%|          | 0/12 [00:00<?, ?it/s]\n",
      "\u001b[36m11dxhmz1fu-algo-1-9pv8i |\u001b[0m 0/0        0G    0.1153    0.1372   0.04247      1440       640:   0%|          | 0/12 [00:15<?, ?it/s]\n",
      "\u001b[36m11dxhmz1fu-algo-1-9pv8i |\u001b[0m 0/0        0G    0.1153    0.1372   0.04247      1440       640:   8%|▊         | 1/12 [00:16<03:05, 16.87s/it]\n",
      "\u001b[36m11dxhmz1fu-algo-1-9pv8i |\u001b[0m 0/0        0G    0.1148    0.1401   0.04248      1485       640:   8%|▊         | 1/12 [00:32<03:05, 16.87s/it]\n",
      "\u001b[36m11dxhmz1fu-algo-1-9pv8i |\u001b[0m 0/0        0G    0.1148    0.1401   0.04248      1485       640:  17%|█▋        | 2/12 [00:32<02:42, 16.29s/it]\n",
      "\u001b[36m11dxhmz1fu-algo-1-9pv8i |\u001b[0m 0/0        0G    0.1141    0.1391   0.04231      1396       640:  17%|█▋        | 2/12 [00:47<02:42, 16.29s/it]\n",
      "\u001b[36m11dxhmz1fu-algo-1-9pv8i |\u001b[0m 0/0        0G    0.1141    0.1391   0.04231      1396       640:  25%|██▌       | 3/12 [00:47<02:22, 15.78s/it]\n",
      "\u001b[36m11dxhmz1fu-algo-1-9pv8i |\u001b[0m 0/0        0G    0.1132    0.1406   0.04208      1452       640:  25%|██▌       | 3/12 [01:02<02:22, 15.78s/it]\n",
      "\u001b[36m11dxhmz1fu-algo-1-9pv8i |\u001b[0m 0/0        0G    0.1132    0.1406   0.04208      1452       640:  33%|███▎      | 4/12 [01:02<02:03, 15.49s/it]\n",
      "\u001b[36m11dxhmz1fu-algo-1-9pv8i |\u001b[0m 0/0        0G    0.1122    0.1416   0.04169      1424       640:  33%|███▎      | 4/12 [01:16<02:03, 15.49s/it]\n",
      "\u001b[36m11dxhmz1fu-algo-1-9pv8i |\u001b[0m 0/0        0G    0.1122    0.1416   0.04169      1424       640:  42%|████▏     | 5/12 [01:16<01:43, 14.75s/it]\n",
      "\u001b[36m11dxhmz1fu-algo-1-9pv8i |\u001b[0m 0/0        0G    0.1111    0.1408   0.04132      1283       640:  42%|████▏     | 5/12 [01:29<01:43, 14.75s/it]\n",
      "\u001b[36m11dxhmz1fu-algo-1-9pv8i |\u001b[0m 0/0        0G    0.1111    0.1408   0.04132      1283       640:  50%|█████     | 6/12 [01:29<01:24, 14.08s/it]\n",
      "\u001b[36m11dxhmz1fu-algo-1-9pv8i |\u001b[0m 0/0        0G    0.1097    0.1382   0.04085      1146       640:  50%|█████     | 6/12 [01:41<01:24, 14.08s/it]\n",
      "\u001b[36m11dxhmz1fu-algo-1-9pv8i |\u001b[0m 0/0        0G    0.1097    0.1382   0.04085      1146       640:  58%|█████▊    | 7/12 [01:41<01:06, 13.37s/it]\n",
      "\u001b[36m11dxhmz1fu-algo-1-9pv8i |\u001b[0m 0/0        0G    0.1083    0.1394   0.04033      1313       640:  58%|█████▊    | 7/12 [01:53<01:06, 13.37s/it]\n",
      "\u001b[36m11dxhmz1fu-algo-1-9pv8i |\u001b[0m 0/0        0G    0.1083    0.1394   0.04033      1313       640:  67%|██████▋   | 8/12 [01:53<00:52, 13.21s/it]\n",
      "\u001b[36m11dxhmz1fu-algo-1-9pv8i |\u001b[0m 0/0        0G     0.107    0.1392   0.03982      1222       640:  67%|██████▋   | 8/12 [02:06<00:52, 13.21s/it]\n",
      "\u001b[36m11dxhmz1fu-algo-1-9pv8i |\u001b[0m 0/0        0G     0.107    0.1392   0.03982      1222       640:  75%|███████▌  | 9/12 [02:06<00:38, 12.97s/it]\n",
      "\u001b[36m11dxhmz1fu-algo-1-9pv8i |\u001b[0m 0/0        0G    0.1056    0.1402   0.03926      1278       640:  75%|███████▌  | 9/12 [02:17<00:38, 12.97s/it]\n",
      "\u001b[36m11dxhmz1fu-algo-1-9pv8i |\u001b[0m 0/0        0G    0.1056    0.1402   0.03926      1278       640:  83%|████████▎ | 10/12 [02:17<00:25, 12.52s/it]\n",
      "\u001b[36m11dxhmz1fu-algo-1-9pv8i |\u001b[0m 0/0        0G    0.1042    0.1408   0.03861      1285       640:  83%|████████▎ | 10/12 [02:29<00:25, 12.52s/it]\n",
      "\u001b[36m11dxhmz1fu-algo-1-9pv8i |\u001b[0m 0/0        0G    0.1042    0.1408   0.03861      1285       640:  92%|█████████▏| 11/12 [02:29<00:12, 12.15s/it]\n",
      "\u001b[36m11dxhmz1fu-algo-1-9pv8i |\u001b[0m 0/0        0G    0.1031    0.1437   0.03793      1473       640:  92%|█████████▏| 11/12 [02:40<00:12, 12.15s/it]\n",
      "\u001b[36m11dxhmz1fu-algo-1-9pv8i |\u001b[0m 0/0        0G    0.1031    0.1437   0.03793      1473       640: 100%|██████████| 12/12 [02:40<00:00, 11.97s/it]\n",
      "\u001b[36m11dxhmz1fu-algo-1-9pv8i |\u001b[0m 0/0        0G    0.1031    0.1437   0.03793      1473       640: 100%|██████████| 12/12 [02:40<00:00, 13.40s/it]\n",
      "\u001b[36m11dxhmz1fu-algo-1-9pv8i |\u001b[0m Class     Images     Labels          P          R     mAP@.5 mAP@.5:.95:   0%|          | 0/1 [00:00<?, ?it/s]\n",
      "\u001b[36m11dxhmz1fu-algo-1-9pv8i |\u001b[0m WARNING: NMS time limit 2.490s exceeded\n",
      "\u001b[36m11dxhmz1fu-algo-1-9pv8i |\u001b[0m Class     Images     Labels          P          R     mAP@.5 mAP@.5:.95: 100%|██████████| 1/1 [00:11<00:00, 11.32s/it]\n",
      "\u001b[36m11dxhmz1fu-algo-1-9pv8i |\u001b[0m Class     Images     Labels          P          R     mAP@.5 mAP@.5:.95: 100%|██████████| 1/1 [00:11<00:00, 11.32s/it]\n",
      "\u001b[36m11dxhmz1fu-algo-1-9pv8i |\u001b[0m all         73        967     0.0229     0.0248     0.0132    0.00452\n",
      "\u001b[36m11dxhmz1fu-algo-1-9pv8i |\u001b[0m 1 epochs completed in 0.048 hours.\n",
      "\u001b[36m11dxhmz1fu-algo-1-9pv8i |\u001b[0m Optimizer stripped from /opt/ml/model/exp/weights/last.pt, 14.5MB\n",
      "\u001b[36m11dxhmz1fu-algo-1-9pv8i |\u001b[0m Optimizer stripped from /opt/ml/model/exp/weights/best.pt, 14.5MB\n",
      "\u001b[36m11dxhmz1fu-algo-1-9pv8i |\u001b[0m Validating /opt/ml/model/exp/weights/best.pt...\n",
      "\u001b[36m11dxhmz1fu-algo-1-9pv8i |\u001b[0m Fusing layers...\n",
      "\u001b[36m11dxhmz1fu-algo-1-9pv8i |\u001b[0m YOLOv5s summary: 213 layers, 7018216 parameters, 0 gradients, 15.8 GFLOPs\n",
      "\u001b[36m11dxhmz1fu-algo-1-9pv8i |\u001b[0m Class     Images     Labels          P          R     mAP@.5 mAP@.5:.95:   0%|          | 0/1 [00:00<?, ?it/s]\n",
      "\u001b[36m11dxhmz1fu-algo-1-9pv8i |\u001b[0m WARNING: NMS time limit 2.490s exceeded\n",
      "\u001b[36m11dxhmz1fu-algo-1-9pv8i |\u001b[0m Class     Images     Labels          P          R     mAP@.5 mAP@.5:.95: 100%|██████████| 1/1 [00:10<00:00, 10.90s/it]\n",
      "\u001b[36m11dxhmz1fu-algo-1-9pv8i |\u001b[0m Class     Images     Labels          P          R     mAP@.5 mAP@.5:.95: 100%|██████████| 1/1 [00:10<00:00, 10.90s/it]\n",
      "\u001b[36m11dxhmz1fu-algo-1-9pv8i |\u001b[0m all         73        967      0.023     0.0248     0.0133    0.00452\n",
      "\u001b[36m11dxhmz1fu-algo-1-9pv8i |\u001b[0m            Platelets         73         76          0          0          0          0\n",
      "\u001b[36m11dxhmz1fu-algo-1-9pv8i |\u001b[0m RBC         73        819     0.0689     0.0745     0.0398     0.0136\n",
      "\u001b[36m11dxhmz1fu-algo-1-9pv8i |\u001b[0m                  WBC         73         72          0          0          0          0\n",
      "\u001b[36m11dxhmz1fu-algo-1-9pv8i |\u001b[0m Results saved to \u001b[1m/opt/ml/model/exp\u001b[0m\n",
      "\u001b[36m11dxhmz1fu-algo-1-9pv8i |\u001b[0m 2022-07-12 02:28:58,963 sagemaker-training-toolkit INFO     Waiting for the process to finish and give a return code.\n",
      "\u001b[36m11dxhmz1fu-algo-1-9pv8i |\u001b[0m 2022-07-12 02:28:58,963 sagemaker-training-toolkit INFO     Done waiting for a return code. Received 0 from exiting process.\n",
      "\u001b[36m11dxhmz1fu-algo-1-9pv8i |\u001b[0m 2022-07-12 02:28:58,963 sagemaker-training-toolkit INFO     Reporting training SUCCESS\n",
      "\u001b[36m11dxhmz1fu-algo-1-9pv8i exited with code 0\n",
      "\u001b[0mAborting on container exit...\n",
      "===== Job Complete =====\n",
      "CPU times: user 1.66 s, sys: 101 ms, total: 1.76 s\n",
      "Wall time: 4min 45s\n"
     ]
    }
   ],
   "source": [
    "%%time\n",
    "create_experiment(experiment_name)\n",
    "job_name = create_trial(experiment_name)\n",
    "\n",
    "# Now associate the estimator with the Experiment and Trial\n",
    "estimator.fit(\n",
    "    inputs={'inputdata': s3_data_path},\n",
    "    job_name=job_name,\n",
    "    experiment_config={\n",
    "      'TrialName': job_name,\n",
    "      'TrialComponentDisplayName': job_name,\n",
    "    },\n",
    "    wait=False,\n",
    ")"
   ]
  },
  {
   "cell_type": "code",
   "execution_count": 26,
   "metadata": {},
   "outputs": [],
   "source": [
    "job_name=estimator.latest_training_job.name"
   ]
  },
  {
   "cell_type": "code",
   "execution_count": 27,
   "metadata": {},
   "outputs": [],
   "source": [
    "sagemaker_session.logs_for_job(job_name=job_name, wait=True)"
   ]
  },
  {
   "cell_type": "markdown",
   "metadata": {},
   "source": [
    "## 6. 학습 결과 확인"
   ]
  },
  {
   "cell_type": "code",
   "execution_count": 28,
   "metadata": {},
   "outputs": [
    {
     "name": "stdout",
     "output_type": "stream",
     "text": [
      "file:///tmp/tmps66ac15f/compressed_artifacts/\n",
      "\n",
      "Error parsing parameter 'paths': Unable to load paramfile file:///tmp/tmps66ac15f/compressed_artifacts/: [Errno 21] Is a directory: '/tmp/tmps66ac15f/compressed_artifacts/'\n"
     ]
    }
   ],
   "source": [
    "artifacts_dir = estimator.model_data.replace('model.tar.gz', '')\n",
    "print(artifacts_dir)\n",
    "!aws s3 ls --human-readable {artifacts_dir}"
   ]
  },
  {
   "cell_type": "code",
   "execution_count": 29,
   "metadata": {},
   "outputs": [
    {
     "name": "stdout",
     "output_type": "stream",
     "text": [
      "\n",
      "usage: aws s3 cp <LocalPath> <S3Uri> or <S3Uri> <LocalPath> or <S3Uri> <S3Uri>\n",
      "Error: Invalid argument type\n",
      "tar (child): ./model/model.tar.gz: Cannot open: No such file or directory\n",
      "tar (child): Error is not recoverable: exiting now\n",
      "tar: Child returned status 2\n",
      "tar: Error is not recoverable: exiting now\n"
     ]
    }
   ],
   "source": [
    "model_dir = './model'\n",
    "\n",
    "!rm -rf $model_dir\n",
    "\n",
    "import json , os\n",
    "\n",
    "if not os.path.exists(model_dir):\n",
    "    os.makedirs(model_dir)\n",
    "\n",
    "!aws s3 cp {artifacts_dir}model.tar.gz {model_dir}/model.tar.gz\n",
    "!tar -xvzf {model_dir}/model.tar.gz -C {model_dir}"
   ]
  },
  {
   "cell_type": "code",
   "execution_count": null,
   "metadata": {},
   "outputs": [
    {
     "name": "stdout",
     "output_type": "stream",
     "text": [
      "Checking setup...\n"
     ]
    }
   ],
   "source": [
    "from yolov5 import utils\n",
    "\n",
    "sys.path.append(f'{os.getcwd()}/yolov5')\n",
    "display = utils.notebook_init()  # checks"
   ]
  },
  {
   "cell_type": "code",
   "execution_count": null,
   "metadata": {},
   "outputs": [],
   "source": [
    "images = []\n",
    "for img_path in glob.glob('model/*/*'):\n",
    "    if img_path.split('.')[-1] in ['jpg','png']:\n",
    "        images.append(mpimg.imread(img_path))"
   ]
  },
  {
   "cell_type": "code",
   "execution_count": null,
   "metadata": {},
   "outputs": [],
   "source": [
    "ipyplot.plot_images(images, max_images=2, img_width=450)"
   ]
  },
  {
   "cell_type": "code",
   "execution_count": null,
   "metadata": {},
   "outputs": [],
   "source": [
    "# !pip install -r requirements.txt\n",
    "## detect.py에서 ROOT = FILE.parents[0] 을 ROOT = FILE.parents[1]로 변경\n",
    "!python yolov5/detect.py --img 640 --conf 0.25 --source yolov5/data/images/ --weights ./model/*/weights/best.pt --data yolov5/data/data_sm.yaml"
   ]
  },
  {
   "cell_type": "code",
   "execution_count": null,
   "metadata": {},
   "outputs": [],
   "source": [
    "detect_images = []\n",
    "for img_path in glob.glob('./yolov5/runs/detect/*/*'):\n",
    "    if img_path.split('.')[-1] in ['jpg','png']:\n",
    "        detect_images.append(mpimg.imread(img_path))"
   ]
  },
  {
   "cell_type": "code",
   "execution_count": null,
   "metadata": {},
   "outputs": [],
   "source": [
    "ipyplot.plot_images(detect_images, max_images=2, img_width=450)"
   ]
  },
  {
   "cell_type": "markdown",
   "metadata": {},
   "source": [
    "## 7. Custom Inference Docker 생성"
   ]
  },
  {
   "cell_type": "code",
   "execution_count": null,
   "metadata": {},
   "outputs": [],
   "source": [
    "# %%bash\n",
    "# cd ./docker\n",
    "# echo $(pwd)\n",
    "# container_name=yolov5-inference-sagemaker\n",
    "# account=$(aws sts get-caller-identity --query Account --output text)\n",
    "\n",
    "# # Get the region defined in the current configuration (default to us-west-2 if none defined)\n",
    "# region=$(aws configure get region)\n",
    "# region=${region:-us-west-2}\n",
    "\n",
    "# fullname=\"${account}.dkr.ecr.${region}.amazonaws.com/${container_name}:1.0\"\n",
    "\n",
    "# # If the repository doesn't exist in ECR, create it.\n",
    "# aws ecr describe-repositories --repository-names \"${container_name}\" > /dev/null 2>&1\n",
    "# if [ $? -ne 0 ]\n",
    "# then\n",
    "#     aws ecr create-repository --repository-name \"${container_name}\" > /dev/null\n",
    "# fi\n",
    "\n",
    "# # Get the login command from ECR and execute it directly\n",
    "# $(aws ecr get-login-password --region us-west-2 | docker login --username AWS --password-stdin \"763104351884.dkr.ecr.us-west-2.amazonaws.com\")\n",
    "\n",
    "# # Build the docker image locally with the image name and then push it to ECR\n",
    "# # with the full name.\n",
    "# docker build -f Dockerfile.inf -t ${fullname} .\n",
    "# # docker tag ${container_name} ${fullname}\n",
    "\n",
    "# # Get the login command from ECR and execute it directly\n",
    "# $(aws ecr get-login --region ${region} --no-include-email)\n",
    "# docker push ${fullname}"
   ]
  },
  {
   "cell_type": "markdown",
   "metadata": {},
   "source": [
    "## 8. Processing job으로 Inference하기"
   ]
  },
  {
   "cell_type": "code",
   "execution_count": null,
   "metadata": {},
   "outputs": [],
   "source": [
    "from sagemaker.pytorch import PyTorch\n",
    "from sagemaker.processing import Processor, ScriptProcessor, FrameworkProcessor\n",
    "from sagemaker.processing import ProcessingInput, ProcessingOutput"
   ]
  },
  {
   "cell_type": "code",
   "execution_count": null,
   "metadata": {},
   "outputs": [],
   "source": [
    "# inf_image_uri = f'{account}.dkr.ecr.{region}.amazonaws.com/yolov5-inference-sagemaker:1.0'"
   ]
  },
  {
   "cell_type": "code",
   "execution_count": null,
   "metadata": {},
   "outputs": [],
   "source": [
    "s3_test_path = f\"s3://{bucket}/dataset/BCCD/test/images/\"\n",
    "detect_output = f's3://{bucket}/poc_yolov5/detect_output' "
   ]
  },
  {
   "cell_type": "code",
   "execution_count": null,
   "metadata": {},
   "outputs": [],
   "source": [
    "instance_count = 1\n",
    "instance_type = \"ml.c5.2xlarge\"\n",
    "instance_type = 'local'"
   ]
  },
  {
   "cell_type": "code",
   "execution_count": null,
   "metadata": {},
   "outputs": [],
   "source": [
    "detect_processor = FrameworkProcessor(\n",
    "    PyTorch,\n",
    "    framework_version=\"1.10\",\n",
    "    role=role, \n",
    "    # image_uri=inf_image_uri,\n",
    "    instance_count=instance_count,\n",
    "    instance_type=instance_type,\n",
    "    code_location=code_location\n",
    "    )"
   ]
  },
  {
   "cell_type": "code",
   "execution_count": null,
   "metadata": {},
   "outputs": [],
   "source": [
    "if instance_type == 'local':\n",
    "    from sagemaker.local import LocalSession\n",
    "    sagemaker_session = LocalSession()\n",
    "    sagemaker_session.config = {'local': {'local_code': True}}\n",
    "else:\n",
    "    sagemaker_session = sagemaker.Session()"
   ]
  },
  {
   "cell_type": "code",
   "execution_count": null,
   "metadata": {},
   "outputs": [],
   "source": [
    "create_experiment(experiment_name)\n",
    "job_name = create_trial(experiment_name)\n",
    "\n",
    "detect_processor.run(\n",
    "    code=\"detect.py\",\n",
    "    source_dir=source_dir,\n",
    "    inputs=[ProcessingInput(source=s3_test_path, input_name=\"test_data\", destination=\"/opt/ml/processing/input\"),\n",
    "            ProcessingInput(source=artifacts_dir, input_name=\"model_weight\", destination=\"/opt/ml/processing/weights\")\n",
    "    ],\n",
    "    outputs=[\n",
    "        ProcessingOutput(source=\"/opt/ml/processing/output\", destination=detect_output),\n",
    "    ],\n",
    "    arguments=[\"--img\", \"640\", \"--conf\", \"0.25\", \"--source\", \"/opt/ml/processing/input\", \"--weights\", \"/opt/ml/processing/weights/model.tar.gz\", \"--project\", \"/opt/ml/processing/output\"],\n",
    "    job_name=job_name,\n",
    "    experiment_config={\n",
    "      'TrialName': job_name,\n",
    "      'TrialComponentDisplayName': job_name,\n",
    "    },\n",
    "    wait=False\n",
    ")"
   ]
  },
  {
   "cell_type": "code",
   "execution_count": null,
   "metadata": {},
   "outputs": [],
   "source": [
    "detect_processor.latest_job.wait()"
   ]
  },
  {
   "cell_type": "code",
   "execution_count": null,
   "metadata": {},
   "outputs": [],
   "source": [
    "!rm -rf detect_output\n",
    "!mkdir detect_output\n",
    "!aws s3 sync {detect_output}/exp detect_output"
   ]
  },
  {
   "cell_type": "code",
   "execution_count": null,
   "metadata": {},
   "outputs": [],
   "source": [
    "detect_result = []\n",
    "for img_path in glob.glob('./detect_output/*/*'):\n",
    "    if img_path.split('.')[-1] in ['jpg','png']:\n",
    "        detect_result.append(mpimg.imread(img_path))"
   ]
  },
  {
   "cell_type": "code",
   "execution_count": null,
   "metadata": {},
   "outputs": [],
   "source": [
    "ipyplot.plot_images(detect_result, max_images=2, img_width=250)"
   ]
  },
  {
   "cell_type": "markdown",
   "metadata": {},
   "source": [
    "### Code repository 생성 및 push"
   ]
  },
  {
   "cell_type": "code",
   "execution_count": null,
   "metadata": {},
   "outputs": [],
   "source": [
    "\n",
    "iam_client = boto3.client('iam')\n",
    "\n",
    "role=get_execution_role()\n",
    "base_role_name=role.split('/')[-1]\n",
    "\n",
    "iam_client.attach_role_policy(\n",
    "    RoleName=base_role_name,\n",
    "    PolicyArn='arn:aws:iam::aws:policy/AWSCodeCommitFullAccess'\n",
    ")"
   ]
  },
  {
   "cell_type": "code",
   "execution_count": null,
   "metadata": {},
   "outputs": [],
   "source": [
    "codecommit = boto3.client('codecommit')\n",
    "repository_name = 'yolov5'\n",
    "\n",
    "try:\n",
    "    response = codecommit.create_repository(\n",
    "        repositoryName=repository_name,\n",
    "        repositoryDescription='Data Scientists share their training code using this Repository'\n",
    "    )\n",
    "except:\n",
    "    \n",
    "    print(\"Repository already exists\")\n",
    "    response = codecommit.get_repository(\n",
    "        repositoryName=repository_name\n",
    "    )"
   ]
  },
  {
   "cell_type": "code",
   "execution_count": null,
   "metadata": {},
   "outputs": [],
   "source": [
    "code_commit_repo = response['repositoryMetadata']['cloneUrlHttp']\n",
    "code_commit_repo"
   ]
  },
  {
   "cell_type": "code",
   "execution_count": null,
   "metadata": {},
   "outputs": [],
   "source": [
    "!sudo rm -rf ./yolov5/.git/"
   ]
  },
  {
   "cell_type": "code",
   "execution_count": null,
   "metadata": {},
   "outputs": [],
   "source": [
    "!git init\n",
    "!git remote add repo_codecommit $code_commit_repo\n",
    "!git checkout -b main\n",
    "!git add yolov5\n",
    "!git commit -m \"yolov5-update\"\n",
    "!git push --set-upstream repo_codecommit main"
   ]
  },
  {
   "cell_type": "markdown",
   "metadata": {},
   "source": [
    "### Pipeline에 필요한 값 저장하기"
   ]
  },
  {
   "cell_type": "code",
   "execution_count": null,
   "metadata": {},
   "outputs": [],
   "source": [
    "%store bucket image_uri inf_image_uri artifacts_dir code_commit_repo"
   ]
  },
  {
   "cell_type": "code",
   "execution_count": null,
   "metadata": {},
   "outputs": [],
   "source": []
  }
 ],
 "metadata": {
  "instance_type": "ml.c5.large",
  "kernelspec": {
   "display_name": "conda_pytorch_p38",
   "language": "python",
   "name": "conda_pytorch_p38"
  },
  "language_info": {
   "codemirror_mode": {
    "name": "ipython",
    "version": 3
   },
   "file_extension": ".py",
   "mimetype": "text/x-python",
   "name": "python",
   "nbconvert_exporter": "python",
   "pygments_lexer": "ipython3",
   "version": "3.8.12"
  }
 },
 "nbformat": 4,
 "nbformat_minor": 4
}
