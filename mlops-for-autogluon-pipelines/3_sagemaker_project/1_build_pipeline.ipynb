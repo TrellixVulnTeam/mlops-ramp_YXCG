{
 "cells": [
  {
   "cell_type": "markdown",
   "metadata": {},
   "source": [
    "# [모듈 3-1] 프로젝트에 파이프라인 추가하기\n",
    "1. pipelines 폴더에 farud 폴더 추가, abalon 폴더의 파일을 붙여넣기\n",
    "2. dataset, config을 pipeline bucket에 복사하기\n",
    "3. 모듈 2에서 만든 코드를 pipeline.py에 적용하기\n",
    "    * ag_model.py 복사\n",
    "    * src 폴더 복사\n",
    "    * pipeline.py 수정\n",
    "        - 모듈 2 노트북 코드 적용\n",
    "4. codebuild-buildspec.yml 수정하기\n",
    "    * module-name을 pipelines.fraud.pipeline 으로 변경 \n",
    "5. build repository 커밋/푸쉬 하기\n",
    "    * echo '.ipynb_checkpoints' >> .gitignore 수행하여 노트북 임시파일 제외\n",
    "    "
   ]
  },
  {
   "cell_type": "markdown",
   "metadata": {},
   "source": [
    "## 프로젝트 기본 설정"
   ]
  },
  {
   "cell_type": "code",
   "execution_count": 3,
   "metadata": {},
   "outputs": [],
   "source": [
    "project_name = 'ramp-009'\n",
    "project_id = 'p-bxaymmntwwf7'\n",
    "project_path = f'~/{project_name}-{project_id}/sagemaker-{project_name}-{project_id}-modelbuild'"
   ]
  },
  {
   "cell_type": "markdown",
   "metadata": {},
   "source": [
    "## S3에 학습용 데이터 업로드"
   ]
  },
  {
   "cell_type": "code",
   "execution_count": 8,
   "metadata": {},
   "outputs": [
    {
     "name": "stdout",
     "output_type": "stream",
     "text": [
      "upload: ../data/dataset/test.csv to s3://sagemaker-project-p-bxaymmntwwf7/autogluon/dataset/test.csv\n",
      "upload: ../data/dataset/train.csv to s3://sagemaker-project-p-bxaymmntwwf7/autogluon/dataset/train.csv\n",
      "upload: ../config/config-full.yaml to s3://sagemaker-project-p-bxaymmntwwf7/autogluon/config/config-full.yaml\n",
      "upload: ../config/config-med.yaml to s3://sagemaker-project-p-bxaymmntwwf7/autogluon/config/config-med.yaml\n"
     ]
    }
   ],
   "source": [
    "!aws s3 sync ../data/dataset s3://sagemaker-project-{project_id}/autogluon/dataset\n",
    "!aws s3 sync ../config s3://sagemaker-project-{project_id}/autogluon/config"
   ]
  },
  {
   "cell_type": "markdown",
   "metadata": {},
   "source": [
    "## 완성본 코드 적용"
   ]
  },
  {
   "cell_type": "code",
   "execution_count": 4,
   "metadata": {},
   "outputs": [],
   "source": [
    "!cp ./fraud {project_path}/pipelines/ -r"
   ]
  },
  {
   "cell_type": "code",
   "execution_count": 9,
   "metadata": {},
   "outputs": [],
   "source": [
    "!cp ./codebuild-buildspec.yml {project_path}/"
   ]
  },
  {
   "cell_type": "markdown",
   "metadata": {},
   "source": [
    "## 완성본 코드 커밋\n",
    "터미널에서 modelbuild 리포지토리 경로로 이동한 후 아래 코드를 순차로 실행\n",
    "\n",
    "* git add *\n",
    "* git config --global user.email \"you@example.com\"\n",
    "* git config --global user.name \"Your Name\"\n",
    "* git commit -m \"pipeline update\""
   ]
  },
  {
   "cell_type": "code",
   "execution_count": null,
   "metadata": {},
   "outputs": [],
   "source": []
  }
 ],
 "metadata": {
  "instance_type": "ml.t3.medium",
  "kernelspec": {
   "display_name": "Python 3 (Data Science)",
   "language": "python",
   "name": "python3__SAGEMAKER_INTERNAL__arn:aws:sagemaker:ap-northeast-2:806072073708:image/datascience-1.0"
  },
  "language_info": {
   "codemirror_mode": {
    "name": "ipython",
    "version": 3
   },
   "file_extension": ".py",
   "mimetype": "text/x-python",
   "name": "python",
   "nbconvert_exporter": "python",
   "pygments_lexer": "ipython3",
   "version": "3.7.10"
  }
 },
 "nbformat": 4,
 "nbformat_minor": 4
}
